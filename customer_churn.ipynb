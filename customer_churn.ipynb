{
  "cells": [
    {
      "cell_type": "markdown",
      "metadata": {
        "papermill": {
          "duration": 0.164121,
          "end_time": "2021-11-25T04:34:05.008833",
          "exception": false,
          "start_time": "2021-11-25T04:34:04.844712",
          "status": "completed"
        },
        "tags": [],
        "id": "vdNOHxRpFHZm"
      },
      "source": [
        "<header><h1 style=\"color:#323232;font-size:70px;font-family:Georgia;text-align:center;\"><strong>Customers <strong style=\"color:#2c2bce;font-size:58px;font-family:Georgia;\">Churn <strong style=\"color:#323232;font-size:70px;font-family:Georgia;\">Predictions </strong></strong></strong></h1></header>\n",
        "\n",
        "<h2><p style=\"background-color:#FFFFFf;font-family:Georgia;color:#2c2bce;font-size:125%;text-align:center;border-radius:10px 10px;border-style: dotted;border-width:5px;border-color:#323232;\"><b>\"A Satisfied Customer Is The Best Business Strategy Of All.”</b></p></h2>\n",
        "\n",
        "\n",
        "![Customer-Churn-992x594.jpg](attachment:bc22645d-d2e1-4854-94bc-ad660300f077.jpg)"
      ],
      "id": "vdNOHxRpFHZm"
    },
    {
      "cell_type": "markdown",
      "metadata": {
        "papermill": {
          "duration": 0.094364,
          "end_time": "2021-11-25T04:34:05.195730",
          "exception": false,
          "start_time": "2021-11-25T04:34:05.101366",
          "status": "completed"
        },
        "tags": [],
        "id": "HSsTpOFjFHas"
      },
      "source": [
        "<h1 style=\"color:#323232;font-size:60px;font-family:Georgia;text-align:center;\"><strong>🌟What <strong style=\"color:#2c2bce;font-size:50px;font-family:Georgia;\">Is <strong style=\"color:#323232;font-size:60px;font-family:Georgia;\">Customer <strong style=\"color:#2c2bce;font-size:50px;font-family:Georgia;\">Churn <strong style=\"color:#323232;font-size:60px;font-family:Georgia;\">?</strong></strong></strong></strong></strong></h1>\n",
        "\n",
        "\n",
        "<p style= \"font-family:Georgia;color:#000000;font-size:110%;text-align:center;border-radius:10px 10px;border-style: dotted;border-width:5px;border-color:#323232;\"><br>\n",
        "Customer churn or customer attrition is the phenomenon where customers of a business no longer purchase or interact with the business. A high churn means that higher number of customers no longer want to purchase goods and services from the business.<br>Customer churn is one of the most important metrics for a growing business to evaluate.While it's not the happiest measure, it's a number that can give your company the hard truth about its customer retention.<br>\n",
        "Customer churn is the percentage of customers that stopped using your company's product or service during a certain time frame.<br>\n",
        "It's hard to measure success if you don't measure the inevitable failures, too. While you strive for 100% of customers to stick with your company, that's simply unrealistic. That's where customer churn comes in.<br>\n",
        "    <br></p>\n",
        "<p style= \"font-family:Georgia;color:#2c2bce;font-size:110%;text-align:center;border-radius:10px 10px;border-style: dotted;border-width:5px;border-color:#323232;\"><br><b>Usually Company,calculates the churn rate as the percentage of customers lost that quarter. From which you can get the below results:-<br>\n",
        "1. The number of customers lost.<br>\n",
        "2. The value of recurring business lost.<br>\n",
        "3. The percentage of recurring value lost.<br>\n",
        "   <br> </b></p>\n"
      ],
      "id": "HSsTpOFjFHas"
    },
    {
      "cell_type": "markdown",
      "metadata": {
        "papermill": {
          "duration": 0.091582,
          "end_time": "2021-11-25T04:34:05.380697",
          "exception": false,
          "start_time": "2021-11-25T04:34:05.289115",
          "status": "completed"
        },
        "tags": [],
        "id": "LmdmLE34FHat"
      },
      "source": [
        "<h1 style=\"color:#323232;font-size:60px;font-family:Georgia;text-align:center;\"><strong>🌟How  <strong style=\"color:#2c2bce;font-size:50px;font-family:Georgia;\">We <strong style=\"color:#323232;font-size:60px;font-family:Georgia;\">Can <strong style=\"color:#2c2bce;font-size:50px;font-family:Georgia;\">Calculate <strong style=\"color:#323232;font-size:60px;font-family:Georgia;\">Customer <strong style=\"color:#2c2bce;font-size:50px;font-family:Georgia;\">Churn <strong style=\"color:#323232;font-size:60px;font-family:Georgia;\">Rate <strong style=\"color:#2c2bce;font-size:50px;font-family:Georgia;\">?</strong></strong></strong></strong></strong></strong></strong></strong></h1>\n",
        "\n",
        "\n",
        "<p style= \"font-family:Georgia;color:#000000;font-size:110%;text-align:center;border-radius:10px 10px;border-style: dotted;border-width:5px;border-color:#323232;\"><br>\n",
        "    Customer churn rate is the number of customers you have lost divided by the total number of customers.  To have an estimate you can segment your customers on the basis of the frequency of their purchase.<br>\n",
        "</p>\n",
        "\n",
        "<header><h2><p style=\"background-color:#FFFFF;font-family:Georgia;color:#2c2bce;font-size:110%;text-align:center;border-radius:10px 10px;border-style: dotted;border-width:5px;border-color:#323232;\"><br>\n",
        "    <b>Customer Churn Rate = No. of Customers lost/Total no. of customers (Period) x 100 <br>\n",
        "    <br></b></p></h2></header>\n",
        "\n"
      ],
      "id": "LmdmLE34FHat"
    },
    {
      "cell_type": "markdown",
      "metadata": {
        "papermill": {
          "duration": 0.095839,
          "end_time": "2021-11-25T04:34:05.570284",
          "exception": false,
          "start_time": "2021-11-25T04:34:05.474445",
          "status": "completed"
        },
        "tags": [],
        "id": "fl3eoI91FHaw"
      },
      "source": [
        "<h1 style=\"color:#323232;font-size:60px;font-family:Georgia;text-align:center;\"><strong>🌟What <strong style=\"color:#2c2bce;font-size:50px;font-family:Georgia;\">Is <strong style=\"color:#323232;font-size:60px;font-family:Georgia;\">The <strong style=\"color:#2c2bce;font-size:50px;font-family:Georgia;\">Reason <strong style=\"color:#323232;font-size:60px;font-family:Georgia;\">To <strong style=\"color:#2c2bce;font-size:50px;font-family:Georgia;\">Analysis <strong style=\"color:#323232;font-size:60px;font-family:Georgia;\">Customer <strong style=\"color:#2c2bce;font-size:50px;font-family:Georgia;\">Churn <strong style=\"color:#323232;font-size:60px;font-family:Georgia;\">? </strong></strong></strong></strong></strong></strong></strong></strong></strong></h1>\n",
        "\n",
        "\n",
        "<p style= \"font-family:Georgia;color:#000000;font-size:110%;text-align:center;border-radius:10px 10px;border-style: dotted;border-width:5px;border-color:#323232;\"><br>\n",
        "    There are two reasons for this:<br>\n",
        "1. Before you want to find solutions to improve your churn rate you should know what is causing it in the first place.<br>\n",
        "2. If you have implemented a solution to reduce the churn then you should know if its working or not.<br>\n",
        "    <br></p>\n"
      ],
      "id": "fl3eoI91FHaw"
    },
    {
      "cell_type": "markdown",
      "metadata": {
        "papermill": {
          "duration": 0.095596,
          "end_time": "2021-11-25T04:34:05.761390",
          "exception": false,
          "start_time": "2021-11-25T04:34:05.665794",
          "status": "completed"
        },
        "tags": [],
        "id": "ARJseKlzFHa2"
      },
      "source": [
        "<h1 style=\"color:#323232;font-size:60px;font-family:Georgia;text-align:center;\"><strong>🌟What <strong style=\"color:#2c2bce;font-size:50px;font-family:Georgia;\">Happens <strong style=\"color:#323232;font-size:60px;font-family:Georgia;\">When <strong style=\"color:#2c2bce;font-size:50px;font-family:Georgia;\">The <strong style=\"color:#323232;font-size:60px;font-family:Georgia;\">Churn <strong style=\"color:#2c2bce;font-size:50px;font-family:Georgia;\">Rate <strong style=\"color:#323232;font-size:60px;font-family:Georgia;\">Increases <strong style=\"color:#2c2bce;font-size:50px;font-family:Georgia;\">?</strong></strong></strong></strong></strong></strong></strong></strong></h1>\n",
        "\n",
        "\n",
        "<p style= \"font-family:Georgia;color:#000000;font-size:110%;text-align:center;border-radius:10px 10px;border-style: dotted;border-width:5px;border-color:#323232;\"><br>\n",
        "    When the churn rate increases it will be a negative impact on a business:<br>\n",
        "1. Cost of acquiring new customers is significantly higher than retention costs.<br>\n",
        "2.The rate of selling to an existing customer is at an average 60% higher than selling to a customer who is not familiar with your brand.<br>\n",
        "3.Existing customers, when satisfied are an excellent source for brand promotions through the organic spread of “word of mouth”. In other words, they become your brand promoters and recommend your brand to others, thereby increasing your overall customer base without you having to spend more on customer acquisition.<br>\n",
        "    <br></p>\n"
      ],
      "id": "ARJseKlzFHa2"
    },
    {
      "cell_type": "markdown",
      "metadata": {
        "papermill": {
          "duration": 0.095224,
          "end_time": "2021-11-25T04:34:05.951608",
          "exception": false,
          "start_time": "2021-11-25T04:34:05.856384",
          "status": "completed"
        },
        "tags": [],
        "id": "fSgpaNgfFHa3"
      },
      "source": [
        "<h1 style=\"color:#323232;font-size:56px;font-family:Georgia;text-align:center;\"><strong>🌟How <strong style=\"color:#2c2bce;font-size:50px;font-family:Georgia;\">To <strong style=\"color:#323232;font-size:56px;font-family:Georgia;\">Reduce <strong style=\"color:#2c2bce;font-size:50px;font-family:Georgia;\">Customer <strong style=\"color:#323232;font-size:56px;font-family:Georgia;\">Churn <strong style=\"color:#2c2bce;font-size:50px;font-family:Georgia;\">? </strong></strong></strong></strong></strong></strong></h1>\n",
        "<p style= \"font-family:Georgia;color:#000000;font-size:110%;text-align:center;border-radius:10px 10px;border-style: dotted;border-width:5px;border-color:#323232;\"><br>\n",
        "    We can do the following things.<br>\n",
        "1. Focus your attention on your best customers.<br>\n",
        "2. Analyze churn as it occurs.<br>\n",
        "3. Show your customers that you care.<br>\n",
        "4. Ask your customers the right questions.<br>\n",
        "5. Offer more than usual to your loyal customers.<br>\n",
        "    <br></p>"
      ],
      "id": "fSgpaNgfFHa3"
    },
    {
      "cell_type": "markdown",
      "metadata": {
        "papermill": {
          "duration": 0.092988,
          "end_time": "2021-11-25T04:34:06.136122",
          "exception": false,
          "start_time": "2021-11-25T04:34:06.043134",
          "status": "completed"
        },
        "tags": [],
        "id": "_Ro0tIS7FHa4"
      },
      "source": [
        "<h1 style=\"color:#323232;font-size:60px;font-family:Georgia;text-align:center;\"><strong>✔️What's <strong style=\"color:#2c2bce;font-size:50px;font-family:Georgia;\">This <strong style=\"color:#323232;font-size:60px;font-family:Georgia;\">Kernel <strong style=\"color:#2c2bce;font-size:50px;font-family:Georgia;\">Is <strong style=\"color:#323232;font-size:60px;font-family:Georgia;\">bout <strong style=\"color:#2c2bce;font-size:50px;font-family:Georgia;\">?</strong></strong></strong></strong></strong></strong></h1>\n",
        "\n",
        "\n",
        "<p style= \"font-family:Georgia;color:#000000;font-size:110%;text-align:center;border-radius:10px 10px;border-style: dotted;border-width:5px;border-color:#323232;\"><br>\n",
        "    In this Notebook, I will try to do detailed Exploratory data analysis(EDA) on Credit Card Dataset with Visualization. \n",
        "Here, I will try to do univariate and bivariate at the same time.Let's extract different insights from data that help to find the behavior of the churned customer.\n",
        "From which we can provide them better services and turn customers' decisions in the opposite direction.\n",
        "Also,my goal is to predict customer churn from the dataset and gain some insights on how the bank can reduce the customers who have churned.<br>\n",
        "<br></p>\n",
        "\n"
      ],
      "id": "_Ro0tIS7FHa4"
    },
    {
      "cell_type": "markdown",
      "metadata": {
        "papermill": {
          "duration": 0.091139,
          "end_time": "2021-11-25T04:34:06.318419",
          "exception": false,
          "start_time": "2021-11-25T04:34:06.227280",
          "status": "completed"
        },
        "tags": [],
        "id": "qFSsNZlJFHa5"
      },
      "source": [
        "<h1 style=\"color:#323232;font-size:60px;font-family:Georgia;text-align:center;\"><strong>✔️About <strong style=\"color:#2c2bce;font-size:50px;font-family:Georgia;\">Of <strong style=\"color:#323232;font-size:60px;font-family:Georgia;\">The <strong style=\"color:#2c2bce;font-size:50px;font-family:Georgia;\">Dataset <strong style=\"color:#323232;font-size:60px;font-family:Georgia;\">:-</strong></strong></strong></strong></strong></h1>\n",
        "\n",
        "<p style=\"background-color:#FFFFF;font-family:Georgia;color:#2c2bce;font-size:125%;text-align:center;border-radius:10px 10px;border-style: dotted;border-width:5px;border-color:#323232;\"><br>1.CLIENTNUM - Client number. Unique identifier for the customer holding the account.<br>\n",
        "2.Attrition_Flag - Internal event (customer activity) variable - if the account is closed then 1 else 0.<br>\n",
        "3.Customer_Age -Demographic variable - Customer's Age in Years.<br>\n",
        "4.Gender - Demographic variable - M=Male, F=Female.<br>\n",
        "5.Dependent_count - Demographic variable - Number of dependents.<br>\n",
        "6.Education_Level - Demographic variable - Educational Qualification of the account holder (example: high school).<br>\n",
        "7.Marital_Status - Demographic variable - Married, Single, Divorced, Unknown.<br>\n",
        "8.Income_Category - Demographic variable - Annual Income Category of the account holder.<br>\n",
        "9.Card_Category - Product Variable - Type of Card (Blue, Silver, Gold, Platinum).<br>\n",
        "10.Months_on_book - Period of relationship with bank.<br>\n",
        "11.Total_Relationship_Count-Total no. of products held by the customer.<br>\n",
        "12.Months_Inactive_12_mon - No. of months inactive in the last 12 months.<br>\n",
        "13.Contacts_Count_12_mon-No. of Contacts in the last 12 months.<br>\n",
        "14.Credit_Limit-Credit Limit on the Credit Card.<br>\n",
        "15.Total_Revolving_Bal-Total Revolving Balance on the Credit Card.<br>\n",
        "16.Avg_Open_To_Buy-Open to Buy Credit Line (Average of last 12 months).<br>\n",
        "17.Total_Amt_Chng_Q4_Q1- Open to Buy Credit Line (Average of last 12 months).<br>\n",
        "18.Total_Trans_Amt-Total Transaction Amount (Last 12 months).<br>\n",
        "19.Total_Trans_Ct- Total Transaction Count (Last 12 months).<br>\n",
        "20.Total_Ct_Chng_Q4_Q1-Change in Transaction Count (Q4 over Q1).<br>\n",
        "21.Avg_Utilization_Ratio-Average Card Utilization Ratio.<br>\n",
        "    </p>"
      ],
      "id": "qFSsNZlJFHa5"
    },
    {
      "cell_type": "markdown",
      "metadata": {
        "papermill": {
          "duration": 0.102446,
          "end_time": "2021-11-25T04:34:06.511971",
          "exception": false,
          "start_time": "2021-11-25T04:34:06.409525",
          "status": "completed"
        },
        "tags": [],
        "id": "0J5Jlm9PFHa7"
      },
      "source": [
        "<h1 style=\"color:#323232;font-size:60px;font-family:Georgia;text-align:center;\"><strong>📋Contents <strong style=\"color:#2c2bce;font-size:50px;font-family:Georgia;\">Of <strong style=\"color:#323232;font-size:60px;font-family:Georgia;\">The <strong style=\"color:#2c2bce;font-size:50px;font-family:Georgia;\">Notebook <strong style=\"color:#323232;font-size:60px;font-family:Georgia;\">:-</strong></strong></strong></strong></strong></h1>\n",
        "\n",
        "   \n",
        "* [1. Import The Libraries](#1)\n",
        "* [2. Loading The Dataset.](#2)  \n",
        "* [3. Meta Info Of The Dataframe](#3)\n",
        "* [4. Checking NAN Values.](#4)      \n",
        "* [5. Finding The Duplicate Records.](#5)    \n",
        "* [6. Basic Statistics.](#6)       \n",
        "* [7. Detecting The Outliers.](#7)    \n",
        "* [8. EDA & Visualization On Numerical Analysis.](#8)    \n",
        "* [9. EDA & Visualization On Categorical Analysis.](#9)  \n",
        "* [10. Visualize The Correlation Between Dependent And Independent Features.](#10)  \n",
        "* [11. Encoding The Features.](#11)\n",
        "* [12. Scaling The Features.](#12)        \n",
        "* [13. Split Train & Test.](#13)    \n",
        "* [14. Visualize Model Score.](#14)   \n",
        "* [15. Hyper Parameter Tuning.](#15)      \n",
        "* [16. Checking The Best Estimators.](#16)          \n",
        "* [17. Train The Model With Best HyperParameters.](#17)    \n",
        "* [18. Plotting The Confusion Matrix.](#18)    \n",
        "* [19.Feature Importances.](#19)      \n",
        "* [20. Conclusion.](#20)  \n",
        "* [21. Credits.](#20)  "
      ],
      "id": "0J5Jlm9PFHa7"
    },
    {
      "cell_type": "markdown",
      "metadata": {
        "papermill": {
          "duration": 0.091069,
          "end_time": "2021-11-25T04:34:06.707496",
          "exception": false,
          "start_time": "2021-11-25T04:34:06.616427",
          "status": "completed"
        },
        "tags": [],
        "id": "RNrISCPDFHa8"
      },
      "source": [
        "<a id=\"1\"></a>\n",
        "<h1 style=\"color:#323232;font-size:55px;font-family:Georgia;text-align:center;\">📥<strong>Import <strong style=\"color:#2c2bce;font-size:40px;font-family:Georgia;\">The <strong style=\"color:#323232;font-size:55px;font-family:Georgia;\">Libraries <strong style=\"color:#2c2bce;font-size:40px;font-family:Georgia;\">:- </strong></strong></strong></strong></h1>\n"
      ],
      "id": "RNrISCPDFHa8"
    },
    {
      "cell_type": "code",
      "execution_count": 7,
      "metadata": {
        "_kg_hide-input": true,
        "execution": {
          "iopub.execute_input": "2021-11-25T04:34:06.899456Z",
          "iopub.status.busy": "2021-11-25T04:34:06.898553Z",
          "iopub.status.idle": "2021-11-25T04:34:08.840364Z",
          "shell.execute_reply": "2021-11-25T04:34:08.839719Z",
          "shell.execute_reply.started": "2021-11-12T16:51:53.607995Z"
        },
        "papermill": {
          "duration": 2.041523,
          "end_time": "2021-11-25T04:34:08.840535",
          "exception": false,
          "start_time": "2021-11-25T04:34:06.799012",
          "status": "completed"
        },
        "tags": [],
        "id": "JLHuLxz8FHa9"
      },
      "outputs": [],
      "source": [
        "#IMPORT THE LIBRARIES....\n",
        "import numpy as np # linear algebra....\n",
        "import pandas as pd # data processing, CSV file I/O (e.g. pd.read_csv)....\n",
        "from matplotlib import pyplot as plt #Visualization of the data....\n",
        "import warnings\n",
        "warnings.filterwarnings(\"ignore\")\n",
        "pd.set_option(\"display.max_columns\",None)\n",
        "pd.set_option(\"display.max_rows\",None)\n",
        "import plotly.graph_objs as go\n",
        "import matplotlib as mpl\n",
        "import matplotlib.patches as mpatches\n",
        "import seaborn as sns\n",
        "import plotly.express as px\n",
        "from sklearn.preprocessing import StandardScaler\n",
        "from plotly import tools\n",
        "from plotly.subplots import make_subplots\n",
        "from plotly.offline import iplot"
      ],
      "id": "JLHuLxz8FHa9"
    },
    {
      "cell_type": "markdown",
      "metadata": {
        "papermill": {
          "duration": 0.091453,
          "end_time": "2021-11-25T04:34:09.227143",
          "exception": false,
          "start_time": "2021-11-25T04:34:09.135690",
          "status": "completed"
        },
        "tags": [],
        "id": "Rgf9U7nKFHbJ"
      },
      "source": [
        "\n",
        "<h1 style=\"color:#323232;font-size:55px;font-family:Georgia;text-align:center;\">🔌<strong>Loading <strong style=\"color:#2c2bce;font-size:40px;font-family:Georgia;\">The <strong style=\"color:#323232;font-size:55px;font-family:Georgia;\">Dataset <strong style=\"color:#2c2bce;font-size:40px;font-family:Georgia;\">:- </strong></strong></strong></strong></h1>\n"
      ],
      "id": "Rgf9U7nKFHbJ"
    },
    {
      "cell_type": "code",
      "execution_count": 8,
      "metadata": {
        "_kg_hide-input": true,
        "execution": {
          "iopub.execute_input": "2021-11-25T04:34:09.414164Z",
          "iopub.status.busy": "2021-11-25T04:34:09.413581Z",
          "iopub.status.idle": "2021-11-25T04:34:09.570859Z",
          "shell.execute_reply": "2021-11-25T04:34:09.571321Z",
          "shell.execute_reply.started": "2021-11-12T16:51:56.179828Z"
        },
        "papermill": {
          "duration": 0.252219,
          "end_time": "2021-11-25T04:34:09.571484",
          "exception": false,
          "start_time": "2021-11-25T04:34:09.319265",
          "status": "completed"
        },
        "tags": [],
        "colab": {
          "base_uri": "https://localhost:8080/",
          "height": 346
        },
        "id": "De7_-SvIFHbJ",
        "outputId": "d4cd34eb-8059-47bf-93fd-87d9605a4b20"
      },
      "outputs": [
        {
          "output_type": "error",
          "ename": "FileNotFoundError",
          "evalue": "ignored",
          "traceback": [
            "\u001b[0;31m---------------------------------------------------------------------------\u001b[0m",
            "\u001b[0;31mFileNotFoundError\u001b[0m                         Traceback (most recent call last)",
            "\u001b[0;32m<ipython-input-8-addf1dfe904f>\u001b[0m in \u001b[0;36m<module>\u001b[0;34m()\u001b[0m\n\u001b[0;32m----> 1\u001b[0;31m \u001b[0mdf\u001b[0m\u001b[0;34m=\u001b[0m\u001b[0mpd\u001b[0m\u001b[0;34m.\u001b[0m\u001b[0mread_csv\u001b[0m\u001b[0;34m(\u001b[0m\u001b[0;34m\"BankChurners.csv\"\u001b[0m\u001b[0;34m)\u001b[0m\u001b[0;34m\u001b[0m\u001b[0;34m\u001b[0m\u001b[0m\n\u001b[0m\u001b[1;32m      2\u001b[0m \u001b[0mdf\u001b[0m\u001b[0;34m.\u001b[0m\u001b[0mhead\u001b[0m\u001b[0;34m(\u001b[0m\u001b[0;34m)\u001b[0m\u001b[0;34m.\u001b[0m\u001b[0mstyle\u001b[0m\u001b[0;34m.\u001b[0m\u001b[0mset_properties\u001b[0m\u001b[0;34m(\u001b[0m\u001b[0;34m**\u001b[0m\u001b[0;34m{\u001b[0m\u001b[0;34m\"background-color\"\u001b[0m\u001b[0;34m:\u001b[0m \u001b[0;34m\"black\"\u001b[0m\u001b[0;34m,\u001b[0m\u001b[0;34m\"color\"\u001b[0m\u001b[0;34m:\u001b[0m \u001b[0;34m\"white\"\u001b[0m\u001b[0;34m,\u001b[0m \u001b[0;34m\"border-color\"\u001b[0m\u001b[0;34m:\u001b[0m \u001b[0;34m\"black\"\u001b[0m\u001b[0;34m,\u001b[0m\u001b[0;34m\"font-size\"\u001b[0m\u001b[0;34m:\u001b[0m\u001b[0;34m\"11.5pt\"\u001b[0m\u001b[0;34m,\u001b[0m\u001b[0;34m'width'\u001b[0m\u001b[0;34m:\u001b[0m \u001b[0;36m200\u001b[0m\u001b[0;34m}\u001b[0m\u001b[0;34m)\u001b[0m\u001b[0;34m\u001b[0m\u001b[0;34m\u001b[0m\u001b[0m\n",
            "\u001b[0;32m/usr/local/lib/python3.7/dist-packages/pandas/util/_decorators.py\u001b[0m in \u001b[0;36mwrapper\u001b[0;34m(*args, **kwargs)\u001b[0m\n\u001b[1;32m    309\u001b[0m                     \u001b[0mstacklevel\u001b[0m\u001b[0;34m=\u001b[0m\u001b[0mstacklevel\u001b[0m\u001b[0;34m,\u001b[0m\u001b[0;34m\u001b[0m\u001b[0;34m\u001b[0m\u001b[0m\n\u001b[1;32m    310\u001b[0m                 )\n\u001b[0;32m--> 311\u001b[0;31m             \u001b[0;32mreturn\u001b[0m \u001b[0mfunc\u001b[0m\u001b[0;34m(\u001b[0m\u001b[0;34m*\u001b[0m\u001b[0margs\u001b[0m\u001b[0;34m,\u001b[0m \u001b[0;34m**\u001b[0m\u001b[0mkwargs\u001b[0m\u001b[0;34m)\u001b[0m\u001b[0;34m\u001b[0m\u001b[0;34m\u001b[0m\u001b[0m\n\u001b[0m\u001b[1;32m    312\u001b[0m \u001b[0;34m\u001b[0m\u001b[0m\n\u001b[1;32m    313\u001b[0m         \u001b[0;32mreturn\u001b[0m \u001b[0mwrapper\u001b[0m\u001b[0;34m\u001b[0m\u001b[0;34m\u001b[0m\u001b[0m\n",
            "\u001b[0;32m/usr/local/lib/python3.7/dist-packages/pandas/io/parsers/readers.py\u001b[0m in \u001b[0;36mread_csv\u001b[0;34m(filepath_or_buffer, sep, delimiter, header, names, index_col, usecols, squeeze, prefix, mangle_dupe_cols, dtype, engine, converters, true_values, false_values, skipinitialspace, skiprows, skipfooter, nrows, na_values, keep_default_na, na_filter, verbose, skip_blank_lines, parse_dates, infer_datetime_format, keep_date_col, date_parser, dayfirst, cache_dates, iterator, chunksize, compression, thousands, decimal, lineterminator, quotechar, quoting, doublequote, escapechar, comment, encoding, encoding_errors, dialect, error_bad_lines, warn_bad_lines, on_bad_lines, delim_whitespace, low_memory, memory_map, float_precision, storage_options)\u001b[0m\n\u001b[1;32m    584\u001b[0m     \u001b[0mkwds\u001b[0m\u001b[0;34m.\u001b[0m\u001b[0mupdate\u001b[0m\u001b[0;34m(\u001b[0m\u001b[0mkwds_defaults\u001b[0m\u001b[0;34m)\u001b[0m\u001b[0;34m\u001b[0m\u001b[0;34m\u001b[0m\u001b[0m\n\u001b[1;32m    585\u001b[0m \u001b[0;34m\u001b[0m\u001b[0m\n\u001b[0;32m--> 586\u001b[0;31m     \u001b[0;32mreturn\u001b[0m \u001b[0m_read\u001b[0m\u001b[0;34m(\u001b[0m\u001b[0mfilepath_or_buffer\u001b[0m\u001b[0;34m,\u001b[0m \u001b[0mkwds\u001b[0m\u001b[0;34m)\u001b[0m\u001b[0;34m\u001b[0m\u001b[0;34m\u001b[0m\u001b[0m\n\u001b[0m\u001b[1;32m    587\u001b[0m \u001b[0;34m\u001b[0m\u001b[0m\n\u001b[1;32m    588\u001b[0m \u001b[0;34m\u001b[0m\u001b[0m\n",
            "\u001b[0;32m/usr/local/lib/python3.7/dist-packages/pandas/io/parsers/readers.py\u001b[0m in \u001b[0;36m_read\u001b[0;34m(filepath_or_buffer, kwds)\u001b[0m\n\u001b[1;32m    480\u001b[0m \u001b[0;34m\u001b[0m\u001b[0m\n\u001b[1;32m    481\u001b[0m     \u001b[0;31m# Create the parser.\u001b[0m\u001b[0;34m\u001b[0m\u001b[0;34m\u001b[0m\u001b[0;34m\u001b[0m\u001b[0m\n\u001b[0;32m--> 482\u001b[0;31m     \u001b[0mparser\u001b[0m \u001b[0;34m=\u001b[0m \u001b[0mTextFileReader\u001b[0m\u001b[0;34m(\u001b[0m\u001b[0mfilepath_or_buffer\u001b[0m\u001b[0;34m,\u001b[0m \u001b[0;34m**\u001b[0m\u001b[0mkwds\u001b[0m\u001b[0;34m)\u001b[0m\u001b[0;34m\u001b[0m\u001b[0;34m\u001b[0m\u001b[0m\n\u001b[0m\u001b[1;32m    483\u001b[0m \u001b[0;34m\u001b[0m\u001b[0m\n\u001b[1;32m    484\u001b[0m     \u001b[0;32mif\u001b[0m \u001b[0mchunksize\u001b[0m \u001b[0;32mor\u001b[0m \u001b[0miterator\u001b[0m\u001b[0;34m:\u001b[0m\u001b[0;34m\u001b[0m\u001b[0;34m\u001b[0m\u001b[0m\n",
            "\u001b[0;32m/usr/local/lib/python3.7/dist-packages/pandas/io/parsers/readers.py\u001b[0m in \u001b[0;36m__init__\u001b[0;34m(self, f, engine, **kwds)\u001b[0m\n\u001b[1;32m    809\u001b[0m             \u001b[0mself\u001b[0m\u001b[0;34m.\u001b[0m\u001b[0moptions\u001b[0m\u001b[0;34m[\u001b[0m\u001b[0;34m\"has_index_names\"\u001b[0m\u001b[0;34m]\u001b[0m \u001b[0;34m=\u001b[0m \u001b[0mkwds\u001b[0m\u001b[0;34m[\u001b[0m\u001b[0;34m\"has_index_names\"\u001b[0m\u001b[0;34m]\u001b[0m\u001b[0;34m\u001b[0m\u001b[0;34m\u001b[0m\u001b[0m\n\u001b[1;32m    810\u001b[0m \u001b[0;34m\u001b[0m\u001b[0m\n\u001b[0;32m--> 811\u001b[0;31m         \u001b[0mself\u001b[0m\u001b[0;34m.\u001b[0m\u001b[0m_engine\u001b[0m \u001b[0;34m=\u001b[0m \u001b[0mself\u001b[0m\u001b[0;34m.\u001b[0m\u001b[0m_make_engine\u001b[0m\u001b[0;34m(\u001b[0m\u001b[0mself\u001b[0m\u001b[0;34m.\u001b[0m\u001b[0mengine\u001b[0m\u001b[0;34m)\u001b[0m\u001b[0;34m\u001b[0m\u001b[0;34m\u001b[0m\u001b[0m\n\u001b[0m\u001b[1;32m    812\u001b[0m \u001b[0;34m\u001b[0m\u001b[0m\n\u001b[1;32m    813\u001b[0m     \u001b[0;32mdef\u001b[0m \u001b[0mclose\u001b[0m\u001b[0;34m(\u001b[0m\u001b[0mself\u001b[0m\u001b[0;34m)\u001b[0m\u001b[0;34m:\u001b[0m\u001b[0;34m\u001b[0m\u001b[0;34m\u001b[0m\u001b[0m\n",
            "\u001b[0;32m/usr/local/lib/python3.7/dist-packages/pandas/io/parsers/readers.py\u001b[0m in \u001b[0;36m_make_engine\u001b[0;34m(self, engine)\u001b[0m\n\u001b[1;32m   1038\u001b[0m             )\n\u001b[1;32m   1039\u001b[0m         \u001b[0;31m# error: Too many arguments for \"ParserBase\"\u001b[0m\u001b[0;34m\u001b[0m\u001b[0;34m\u001b[0m\u001b[0;34m\u001b[0m\u001b[0m\n\u001b[0;32m-> 1040\u001b[0;31m         \u001b[0;32mreturn\u001b[0m \u001b[0mmapping\u001b[0m\u001b[0;34m[\u001b[0m\u001b[0mengine\u001b[0m\u001b[0;34m]\u001b[0m\u001b[0;34m(\u001b[0m\u001b[0mself\u001b[0m\u001b[0;34m.\u001b[0m\u001b[0mf\u001b[0m\u001b[0;34m,\u001b[0m \u001b[0;34m**\u001b[0m\u001b[0mself\u001b[0m\u001b[0;34m.\u001b[0m\u001b[0moptions\u001b[0m\u001b[0;34m)\u001b[0m  \u001b[0;31m# type: ignore[call-arg]\u001b[0m\u001b[0;34m\u001b[0m\u001b[0;34m\u001b[0m\u001b[0m\n\u001b[0m\u001b[1;32m   1041\u001b[0m \u001b[0;34m\u001b[0m\u001b[0m\n\u001b[1;32m   1042\u001b[0m     \u001b[0;32mdef\u001b[0m \u001b[0m_failover_to_python\u001b[0m\u001b[0;34m(\u001b[0m\u001b[0mself\u001b[0m\u001b[0;34m)\u001b[0m\u001b[0;34m:\u001b[0m\u001b[0;34m\u001b[0m\u001b[0;34m\u001b[0m\u001b[0m\n",
            "\u001b[0;32m/usr/local/lib/python3.7/dist-packages/pandas/io/parsers/c_parser_wrapper.py\u001b[0m in \u001b[0;36m__init__\u001b[0;34m(self, src, **kwds)\u001b[0m\n\u001b[1;32m     49\u001b[0m \u001b[0;34m\u001b[0m\u001b[0m\n\u001b[1;32m     50\u001b[0m         \u001b[0;31m# open handles\u001b[0m\u001b[0;34m\u001b[0m\u001b[0;34m\u001b[0m\u001b[0;34m\u001b[0m\u001b[0m\n\u001b[0;32m---> 51\u001b[0;31m         \u001b[0mself\u001b[0m\u001b[0;34m.\u001b[0m\u001b[0m_open_handles\u001b[0m\u001b[0;34m(\u001b[0m\u001b[0msrc\u001b[0m\u001b[0;34m,\u001b[0m \u001b[0mkwds\u001b[0m\u001b[0;34m)\u001b[0m\u001b[0;34m\u001b[0m\u001b[0;34m\u001b[0m\u001b[0m\n\u001b[0m\u001b[1;32m     52\u001b[0m         \u001b[0;32massert\u001b[0m \u001b[0mself\u001b[0m\u001b[0;34m.\u001b[0m\u001b[0mhandles\u001b[0m \u001b[0;32mis\u001b[0m \u001b[0;32mnot\u001b[0m \u001b[0;32mNone\u001b[0m\u001b[0;34m\u001b[0m\u001b[0;34m\u001b[0m\u001b[0m\n\u001b[1;32m     53\u001b[0m \u001b[0;34m\u001b[0m\u001b[0m\n",
            "\u001b[0;32m/usr/local/lib/python3.7/dist-packages/pandas/io/parsers/base_parser.py\u001b[0m in \u001b[0;36m_open_handles\u001b[0;34m(self, src, kwds)\u001b[0m\n\u001b[1;32m    227\u001b[0m             \u001b[0mmemory_map\u001b[0m\u001b[0;34m=\u001b[0m\u001b[0mkwds\u001b[0m\u001b[0;34m.\u001b[0m\u001b[0mget\u001b[0m\u001b[0;34m(\u001b[0m\u001b[0;34m\"memory_map\"\u001b[0m\u001b[0;34m,\u001b[0m \u001b[0;32mFalse\u001b[0m\u001b[0;34m)\u001b[0m\u001b[0;34m,\u001b[0m\u001b[0;34m\u001b[0m\u001b[0;34m\u001b[0m\u001b[0m\n\u001b[1;32m    228\u001b[0m             \u001b[0mstorage_options\u001b[0m\u001b[0;34m=\u001b[0m\u001b[0mkwds\u001b[0m\u001b[0;34m.\u001b[0m\u001b[0mget\u001b[0m\u001b[0;34m(\u001b[0m\u001b[0;34m\"storage_options\"\u001b[0m\u001b[0;34m,\u001b[0m \u001b[0;32mNone\u001b[0m\u001b[0;34m)\u001b[0m\u001b[0;34m,\u001b[0m\u001b[0;34m\u001b[0m\u001b[0;34m\u001b[0m\u001b[0m\n\u001b[0;32m--> 229\u001b[0;31m             \u001b[0merrors\u001b[0m\u001b[0;34m=\u001b[0m\u001b[0mkwds\u001b[0m\u001b[0;34m.\u001b[0m\u001b[0mget\u001b[0m\u001b[0;34m(\u001b[0m\u001b[0;34m\"encoding_errors\"\u001b[0m\u001b[0;34m,\u001b[0m \u001b[0;34m\"strict\"\u001b[0m\u001b[0;34m)\u001b[0m\u001b[0;34m,\u001b[0m\u001b[0;34m\u001b[0m\u001b[0;34m\u001b[0m\u001b[0m\n\u001b[0m\u001b[1;32m    230\u001b[0m         )\n\u001b[1;32m    231\u001b[0m \u001b[0;34m\u001b[0m\u001b[0m\n",
            "\u001b[0;32m/usr/local/lib/python3.7/dist-packages/pandas/io/common.py\u001b[0m in \u001b[0;36mget_handle\u001b[0;34m(path_or_buf, mode, encoding, compression, memory_map, is_text, errors, storage_options)\u001b[0m\n\u001b[1;32m    705\u001b[0m                 \u001b[0mencoding\u001b[0m\u001b[0;34m=\u001b[0m\u001b[0mioargs\u001b[0m\u001b[0;34m.\u001b[0m\u001b[0mencoding\u001b[0m\u001b[0;34m,\u001b[0m\u001b[0;34m\u001b[0m\u001b[0;34m\u001b[0m\u001b[0m\n\u001b[1;32m    706\u001b[0m                 \u001b[0merrors\u001b[0m\u001b[0;34m=\u001b[0m\u001b[0merrors\u001b[0m\u001b[0;34m,\u001b[0m\u001b[0;34m\u001b[0m\u001b[0;34m\u001b[0m\u001b[0m\n\u001b[0;32m--> 707\u001b[0;31m                 \u001b[0mnewline\u001b[0m\u001b[0;34m=\u001b[0m\u001b[0;34m\"\"\u001b[0m\u001b[0;34m,\u001b[0m\u001b[0;34m\u001b[0m\u001b[0;34m\u001b[0m\u001b[0m\n\u001b[0m\u001b[1;32m    708\u001b[0m             )\n\u001b[1;32m    709\u001b[0m         \u001b[0;32melse\u001b[0m\u001b[0;34m:\u001b[0m\u001b[0;34m\u001b[0m\u001b[0;34m\u001b[0m\u001b[0m\n",
            "\u001b[0;31mFileNotFoundError\u001b[0m: [Errno 2] No such file or directory: 'BankChurners.csv'"
          ]
        }
      ],
      "source": [
        "df=pd.read_csv(\"BankChurners.csv\")\n",
        "df.head().style.set_properties(**{\"background-color\": \"black\",\"color\": \"white\", \"border-color\": \"black\",\"font-size\":\"11.5pt\",'width': 200})"
      ],
      "id": "De7_-SvIFHbJ"
    },
    {
      "cell_type": "markdown",
      "metadata": {
        "papermill": {
          "duration": 0.092806,
          "end_time": "2021-11-25T04:34:09.756719",
          "exception": false,
          "start_time": "2021-11-25T04:34:09.663913",
          "status": "completed"
        },
        "tags": [],
        "id": "rx6-m6laFHbK"
      },
      "source": [
        "<a id=\"3\"></a>\n",
        "<h1 style=\"color:#323232;font-size:55px;font-family:Georgia;text-align:center;\">📝<strong>Meta <strong style=\"color:#2c2bce;font-size:40px;font-family:Georgia;\">Info <strong style=\"color:#323232;font-size:55px;font-family:Georgia;\">Of <strong style=\"color:#2c2bce;font-size:40px;font-family:Georgia;\">Dataframe <strong style=\"color:#2c2bce;font-size:40px;font-family:Georgia;\">:- </strong></strong></strong></strong></strong></h1>\n"
      ],
      "id": "rx6-m6laFHbK"
    },
    {
      "cell_type": "code",
      "execution_count": null,
      "metadata": {
        "execution": {
          "iopub.execute_input": "2021-11-25T04:34:09.947058Z",
          "iopub.status.busy": "2021-11-25T04:34:09.946416Z",
          "iopub.status.idle": "2021-11-25T04:34:09.950527Z",
          "shell.execute_reply": "2021-11-25T04:34:09.951025Z",
          "shell.execute_reply.started": "2021-11-12T16:51:56.37198Z"
        },
        "papermill": {
          "duration": 0.100866,
          "end_time": "2021-11-25T04:34:09.951191",
          "exception": false,
          "start_time": "2021-11-25T04:34:09.850325",
          "status": "completed"
        },
        "tags": [],
        "id": "ZD6p1zeeFHbK"
      },
      "outputs": [],
      "source": [
        "#The shape of the dataset.....\n",
        "df.shape"
      ],
      "id": "ZD6p1zeeFHbK"
    },
    {
      "cell_type": "code",
      "execution_count": null,
      "metadata": {
        "execution": {
          "iopub.execute_input": "2021-11-25T04:34:10.145167Z",
          "iopub.status.busy": "2021-11-25T04:34:10.144539Z",
          "iopub.status.idle": "2021-11-25T04:34:10.150718Z",
          "shell.execute_reply": "2021-11-25T04:34:10.151217Z",
          "shell.execute_reply.started": "2021-11-12T16:51:56.37984Z"
        },
        "papermill": {
          "duration": 0.103005,
          "end_time": "2021-11-25T04:34:10.151390",
          "exception": false,
          "start_time": "2021-11-25T04:34:10.048385",
          "status": "completed"
        },
        "tags": [],
        "id": "v_h_EJwCFHbM"
      },
      "outputs": [],
      "source": [
        "# Dropping the last two columns and the client number column\n",
        "df = df.iloc[:,1:-2]"
      ],
      "id": "v_h_EJwCFHbM"
    },
    {
      "cell_type": "code",
      "execution_count": null,
      "metadata": {
        "execution": {
          "iopub.execute_input": "2021-11-25T04:34:10.342499Z",
          "iopub.status.busy": "2021-11-25T04:34:10.341838Z",
          "iopub.status.idle": "2021-11-25T04:34:10.346227Z",
          "shell.execute_reply": "2021-11-25T04:34:10.346774Z",
          "shell.execute_reply.started": "2021-11-12T16:51:56.396076Z"
        },
        "papermill": {
          "duration": 0.10206,
          "end_time": "2021-11-25T04:34:10.346958",
          "exception": false,
          "start_time": "2021-11-25T04:34:10.244898",
          "status": "completed"
        },
        "tags": [],
        "id": "oRy0FYr3FHbM"
      },
      "outputs": [],
      "source": [
        "#The shape of the dataset.....\n",
        "df.shape"
      ],
      "id": "oRy0FYr3FHbM"
    },
    {
      "cell_type": "code",
      "execution_count": null,
      "metadata": {
        "execution": {
          "iopub.execute_input": "2021-11-25T04:34:10.538091Z",
          "iopub.status.busy": "2021-11-25T04:34:10.537418Z",
          "iopub.status.idle": "2021-11-25T04:34:10.541187Z",
          "shell.execute_reply": "2021-11-25T04:34:10.541698Z",
          "shell.execute_reply.started": "2021-11-12T16:51:56.408815Z"
        },
        "papermill": {
          "duration": 0.101486,
          "end_time": "2021-11-25T04:34:10.541865",
          "exception": false,
          "start_time": "2021-11-25T04:34:10.440379",
          "status": "completed"
        },
        "tags": [],
        "id": "_YwBUOsSFHbN"
      },
      "outputs": [],
      "source": [
        "#The dimensions of the dataset.......\n",
        "df.ndim"
      ],
      "id": "_YwBUOsSFHbN"
    },
    {
      "cell_type": "code",
      "execution_count": null,
      "metadata": {
        "execution": {
          "iopub.execute_input": "2021-11-25T04:34:10.732592Z",
          "iopub.status.busy": "2021-11-25T04:34:10.732035Z",
          "iopub.status.idle": "2021-11-25T04:34:10.736166Z",
          "shell.execute_reply": "2021-11-25T04:34:10.736635Z",
          "shell.execute_reply.started": "2021-11-12T16:51:56.425678Z"
        },
        "papermill": {
          "duration": 0.101322,
          "end_time": "2021-11-25T04:34:10.736808",
          "exception": false,
          "start_time": "2021-11-25T04:34:10.635486",
          "status": "completed"
        },
        "tags": [],
        "id": "-LkaaRIrFHbN"
      },
      "outputs": [],
      "source": [
        "#The size of the dataset.......\n",
        "df.size"
      ],
      "id": "-LkaaRIrFHbN"
    },
    {
      "cell_type": "code",
      "execution_count": null,
      "metadata": {
        "execution": {
          "iopub.execute_input": "2021-11-25T04:34:10.928315Z",
          "iopub.status.busy": "2021-11-25T04:34:10.927601Z",
          "iopub.status.idle": "2021-11-25T04:34:10.932304Z",
          "shell.execute_reply": "2021-11-25T04:34:10.932842Z",
          "shell.execute_reply.started": "2021-11-12T16:51:56.436598Z"
        },
        "papermill": {
          "duration": 0.10192,
          "end_time": "2021-11-25T04:34:10.933031",
          "exception": false,
          "start_time": "2021-11-25T04:34:10.831111",
          "status": "completed"
        },
        "tags": [],
        "id": "CASIrrYEFHbO"
      },
      "outputs": [],
      "source": [
        "#The columns we have in the dataset.....\n",
        "df.columns"
      ],
      "id": "CASIrrYEFHbO"
    },
    {
      "cell_type": "code",
      "execution_count": null,
      "metadata": {
        "execution": {
          "iopub.execute_input": "2021-11-25T04:34:11.130224Z",
          "iopub.status.busy": "2021-11-25T04:34:11.129545Z",
          "iopub.status.idle": "2021-11-25T04:34:11.135503Z",
          "shell.execute_reply": "2021-11-25T04:34:11.136086Z",
          "shell.execute_reply.started": "2021-11-12T16:51:56.450627Z"
        },
        "papermill": {
          "duration": 0.10583,
          "end_time": "2021-11-25T04:34:11.136286",
          "exception": false,
          "start_time": "2021-11-25T04:34:11.030456",
          "status": "completed"
        },
        "tags": [],
        "id": "M4-VhKXwFHbO"
      },
      "outputs": [],
      "source": [
        "#The dtypes we have in the dataset.....\n",
        "df.dtypes"
      ],
      "id": "M4-VhKXwFHbO"
    },
    {
      "cell_type": "code",
      "execution_count": null,
      "metadata": {
        "execution": {
          "iopub.execute_input": "2021-11-25T04:34:11.329274Z",
          "iopub.status.busy": "2021-11-25T04:34:11.328588Z",
          "iopub.status.idle": "2021-11-25T04:34:11.346842Z",
          "shell.execute_reply": "2021-11-25T04:34:11.347333Z",
          "shell.execute_reply.started": "2021-11-12T16:51:56.46443Z"
        },
        "papermill": {
          "duration": 0.116287,
          "end_time": "2021-11-25T04:34:11.347499",
          "exception": false,
          "start_time": "2021-11-25T04:34:11.231212",
          "status": "completed"
        },
        "tags": [],
        "id": "YIVosj3pFHbP"
      },
      "outputs": [],
      "source": [
        "#The Information of the Dataset\n",
        "df.info()"
      ],
      "id": "YIVosj3pFHbP"
    },
    {
      "cell_type": "markdown",
      "metadata": {
        "papermill": {
          "duration": 0.094753,
          "end_time": "2021-11-25T04:34:11.536238",
          "exception": false,
          "start_time": "2021-11-25T04:34:11.441485",
          "status": "completed"
        },
        "tags": [],
        "id": "v1PPCAKVFHbP"
      },
      "source": [
        "<a id=\"4\"></a>\n",
        "<h1 style=\"color:#323232;font-size:55px;font-family:Georgia;text-align:center;\">🧹<strong>Checking <strong style=\"color:#2c2bce;font-size:40px;font-family:Georgia;\">NAN <strong style=\"color:#323232;font-size:55px;font-family:Georgia;\">Values <strong style=\"color:#2c2bce;font-size:40px;font-family:Georgia;\">:- </strong></strong></strong></strong></h1>"
      ],
      "id": "v1PPCAKVFHbP"
    },
    {
      "cell_type": "code",
      "execution_count": null,
      "metadata": {
        "_kg_hide-input": true,
        "execution": {
          "iopub.execute_input": "2021-11-25T04:34:11.732605Z",
          "iopub.status.busy": "2021-11-25T04:34:11.731951Z",
          "iopub.status.idle": "2021-11-25T04:34:12.473620Z",
          "shell.execute_reply": "2021-11-25T04:34:12.474118Z",
          "shell.execute_reply.started": "2021-11-12T16:51:56.500712Z"
        },
        "papermill": {
          "duration": 0.843027,
          "end_time": "2021-11-25T04:34:12.474283",
          "exception": false,
          "start_time": "2021-11-25T04:34:11.631256",
          "status": "completed"
        },
        "tags": [],
        "id": "AyrsaSb-FHbQ"
      },
      "outputs": [],
      "source": [
        "#Visualizing the missing values\n",
        "import missingno as mn\n",
        "mn.matrix(df,color=(0,0,0))"
      ],
      "id": "AyrsaSb-FHbQ"
    },
    {
      "cell_type": "code",
      "execution_count": null,
      "metadata": {
        "_kg_hide-input": true,
        "execution": {
          "iopub.execute_input": "2021-11-25T04:34:12.679698Z",
          "iopub.status.busy": "2021-11-25T04:34:12.679088Z",
          "iopub.status.idle": "2021-11-25T04:34:12.700766Z",
          "shell.execute_reply": "2021-11-25T04:34:12.701193Z",
          "shell.execute_reply.started": "2021-11-12T16:51:57.386983Z"
        },
        "papermill": {
          "duration": 0.129039,
          "end_time": "2021-11-25T04:34:12.701365",
          "exception": false,
          "start_time": "2021-11-25T04:34:12.572326",
          "status": "completed"
        },
        "tags": [],
        "id": "vd0li_MoFHbV"
      },
      "outputs": [],
      "source": [
        "#PERCENTAGE OF THE MISSING VALUES - DataFrame..... \n",
        "def missing_data(df):\n",
        "    total = df.isnull().sum().sort_values(ascending = False)\n",
        "    Percentage = (df.isnull().sum()/df.isnull().count()*100).sort_values(ascending = False)\n",
        "    return pd.concat([total, Percentage], axis=1, keys=['Total', 'Percentage'])\n",
        "missing_data(df).style.set_properties(**{\"background-color\": \"black\",\"color\": \"white\", \"border-color\": \"black\",\"font-size\":\"11.5pt\",'width': 200})"
      ],
      "id": "vd0li_MoFHbV"
    },
    {
      "cell_type": "markdown",
      "metadata": {
        "papermill": {
          "duration": 0.098771,
          "end_time": "2021-11-25T04:34:12.899164",
          "exception": false,
          "start_time": "2021-11-25T04:34:12.800393",
          "status": "completed"
        },
        "tags": [],
        "id": "yBCJHKpgFHbW"
      },
      "source": [
        "<a id=\"5\"></a>\n",
        "<h1 style=\"color:#323232;font-size:55px;font-family:Georgia;text-align:center;\">🔍<strong>Finding <strong style=\"color:#2c2bce;font-size:40px;font-family:Georgia;\">The <strong style=\"color:#323232;font-size:55px;font-family:Georgia;\">Duplicate <strong style=\"color:#2c2bce;font-size:40px;font-family:Georgia;\">Records <strong style=\"color:#2c2bce;font-size:40px;font-family:Georgia;\">:- </strong></strong></strong></strong></strong></h1>\n"
      ],
      "id": "yBCJHKpgFHbW"
    },
    {
      "cell_type": "code",
      "execution_count": null,
      "metadata": {
        "_kg_hide-input": true,
        "execution": {
          "iopub.execute_input": "2021-11-25T04:34:13.100216Z",
          "iopub.status.busy": "2021-11-25T04:34:13.099583Z",
          "iopub.status.idle": "2021-11-25T04:34:13.124827Z",
          "shell.execute_reply": "2021-11-25T04:34:13.124387Z",
          "shell.execute_reply.started": "2021-11-12T16:51:57.437077Z"
        },
        "papermill": {
          "duration": 0.1274,
          "end_time": "2021-11-25T04:34:13.124991",
          "exception": false,
          "start_time": "2021-11-25T04:34:12.997591",
          "status": "completed"
        },
        "tags": [],
        "id": "RMFXvn7LFHbW"
      },
      "outputs": [],
      "source": [
        "#Finding the duplicates from dataset...\n",
        "df[df.duplicated()]"
      ],
      "id": "RMFXvn7LFHbW"
    },
    {
      "cell_type": "markdown",
      "metadata": {
        "papermill": {
          "duration": 0.097485,
          "end_time": "2021-11-25T04:34:13.320839",
          "exception": false,
          "start_time": "2021-11-25T04:34:13.223354",
          "status": "completed"
        },
        "tags": [],
        "id": "5D5YABDvFHbX"
      },
      "source": [
        "<a id=\"6\"></a>\n",
        "<h1 style=\"color:#323232;font-size:55px;font-family:Georgia;text-align:center;\">📊<strong>Basic <strong style=\"color:#2c2bce;font-size:40px;font-family:Georgia;\">Statistics <strong style=\"color:#2c2bce;font-size:40px;font-family:Georgia;\">:- </strong></strong></strong></h1>\n"
      ],
      "id": "5D5YABDvFHbX"
    },
    {
      "cell_type": "code",
      "execution_count": null,
      "metadata": {
        "execution": {
          "iopub.execute_input": "2021-11-25T04:34:13.525665Z",
          "iopub.status.busy": "2021-11-25T04:34:13.525086Z",
          "iopub.status.idle": "2021-11-25T04:34:13.577501Z",
          "shell.execute_reply": "2021-11-25T04:34:13.577957Z",
          "shell.execute_reply.started": "2021-11-12T16:51:57.474023Z"
        },
        "papermill": {
          "duration": 0.159055,
          "end_time": "2021-11-25T04:34:13.578117",
          "exception": false,
          "start_time": "2021-11-25T04:34:13.419062",
          "status": "completed"
        },
        "tags": [],
        "id": "VFeJejajFHbY"
      },
      "outputs": [],
      "source": [
        "# Statistics on Categorical data......\n",
        "round(df.describe(exclude = 'object'), 2).style.set_properties(**{\"background-color\": \"black\",\"color\": \"white\", \"border-color\": \"black\",\"font-size\":\"11.5pt\",'width': 200})"
      ],
      "id": "VFeJejajFHbY"
    },
    {
      "cell_type": "code",
      "execution_count": null,
      "metadata": {
        "execution": {
          "iopub.execute_input": "2021-11-25T04:34:13.783987Z",
          "iopub.status.busy": "2021-11-25T04:34:13.782974Z",
          "iopub.status.idle": "2021-11-25T04:34:13.810095Z",
          "shell.execute_reply": "2021-11-25T04:34:13.810559Z",
          "shell.execute_reply.started": "2021-11-12T16:51:57.548155Z"
        },
        "papermill": {
          "duration": 0.133531,
          "end_time": "2021-11-25T04:34:13.810722",
          "exception": false,
          "start_time": "2021-11-25T04:34:13.677191",
          "status": "completed"
        },
        "tags": [],
        "id": "uLaiNKw9FHbY"
      },
      "outputs": [],
      "source": [
        "# Statistics on numerical data\n",
        "round(df.describe(exclude = ['float', 'int64']),2).style.set_properties(**{\"background-color\": \"black\",\"color\": \"white\", \"border-color\": \"black\",\"font-size\":\"11.5pt\",'width': 200})"
      ],
      "id": "uLaiNKw9FHbY"
    },
    {
      "cell_type": "code",
      "execution_count": null,
      "metadata": {
        "execution": {
          "iopub.execute_input": "2021-11-25T04:34:14.016344Z",
          "iopub.status.busy": "2021-11-25T04:34:14.015365Z",
          "iopub.status.idle": "2021-11-25T04:34:14.044448Z",
          "shell.execute_reply": "2021-11-25T04:34:14.044959Z",
          "shell.execute_reply.started": "2021-11-12T16:51:57.595849Z"
        },
        "papermill": {
          "duration": 0.133222,
          "end_time": "2021-11-25T04:34:14.045125",
          "exception": false,
          "start_time": "2021-11-25T04:34:13.911903",
          "status": "completed"
        },
        "tags": [],
        "id": "gxz0daPoFHbY"
      },
      "outputs": [],
      "source": [
        "df.head().style.set_properties(**{\"background-color\": \"black\",\"color\": \"white\", \"border-color\": \"black\",\"font-size\":\"11.5pt\",'width': 200})"
      ],
      "id": "gxz0daPoFHbY"
    },
    {
      "cell_type": "code",
      "execution_count": null,
      "metadata": {
        "execution": {
          "iopub.execute_input": "2021-11-25T04:34:14.254320Z",
          "iopub.status.busy": "2021-11-25T04:34:14.253602Z",
          "iopub.status.idle": "2021-11-25T04:34:14.255850Z",
          "shell.execute_reply": "2021-11-25T04:34:14.256418Z",
          "shell.execute_reply.started": "2021-11-12T16:51:57.638325Z"
        },
        "papermill": {
          "duration": 0.110439,
          "end_time": "2021-11-25T04:34:14.256580",
          "exception": false,
          "start_time": "2021-11-25T04:34:14.146141",
          "status": "completed"
        },
        "tags": [],
        "id": "YEgUXf8OFHbe"
      },
      "outputs": [],
      "source": [
        "# Changing the Attrition_Flag to 0 and 1 (Hidden Input/Output)\n",
        "df[\"Attrition_Flag\"] = df[\"Attrition_Flag\"].map({\"Existing Customer\":0, \"Attrited Customer\":1})"
      ],
      "id": "YEgUXf8OFHbe"
    },
    {
      "cell_type": "code",
      "execution_count": null,
      "metadata": {
        "execution": {
          "iopub.execute_input": "2021-11-25T04:34:14.481614Z",
          "iopub.status.busy": "2021-11-25T04:34:14.480998Z",
          "iopub.status.idle": "2021-11-25T04:34:14.497587Z",
          "shell.execute_reply": "2021-11-25T04:34:14.498062Z",
          "shell.execute_reply.started": "2021-11-12T16:51:57.653417Z"
        },
        "papermill": {
          "duration": 0.14036,
          "end_time": "2021-11-25T04:34:14.498249",
          "exception": false,
          "start_time": "2021-11-25T04:34:14.357889",
          "status": "completed"
        },
        "tags": [],
        "id": "BkazT6UFFHbg"
      },
      "outputs": [],
      "source": [
        "df.head().style.set_properties(**{\"background-color\": \"black\",\"color\": \"white\", \"border-color\": \"black\",\"font-size\":\"11.5pt\",'width': 200})"
      ],
      "id": "BkazT6UFFHbg"
    },
    {
      "cell_type": "markdown",
      "metadata": {
        "papermill": {
          "duration": 0.101669,
          "end_time": "2021-11-25T04:34:14.705345",
          "exception": false,
          "start_time": "2021-11-25T04:34:14.603676",
          "status": "completed"
        },
        "tags": [],
        "id": "Be3knQ6pFHbg"
      },
      "source": [
        "<a id=\"7\"></a>\n",
        "<h1 style=\"color:#323232;font-size:55px;font-family:Georgia;text-align:center;\">🔍<strong>Detecting <strong style=\"color:#2c2bce;font-size:40px;font-family:Georgia;\">The <strong style=\"color:#323232;font-size:55px;font-family:Georgia;\">Outliers <strong style=\"color:#2c2bce;font-size:40px;font-family:Georgia;\">:-</strong></strong></strong></strong></h1>\n"
      ],
      "id": "Be3knQ6pFHbg"
    },
    {
      "cell_type": "code",
      "execution_count": null,
      "metadata": {
        "_kg_hide-input": true,
        "execution": {
          "iopub.execute_input": "2021-11-25T04:34:14.917134Z",
          "iopub.status.busy": "2021-11-25T04:34:14.916475Z",
          "iopub.status.idle": "2021-11-25T04:34:17.080394Z",
          "shell.execute_reply": "2021-11-25T04:34:17.079683Z",
          "shell.execute_reply.started": "2021-11-12T16:51:57.696082Z"
        },
        "papermill": {
          "duration": 2.274256,
          "end_time": "2021-11-25T04:34:17.080580",
          "exception": false,
          "start_time": "2021-11-25T04:34:14.806324",
          "status": "completed"
        },
        "tags": [],
        "id": "FrQRDAGOFHbg"
      },
      "outputs": [],
      "source": [
        "#Finding the outliers....\n",
        "continuous_feature = [feature for feature in df.columns if df[feature].dtypes != 'O']\n",
        "Colors = ['#f03a17']\n",
        "## Lets analyse the continuous values by creating histograms to understand the distribution\n",
        "for feature in continuous_feature:\n",
        "    data=df.copy()\n",
        "    fig = px.histogram(df, x= feature,title= 'Distribution of '+feature,color_discrete_sequence= Colors)\n",
        "    fig.show()\n",
        "    print(\"Skewness: %f\" % df['Attrition_Flag'].skew())\n",
        "    print(\"Kurtosis: %f\" % df['Attrition_Flag'].kurt())"
      ],
      "id": "FrQRDAGOFHbg"
    },
    {
      "cell_type": "markdown",
      "metadata": {
        "papermill": {
          "duration": 0.130505,
          "end_time": "2021-11-25T04:34:17.344110",
          "exception": false,
          "start_time": "2021-11-25T04:34:17.213605",
          "status": "completed"
        },
        "tags": [],
        "id": "MXTdFEyCFHbh"
      },
      "source": [
        "\n",
        "\n",
        "<h1 style=\"color:#323232;font-size:35px;font-family:Georgia;text-align:center;\"><strong>What <strong style=\"color:#2c2bce;font-size:25px;font-family:Georgia;\">Is <strong style=\"color:#323232;font-size:35px;font-family:Georgia;\">Numerical\n",
        " <strong style=\"color:#2c2bce;font-size:25px;font-family:Georgia;\">Data <strong style=\"color:#323232;font-size:35px;font-family:Georgia;\">? </strong></strong></strong></strong></strong></h1>\n",
        " \n",
        " \n",
        " <p style= \"font-family:Georgia;color:#000000;font-size:110%;text-align:center;border-radius:10px 10px;border-style: dotted;border-width:5px;border-color:#2c2bce;\"><br>\n",
        "    First, let's be clear about what is numerical data : Numerical data have meaning as a measurement, such as a person’s height, weight, IQ, or blood pressure; or they’re a count, such as the number of stock shares a person owns, how many teeth a dog has, or how many pages you can read of your favorite book before you fall asleep. Statisticians also call numerical data quantitative data.<br>\n",
        "    <br><b>Two Types of Numerical Data : Discrete Data & Continuous Data</b><br>\n",
        "    <br>\n",
        "There are basic set of stats & figures we use as presented below.<br>\n",
        "Number of observations<br>\n",
        "Mean<br>\n",
        "Standard Deviation<br>\n",
        "Max, Min<br>\n",
        "Interquartile range (IQR)<br>\n",
        "Histograms<br>\n",
        "Skewness and Kurtosis<br>\n",
        "<b>How to ? life is much easier when what you want is only few code lines away. There are few basic things that we can do,</b><br>\n",
        "<br>\n",
        "Peek at data : everybody loves to look at what they work on.. <br>\n",
        "Descriptive statistics summary<br>\n",
        "Distribution plot<br>\n",
        "Skewness and Kurtosis<br>\n",
        "    <br> <b>Numerical Featuures Are:-['Attrition_Flag', 'Customer_Age', 'Dependent_count', 'Months_on_book', 'Total_Relationship_Count', 'Months_Inactive_12_mon', 'Contacts_Count_12_mon', 'Credit_Limit', 'Total_Revolving_Bal', 'Avg_Open_To_Buy', 'Total_Amt_Chng_Q4_Q1', 'Total_Trans_Amt', 'Total_Trans_Ct', 'Total_Ct_Chng_Q4_Q1', 'Avg_Utilization_Ratio']</b>\n",
        "    <br>\n",
        "    <br></p>"
      ],
      "id": "MXTdFEyCFHbh"
    },
    {
      "cell_type": "markdown",
      "metadata": {
        "papermill": {
          "duration": 0.158409,
          "end_time": "2021-11-25T04:34:17.642396",
          "exception": false,
          "start_time": "2021-11-25T04:34:17.483987",
          "status": "completed"
        },
        "tags": [],
        "id": "JOIxdVJbFHbq"
      },
      "source": [
        "<a id=\"8\"></a>\n",
        "<h1 style=\"color:#323232;font-size:55px;font-family:Georgia;text-align:center;\">🕵🏻‍♂️<strong>EDA <strong style=\"color:#2c2bce;font-size:40px;font-family:Georgia;\">& <strong style=\"color:#323232;font-size:55px;font-family:Georgia;\">Visualization <strong style=\"color:#2c2bce;font-size:40px;font-family:Georgia;\">On <strong style=\"color:#323232;font-size:55px;font-family:Georgia;\">Numerical <strong style=\"color:#2c2bce;font-size:40px;font-family:Georgia;\">Analysis</strong></strong></strong></strong></strong></strong></h1>"
      ],
      "id": "JOIxdVJbFHbq"
    },
    {
      "cell_type": "code",
      "execution_count": null,
      "metadata": {
        "_kg_hide-input": true,
        "execution": {
          "iopub.execute_input": "2021-11-25T04:34:17.914204Z",
          "iopub.status.busy": "2021-11-25T04:34:17.909602Z",
          "iopub.status.idle": "2021-11-25T04:34:17.939538Z",
          "shell.execute_reply": "2021-11-25T04:34:17.940037Z",
          "shell.execute_reply.started": "2021-11-12T16:52:00.754117Z"
        },
        "papermill": {
          "duration": 0.165432,
          "end_time": "2021-11-25T04:34:17.940206",
          "exception": false,
          "start_time": "2021-11-25T04:34:17.774774",
          "status": "completed"
        },
        "tags": [],
        "id": "L2GZUacuFHbq"
      },
      "outputs": [],
      "source": [
        "# list of numerical variables............\n",
        "numerical_features = [feature for feature in df.columns if df[feature].dtypes != 'O']\n",
        "\n",
        "print('Number of numerical variables: ', len(numerical_features))\n",
        "print('\\n')\n",
        "print('Numberical Variables Column: ',numerical_features)\n",
        "print('\\n')\n",
        "# visualise the numerical variables........\n",
        "df[numerical_features].head().style.set_properties(**{\"background-color\": \"black\",\"color\": \"white\", \"border-color\": \"black\",\"font-size\":\"11.5pt\",'width': 200})"
      ],
      "id": "L2GZUacuFHbq"
    },
    {
      "cell_type": "markdown",
      "metadata": {
        "papermill": {
          "duration": 0.132689,
          "end_time": "2021-11-25T04:34:18.210047",
          "exception": false,
          "start_time": "2021-11-25T04:34:18.077358",
          "status": "completed"
        },
        "tags": [],
        "id": "M70AaSq_FHbq"
      },
      "source": [
        "<h1 style=\"color:#323232;font-size:35px;font-family:Georgia;text-align:center;\"><strong>✏️Analysis <strong style=\"color:#2c2bce;font-size:25px;font-family:Georgia;\">The <strong style=\"color:#323232;font-size:35px;font-family:Georgia;\">Attrition_Flag <strong style=\"color:#2c2bce;font-size:25px;font-family:Georgia;\">:- </strong></strong></strong></strong></h1>\n"
      ],
      "id": "M70AaSq_FHbq"
    },
    {
      "cell_type": "code",
      "execution_count": null,
      "metadata": {
        "_kg_hide-input": true,
        "execution": {
          "iopub.execute_input": "2021-11-25T04:34:18.482907Z",
          "iopub.status.busy": "2021-11-25T04:34:18.481839Z",
          "iopub.status.idle": "2021-11-25T04:34:18.484308Z",
          "shell.execute_reply": "2021-11-25T04:34:18.484715Z",
          "shell.execute_reply.started": "2021-11-12T16:52:00.798055Z"
        },
        "papermill": {
          "duration": 0.141221,
          "end_time": "2021-11-25T04:34:18.484885",
          "exception": false,
          "start_time": "2021-11-25T04:34:18.343664",
          "status": "completed"
        },
        "tags": [],
        "id": "Arp2eatNFHbr"
      },
      "outputs": [],
      "source": [
        "from IPython.core.display import HTML\n",
        "\n",
        "def multi_table(table_list):\n",
        "    ''' Acceps a list of IpyTable objects and returns a table which contains each IpyTable in a cell\n",
        "    '''\n",
        "    return HTML(\n",
        "        '<table><tr style=\"background-color:white;\">' + \n",
        "        ''.join(['<td>' + table._repr_html_() + '</td>' for table in table_list]) +\n",
        "        '</tr></table>')"
      ],
      "id": "Arp2eatNFHbr"
    },
    {
      "cell_type": "code",
      "execution_count": null,
      "metadata": {
        "_kg_hide-input": false,
        "execution": {
          "iopub.execute_input": "2021-11-25T04:34:18.763156Z",
          "iopub.status.busy": "2021-11-25T04:34:18.759652Z",
          "iopub.status.idle": "2021-11-25T04:34:18.765531Z",
          "shell.execute_reply": "2021-11-25T04:34:18.765983Z",
          "shell.execute_reply.started": "2021-11-12T16:52:00.806216Z"
        },
        "papermill": {
          "duration": 0.145697,
          "end_time": "2021-11-25T04:34:18.766148",
          "exception": false,
          "start_time": "2021-11-25T04:34:18.620451",
          "status": "completed"
        },
        "tags": [],
        "id": "02dubUXFFHbr"
      },
      "outputs": [],
      "source": [
        "df_nunique = {var: pd.DataFrame(df['Attrition_Flag'].value_counts()) \n",
        "              for var in {'Attrition_Flag'}}\n",
        "multi_table([ df_nunique['Attrition_Flag'].style.set_properties(**{\"background-color\": \"black\",\"color\": \"white\", \"border-color\": \"black\",\"font-size\":\"11.5pt\",'width': 200})])"
      ],
      "id": "02dubUXFFHbr"
    },
    {
      "cell_type": "code",
      "execution_count": null,
      "metadata": {
        "_kg_hide-input": true,
        "execution": {
          "iopub.execute_input": "2021-11-25T04:34:19.039271Z",
          "iopub.status.busy": "2021-11-25T04:34:19.038630Z",
          "iopub.status.idle": "2021-11-25T04:34:19.106155Z",
          "shell.execute_reply": "2021-11-25T04:34:19.106562Z",
          "shell.execute_reply.started": "2021-11-12T16:52:00.834981Z"
        },
        "papermill": {
          "duration": 0.208412,
          "end_time": "2021-11-25T04:34:19.106730",
          "exception": false,
          "start_time": "2021-11-25T04:34:18.898318",
          "status": "completed"
        },
        "tags": [],
        "id": "GgJ8c0yKFHbr"
      },
      "outputs": [],
      "source": [
        "fig = make_subplots(rows=1,cols=1)\n",
        "Colors = ['#0078d7','#16c60c','#f03a17','#00f8d7','#f0f87f']\n",
        "fig.add_trace(go.Bar(y = df['Attrition_Flag'].value_counts().values.tolist(), \n",
        "                      x = df['Attrition_Flag'].value_counts().index, \n",
        "                      text=df['Attrition_Flag'].value_counts().values.tolist(),\n",
        "              textfont=dict(size=15),\n",
        "                      textposition = 'outside',\n",
        "                      showlegend=False,\n",
        "              marker = dict(color = Colors,\n",
        "                            line_color = 'black',\n",
        "                            line_width=3)),row = 1,col = 1)\n",
        "\n",
        "fig.update_layout(title={'y':0.9,\n",
        "                         'x':0.5,\n",
        "                         'xanchor': 'center',\n",
        "                         'yanchor': 'top'},\n",
        "                  template='plotly_white')\n",
        "fig.update_yaxes(range=[0,10500])\n",
        "iplot(fig)"
      ],
      "id": "GgJ8c0yKFHbr"
    },
    {
      "cell_type": "markdown",
      "metadata": {
        "papermill": {
          "duration": 0.131821,
          "end_time": "2021-11-25T04:34:19.370503",
          "exception": false,
          "start_time": "2021-11-25T04:34:19.238682",
          "status": "completed"
        },
        "tags": [],
        "id": "I-iqibWtFHbs"
      },
      "source": [
        "<h1 style=\"color:#323232;font-size:35px;font-family:Georgia;text-align:center;\"><strong>✏️Analysis <strong style=\"color:#2c2bce;font-size:25px;font-family:Georgia;\">The <strong style=\"color:#323232;font-size:35px;font-family:Georgia;\">Customer_Age\n",
        " <strong style=\"color:#2c2bce;font-size:25px;font-family:Georgia;\">:- </strong></strong></strong></strong></h1>\n"
      ],
      "id": "I-iqibWtFHbs"
    },
    {
      "cell_type": "code",
      "execution_count": null,
      "metadata": {
        "_kg_hide-input": true,
        "execution": {
          "iopub.execute_input": "2021-11-25T04:34:19.637494Z",
          "iopub.status.busy": "2021-11-25T04:34:19.636887Z",
          "iopub.status.idle": "2021-11-25T04:34:19.648786Z",
          "shell.execute_reply": "2021-11-25T04:34:19.649302Z",
          "shell.execute_reply.started": "2021-11-12T16:52:00.941923Z"
        },
        "papermill": {
          "duration": 0.147271,
          "end_time": "2021-11-25T04:34:19.649462",
          "exception": false,
          "start_time": "2021-11-25T04:34:19.502191",
          "status": "completed"
        },
        "tags": [],
        "id": "WcBMbm2_FHbs"
      },
      "outputs": [],
      "source": [
        "df_nunique = {var: pd.DataFrame(df['Customer_Age'].value_counts()) \n",
        "              for var in {'Customer_Age'}}\n",
        "multi_table([ df_nunique['Customer_Age'].style.set_properties(**{\"background-color\": \"black\",\"color\": \"white\", \"border-color\": \"black\",\"font-size\":\"11.5pt\",'width': 200})])"
      ],
      "id": "WcBMbm2_FHbs"
    },
    {
      "cell_type": "code",
      "execution_count": null,
      "metadata": {
        "_kg_hide-input": true,
        "execution": {
          "iopub.execute_input": "2021-11-25T04:34:19.918242Z",
          "iopub.status.busy": "2021-11-25T04:34:19.917561Z",
          "iopub.status.idle": "2021-11-25T04:34:19.973176Z",
          "shell.execute_reply": "2021-11-25T04:34:19.973638Z",
          "shell.execute_reply.started": "2021-11-12T16:52:00.961762Z"
        },
        "papermill": {
          "duration": 0.191992,
          "end_time": "2021-11-25T04:34:19.973845",
          "exception": false,
          "start_time": "2021-11-25T04:34:19.781853",
          "status": "completed"
        },
        "tags": [],
        "id": "SPhuVokyFHbt"
      },
      "outputs": [],
      "source": [
        "fig = make_subplots(rows=1,cols=1)\n",
        "fig.add_trace(go.Bar(y = df['Customer_Age'].value_counts().values.tolist(), \n",
        "                      x = df['Customer_Age'].value_counts().index, \n",
        "                      text=df['Customer_Age'].value_counts().values.tolist(),\n",
        "              textfont=dict(size=15),\n",
        "                      textposition = 'outside',\n",
        "                      showlegend=False,\n",
        "              marker = dict(color = 'white',\n",
        "                            line_color = 'black',\n",
        "                            line_width=3)),row = 1,col = 1)\n",
        "\n",
        "fig.update_layout(title={'y':0.9,\n",
        "                         'x':0.5,\n",
        "                         'xanchor': 'center',\n",
        "                         'yanchor': 'top'},\n",
        "                  template='plotly_white')\n",
        "fig.update_yaxes(range=[0,650])\n",
        "iplot(fig)"
      ],
      "id": "SPhuVokyFHbt"
    },
    {
      "cell_type": "markdown",
      "metadata": {
        "papermill": {
          "duration": 0.133732,
          "end_time": "2021-11-25T04:34:20.241998",
          "exception": false,
          "start_time": "2021-11-25T04:34:20.108266",
          "status": "completed"
        },
        "tags": [],
        "id": "tr-DkglOFHbt"
      },
      "source": [
        "<h1 style=\"color:#323232;font-size:35px;font-family:Georgia;text-align:center;\"><strong>📌Problem <strong style=\"color:#2c2bce;font-size:25px;font-family:Georgia;\">With <strong style=\"color:#323232;font-size:35px;font-family:Georgia;\">Customer_Age <strong style=\"color:#2c2bce;font-size:25px;font-family:Georgia;\">:- </strong></strong></strong></strong></h1>\n",
        "<p style= \"font-family:Georgia;color:#000000;font-size:110%;text-align:center;border-radius:10px 10px;border-style: dotted;border-width:5px;border-color:#2c2bce;\"><br>\n",
        "As I have mentioned earlier that **Age is a continous feature**, there is a problem with Continous Variables in Machine Learning Models.<br>\n",
        "<b>Eg:</b>If I say to group or arrange Sports Person by <b>Sex</b>, We can easily segregate them by Male and Female.<br>\n",
        "<br>\n",
        "Now if I say to group them by their *<b>Age</b>, then how would you do it? If there are 30 Persons, there may be 30 age values. Now this is problematic.<br>\n",
        "<br>\n",
        "We need to convert these **continous values into categorical values by either Binning or Normalisation. I will be using binning i.e group a range of ages into a single bin or assign them a single value.<br>\n",
        "<br>\n",
        "Okay so the maximum age of a Customer was 80. So lets divide the range from 0-80 into 4 bins. So 80/4=20.\n",
        "So bins of size 20.<br>\n",
        "        <br>\n",
        "    <br></p>"
      ],
      "id": "tr-DkglOFHbt"
    },
    {
      "cell_type": "code",
      "execution_count": null,
      "metadata": {
        "execution": {
          "iopub.execute_input": "2021-11-25T04:34:20.511730Z",
          "iopub.status.busy": "2021-11-25T04:34:20.511149Z",
          "iopub.status.idle": "2021-11-25T04:34:20.522441Z",
          "shell.execute_reply": "2021-11-25T04:34:20.521848Z",
          "shell.execute_reply.started": "2021-11-12T16:52:01.048519Z"
        },
        "papermill": {
          "duration": 0.147107,
          "end_time": "2021-11-25T04:34:20.522571",
          "exception": false,
          "start_time": "2021-11-25T04:34:20.375464",
          "status": "completed"
        },
        "tags": [],
        "id": "zJIzRgSDFHbu"
      },
      "outputs": [],
      "source": [
        "df['Age']=0\n",
        "df.loc[(df['Customer_Age']>25)&(df['Customer_Age']<=35),'Age']=0\n",
        "df.loc[(df['Customer_Age']>35)&(df['Customer_Age']<=45),'Age']=1\n",
        "df.loc[(df['Customer_Age']>45)&(df['Customer_Age']<=55),'Age']=2\n",
        "df.loc[(df['Customer_Age']>55)&(df['Customer_Age']<=65),'Age']=3\n",
        "df.loc[df['Customer_Age']>65,'Age']=4\n",
        "df['Age']=df['Age'].astype(int)"
      ],
      "id": "zJIzRgSDFHbu"
    },
    {
      "cell_type": "code",
      "execution_count": null,
      "metadata": {
        "execution": {
          "iopub.execute_input": "2021-11-25T04:34:20.797062Z",
          "iopub.status.busy": "2021-11-25T04:34:20.796440Z",
          "iopub.status.idle": "2021-11-25T04:34:20.800061Z",
          "shell.execute_reply": "2021-11-25T04:34:20.800531Z",
          "shell.execute_reply.started": "2021-11-12T16:52:01.072987Z"
        },
        "papermill": {
          "duration": 0.1427,
          "end_time": "2021-11-25T04:34:20.800692",
          "exception": false,
          "start_time": "2021-11-25T04:34:20.657992",
          "status": "completed"
        },
        "tags": [],
        "id": "oFCyw4QQFHbx"
      },
      "outputs": [],
      "source": [
        "df.drop(['Customer_Age'],axis = 1,inplace = True)"
      ],
      "id": "oFCyw4QQFHbx"
    },
    {
      "cell_type": "code",
      "execution_count": null,
      "metadata": {
        "execution": {
          "iopub.execute_input": "2021-11-25T04:34:21.077005Z",
          "iopub.status.busy": "2021-11-25T04:34:21.076375Z",
          "iopub.status.idle": "2021-11-25T04:34:21.087820Z",
          "shell.execute_reply": "2021-11-25T04:34:21.087335Z",
          "shell.execute_reply.started": "2021-11-12T16:52:01.08484Z"
        },
        "papermill": {
          "duration": 0.152498,
          "end_time": "2021-11-25T04:34:21.087975",
          "exception": false,
          "start_time": "2021-11-25T04:34:20.935477",
          "status": "completed"
        },
        "tags": [],
        "id": "ts_G6FRjFHbx"
      },
      "outputs": [],
      "source": [
        "df_nunique = {var: pd.DataFrame(df['Age'].value_counts()) \n",
        "              for var in {'Age'}}\n",
        "multi_table([ df_nunique['Age'].style.set_properties(**{\"background-color\": \"black\",\"color\": \"white\", \"border-color\": \"black\",\"font-size\":\"11.5pt\",'width': 200})])"
      ],
      "id": "ts_G6FRjFHbx"
    },
    {
      "cell_type": "code",
      "execution_count": null,
      "metadata": {
        "_kg_hide-input": true,
        "execution": {
          "iopub.execute_input": "2021-11-25T04:34:21.379927Z",
          "iopub.status.busy": "2021-11-25T04:34:21.379295Z",
          "iopub.status.idle": "2021-11-25T04:34:21.425983Z",
          "shell.execute_reply": "2021-11-25T04:34:21.425416Z",
          "shell.execute_reply.started": "2021-11-12T16:52:01.108259Z"
        },
        "papermill": {
          "duration": 0.198529,
          "end_time": "2021-11-25T04:34:21.426111",
          "exception": false,
          "start_time": "2021-11-25T04:34:21.227582",
          "status": "completed"
        },
        "tags": [],
        "id": "pxcG4eoEFHby"
      },
      "outputs": [],
      "source": [
        "fig = make_subplots(rows=1,cols=1)\n",
        "Colors = ['#0078d7','#16c60c','#f03a17','#00f8d7','#f0f87f']\n",
        "fig.add_trace(go.Bar(y = df['Age'].value_counts().values.tolist(), \n",
        "                      x = df['Age'].value_counts().index, \n",
        "                      text=df['Age'].value_counts().values.tolist(),\n",
        "              textfont=dict(size=15),\n",
        "                      textposition = 'outside',\n",
        "                      showlegend=False,\n",
        "              marker = dict(color = Colors,\n",
        "                            line_color = 'black',\n",
        "                            line_width=3)),row = 1,col = 1)\n",
        "\n",
        "fig.update_layout(title={'y':0.9,\n",
        "                         'x':0.5,\n",
        "                         'xanchor': 'center',\n",
        "                         'yanchor': 'top'},\n",
        "                  template='plotly_white')\n",
        "fig.update_yaxes(range=[0,5000])\n",
        "iplot(fig)"
      ],
      "id": "pxcG4eoEFHby"
    },
    {
      "cell_type": "code",
      "execution_count": null,
      "metadata": {
        "_kg_hide-input": true,
        "execution": {
          "iopub.execute_input": "2021-11-25T04:34:21.707464Z",
          "iopub.status.busy": "2021-11-25T04:34:21.706854Z",
          "iopub.status.idle": "2021-11-25T04:34:21.786878Z",
          "shell.execute_reply": "2021-11-25T04:34:21.787298Z",
          "shell.execute_reply.started": "2021-11-12T16:52:01.1991Z"
        },
        "papermill": {
          "duration": 0.22549,
          "end_time": "2021-11-25T04:34:21.787476",
          "exception": false,
          "start_time": "2021-11-25T04:34:21.561986",
          "status": "completed"
        },
        "tags": [],
        "id": "94aBdIkJFHb3"
      },
      "outputs": [],
      "source": [
        "fig = px.histogram(df, x=\"Age\", color =\"Attrition_Flag\", pattern_shape=\"Attrition_Flag\",\n",
        "                   template='plotly_white', barmode='group',color_discrete_sequence={\n",
        "                0: \"#f0f87f\",\n",
        "                1: \"#4696f9\"})\n",
        "\n",
        "fig.update_layout(bargap=0.2)\n",
        "\n",
        "fig.show()"
      ],
      "id": "94aBdIkJFHb3"
    },
    {
      "cell_type": "markdown",
      "metadata": {
        "papermill": {
          "duration": 0.137202,
          "end_time": "2021-11-25T04:34:22.063544",
          "exception": false,
          "start_time": "2021-11-25T04:34:21.926342",
          "status": "completed"
        },
        "tags": [],
        "id": "GVGJYpHwFHb4"
      },
      "source": [
        "<h1 style=\"color:#323232;font-size:35px;font-family:Georgia;text-align:center;\"><strong>✏️Analysis <strong style=\"color:#2c2bce;font-size:25px;font-family:Georgia;\">The <strong style=\"color:#323232;font-size:35px;font-family:Georgia;\">Dependent_count\n",
        " <strong style=\"color:#2c2bce;font-size:25px;font-family:Georgia;\">:- </strong></strong></strong></strong></h1>"
      ],
      "id": "GVGJYpHwFHb4"
    },
    {
      "cell_type": "code",
      "execution_count": null,
      "metadata": {
        "execution": {
          "iopub.execute_input": "2021-11-25T04:34:22.340264Z",
          "iopub.status.busy": "2021-11-25T04:34:22.339628Z",
          "iopub.status.idle": "2021-11-25T04:34:22.351192Z",
          "shell.execute_reply": "2021-11-25T04:34:22.351687Z",
          "shell.execute_reply.started": "2021-11-12T16:52:01.333796Z"
        },
        "papermill": {
          "duration": 0.151494,
          "end_time": "2021-11-25T04:34:22.351860",
          "exception": false,
          "start_time": "2021-11-25T04:34:22.200366",
          "status": "completed"
        },
        "tags": [],
        "id": "UqALRLo3FHb4"
      },
      "outputs": [],
      "source": [
        "df_nunique = {var: pd.DataFrame(df['Dependent_count'].value_counts()) \n",
        "              for var in {'Dependent_count'}}\n",
        "multi_table([ df_nunique['Dependent_count'].style.set_properties(**{\"background-color\": \"black\",\"color\": \"white\", \"border-color\": \"black\",\"font-size\":\"11.5pt\",'width': 200})])"
      ],
      "id": "UqALRLo3FHb4"
    },
    {
      "cell_type": "code",
      "execution_count": null,
      "metadata": {
        "_kg_hide-input": true,
        "execution": {
          "iopub.execute_input": "2021-11-25T04:34:22.627513Z",
          "iopub.status.busy": "2021-11-25T04:34:22.626914Z",
          "iopub.status.idle": "2021-11-25T04:34:22.682101Z",
          "shell.execute_reply": "2021-11-25T04:34:22.681621Z",
          "shell.execute_reply.started": "2021-11-12T16:52:01.350476Z"
        },
        "papermill": {
          "duration": 0.193556,
          "end_time": "2021-11-25T04:34:22.682238",
          "exception": false,
          "start_time": "2021-11-25T04:34:22.488682",
          "status": "completed"
        },
        "tags": [],
        "id": "7OD2unoZFHb5"
      },
      "outputs": [],
      "source": [
        "fig = make_subplots(rows=1,cols=1)\n",
        "Colors = ['#0078d7','#16c60c','#f03a17','#00f8d7','#f0f87f','#f0595c']\n",
        "fig.add_trace(go.Bar(y = df['Dependent_count'].value_counts().values.tolist(), \n",
        "                      x = df['Dependent_count'].value_counts().index, \n",
        "                      text=df['Dependent_count'].value_counts().values.tolist(),\n",
        "              textfont=dict(size=15),\n",
        "                      textposition = 'outside',\n",
        "                      showlegend=False,\n",
        "              marker = dict(color = Colors,\n",
        "                            line_color = 'black',\n",
        "                            line_width=3)),row = 1,col = 1)\n",
        "\n",
        "fig.update_layout(title={'y':0.9,\n",
        "                         'x':0.5,\n",
        "                         'xanchor': 'center',\n",
        "                         'yanchor': 'top'},\n",
        "                  template='plotly_white')\n",
        "fig.update_yaxes(range=[0,3200])\n",
        "iplot(fig)\n",
        "\n"
      ],
      "id": "7OD2unoZFHb5"
    },
    {
      "cell_type": "code",
      "execution_count": null,
      "metadata": {
        "_kg_hide-input": true,
        "execution": {
          "iopub.execute_input": "2021-11-25T04:34:22.959117Z",
          "iopub.status.busy": "2021-11-25T04:34:22.958491Z",
          "iopub.status.idle": "2021-11-25T04:34:23.034250Z",
          "shell.execute_reply": "2021-11-25T04:34:23.033749Z",
          "shell.execute_reply.started": "2021-11-12T16:52:01.436373Z"
        },
        "papermill": {
          "duration": 0.215891,
          "end_time": "2021-11-25T04:34:23.034391",
          "exception": false,
          "start_time": "2021-11-25T04:34:22.818500",
          "status": "completed"
        },
        "tags": [],
        "id": "2kGWZU_XFHb5"
      },
      "outputs": [],
      "source": [
        "fig = px.histogram(df, x=\"Dependent_count\", color =\"Attrition_Flag\", pattern_shape=\"Attrition_Flag\",\n",
        "                   template='plotly_white', barmode='group',color_discrete_sequence={\n",
        "                0: \"#f0f87f\",\n",
        "                1: \"#4696f9\"})\n",
        "\n",
        "\n",
        "fig.update_layout(bargap=0.2)\n",
        "\n",
        "fig.show()"
      ],
      "id": "2kGWZU_XFHb5"
    },
    {
      "cell_type": "markdown",
      "metadata": {
        "papermill": {
          "duration": 0.136524,
          "end_time": "2021-11-25T04:34:23.311499",
          "exception": false,
          "start_time": "2021-11-25T04:34:23.174975",
          "status": "completed"
        },
        "tags": [],
        "id": "UywJWrlgFHb6"
      },
      "source": [
        "<h1 style=\"color:#323232;font-size:35px;font-family:Georgia;text-align:center;\"><strong>✏️Analysis <strong style=\"color:#2c2bce;font-size:25px;font-family:Georgia;\">The <strong style=\"color:#323232;font-size:35px;font-family:Georgia;\">Months_on_book\n",
        " <strong style=\"color:#2c2bce;font-size:25px;font-family:Georgia;\">:- </strong></strong></strong></strong></h1>\n"
      ],
      "id": "UywJWrlgFHb6"
    },
    {
      "cell_type": "code",
      "execution_count": null,
      "metadata": {
        "execution": {
          "iopub.execute_input": "2021-11-25T04:34:23.601025Z",
          "iopub.status.busy": "2021-11-25T04:34:23.600151Z",
          "iopub.status.idle": "2021-11-25T04:34:23.604141Z",
          "shell.execute_reply": "2021-11-25T04:34:23.603605Z",
          "shell.execute_reply.started": "2021-11-12T16:52:01.558594Z"
        },
        "papermill": {
          "duration": 0.15512,
          "end_time": "2021-11-25T04:34:23.604279",
          "exception": false,
          "start_time": "2021-11-25T04:34:23.449159",
          "status": "completed"
        },
        "tags": [],
        "id": "iVMxpz_hFHb6"
      },
      "outputs": [],
      "source": [
        "df_nunique = {var: pd.DataFrame(df['Months_on_book'].value_counts()) \n",
        "              for var in {'Months_on_book'}}\n",
        "multi_table([ df_nunique['Months_on_book'].style.set_properties(**{\"background-color\": \"black\",\"color\": \"white\", \"border-color\": \"black\",\"font-size\":\"11.5pt\",'width': 200})])"
      ],
      "id": "iVMxpz_hFHb6"
    },
    {
      "cell_type": "code",
      "execution_count": null,
      "metadata": {
        "_kg_hide-input": true,
        "execution": {
          "iopub.execute_input": "2021-11-25T04:34:23.940322Z",
          "iopub.status.busy": "2021-11-25T04:34:23.929594Z",
          "iopub.status.idle": "2021-11-25T04:34:23.944244Z",
          "shell.execute_reply": "2021-11-25T04:34:23.944690Z",
          "shell.execute_reply.started": "2021-11-12T16:52:01.578141Z"
        },
        "papermill": {
          "duration": 0.199142,
          "end_time": "2021-11-25T04:34:23.944851",
          "exception": false,
          "start_time": "2021-11-25T04:34:23.745709",
          "status": "completed"
        },
        "tags": [],
        "id": "tj4YPcjDFHb6"
      },
      "outputs": [],
      "source": [
        "fig = make_subplots(rows=1,cols=1)\n",
        "fig.add_trace(go.Bar(y = df['Months_on_book'].value_counts().values.tolist(), \n",
        "                      x = df['Months_on_book'].value_counts().index, \n",
        "                      text=df['Months_on_book'].value_counts().values.tolist(),\n",
        "              textfont=dict(size=15),\n",
        "                      textposition = 'outside',\n",
        "                      showlegend=False,\n",
        "              marker = dict(color = 'white',\n",
        "                            line_color = 'black',\n",
        "                            line_width=3)),row = 1,col = 1)\n",
        "\n",
        "fig.update_layout(title={'y':0.9,\n",
        "                         'x':0.5,\n",
        "                         'xanchor': 'center',\n",
        "                         'yanchor': 'top'},\n",
        "                  template='plotly_white')\n",
        "fig.update_yaxes(range=[0,2800])\n",
        "iplot(fig)"
      ],
      "id": "tj4YPcjDFHb6"
    },
    {
      "cell_type": "code",
      "execution_count": null,
      "metadata": {
        "execution": {
          "iopub.execute_input": "2021-11-25T04:34:24.231113Z",
          "iopub.status.busy": "2021-11-25T04:34:24.230134Z",
          "iopub.status.idle": "2021-11-25T04:34:24.236320Z",
          "shell.execute_reply": "2021-11-25T04:34:24.236806Z",
          "shell.execute_reply.started": "2021-11-12T16:52:01.665674Z"
        },
        "papermill": {
          "duration": 0.15347,
          "end_time": "2021-11-25T04:34:24.236982",
          "exception": false,
          "start_time": "2021-11-25T04:34:24.083512",
          "status": "completed"
        },
        "tags": [],
        "id": "L-R9KffOFHb7"
      },
      "outputs": [],
      "source": [
        "df['Bank_Relationship_Period']=0\n",
        "df.loc[(df['Months_on_book']>=0)&(df['Months_on_book']<=10),'Bank_Relationship_Period']=0\n",
        "df.loc[(df['Months_on_book']>10)&(df['Months_on_book']<=20),'Bank_Relationship_Period']=1\n",
        "df.loc[(df['Months_on_book']>20)&(df['Months_on_book']<=30),'Bank_Relationship_Period']=2\n",
        "df.loc[(df['Months_on_book']>30)&(df['Months_on_book']<=40),'Bank_Relationship_Period']=3\n",
        "df.loc[df['Months_on_book']>50,'Bank_Relationship_Period']=4"
      ],
      "id": "L-R9KffOFHb7"
    },
    {
      "cell_type": "code",
      "execution_count": null,
      "metadata": {
        "execution": {
          "iopub.execute_input": "2021-11-25T04:34:24.521712Z",
          "iopub.status.busy": "2021-11-25T04:34:24.520761Z",
          "iopub.status.idle": "2021-11-25T04:34:24.525149Z",
          "shell.execute_reply": "2021-11-25T04:34:24.525566Z",
          "shell.execute_reply.started": "2021-11-12T16:52:01.681941Z"
        },
        "papermill": {
          "duration": 0.150586,
          "end_time": "2021-11-25T04:34:24.525730",
          "exception": false,
          "start_time": "2021-11-25T04:34:24.375144",
          "status": "completed"
        },
        "tags": [],
        "id": "ijraYC2mFHb7"
      },
      "outputs": [],
      "source": [
        "df['Bank_Relationship_Period']=df['Bank_Relationship_Period'].astype(int)"
      ],
      "id": "ijraYC2mFHb7"
    },
    {
      "cell_type": "code",
      "execution_count": null,
      "metadata": {
        "execution": {
          "iopub.execute_input": "2021-11-25T04:34:24.809037Z",
          "iopub.status.busy": "2021-11-25T04:34:24.807774Z",
          "iopub.status.idle": "2021-11-25T04:34:24.813096Z",
          "shell.execute_reply": "2021-11-25T04:34:24.812583Z",
          "shell.execute_reply.started": "2021-11-12T16:52:01.694444Z"
        },
        "papermill": {
          "duration": 0.148266,
          "end_time": "2021-11-25T04:34:24.813254",
          "exception": false,
          "start_time": "2021-11-25T04:34:24.664988",
          "status": "completed"
        },
        "tags": [],
        "id": "rU89YnkWFHb7"
      },
      "outputs": [],
      "source": [
        "df.drop(['Months_on_book'],axis = 1,inplace = True)"
      ],
      "id": "rU89YnkWFHb7"
    },
    {
      "cell_type": "code",
      "execution_count": null,
      "metadata": {
        "execution": {
          "iopub.execute_input": "2021-11-25T04:34:25.101233Z",
          "iopub.status.busy": "2021-11-25T04:34:25.100551Z",
          "iopub.status.idle": "2021-11-25T04:34:25.107368Z",
          "shell.execute_reply": "2021-11-25T04:34:25.107804Z",
          "shell.execute_reply.started": "2021-11-12T16:52:01.713135Z"
        },
        "papermill": {
          "duration": 0.151796,
          "end_time": "2021-11-25T04:34:25.107982",
          "exception": false,
          "start_time": "2021-11-25T04:34:24.956186",
          "status": "completed"
        },
        "tags": [],
        "id": "fpizaSqmFHb7"
      },
      "outputs": [],
      "source": [
        "df_nunique = {var: pd.DataFrame(df['Bank_Relationship_Period'].value_counts()) \n",
        "              for var in {'Bank_Relationship_Period'}}\n",
        "multi_table([ df_nunique['Bank_Relationship_Period'].style.set_properties(**{\"background-color\": \"black\",\"color\": \"white\", \"border-color\": \"black\",\"font-size\":\"11.5pt\",'width': 200})])"
      ],
      "id": "fpizaSqmFHb7"
    },
    {
      "cell_type": "code",
      "execution_count": null,
      "metadata": {
        "_kg_hide-input": true,
        "execution": {
          "iopub.execute_input": "2021-11-25T04:34:25.388084Z",
          "iopub.status.busy": "2021-11-25T04:34:25.387494Z",
          "iopub.status.idle": "2021-11-25T04:34:25.442538Z",
          "shell.execute_reply": "2021-11-25T04:34:25.442957Z",
          "shell.execute_reply.started": "2021-11-12T16:52:01.732607Z"
        },
        "papermill": {
          "duration": 0.196346,
          "end_time": "2021-11-25T04:34:25.443122",
          "exception": false,
          "start_time": "2021-11-25T04:34:25.246776",
          "status": "completed"
        },
        "tags": [],
        "id": "ll9cbx76FHb8"
      },
      "outputs": [],
      "source": [
        "fig = make_subplots(rows=1,cols=1)\n",
        "Colors = ['#0078d7','#16c60c','#f03a17','#00f8d7','#f0f87f']\n",
        "fig.add_trace(go.Bar(y = df['Bank_Relationship_Period'].value_counts().values.tolist(), \n",
        "                      x = df['Bank_Relationship_Period'].value_counts().index, \n",
        "                      text=df['Bank_Relationship_Period'].value_counts().values.tolist(),\n",
        "              textfont=dict(size=15),\n",
        "                      textposition = 'outside',\n",
        "                      showlegend=False,\n",
        "              marker = dict(color = Colors,\n",
        "                            line_color = 'black',\n",
        "                            line_width=3)),row = 1,col = 1)\n",
        "\n",
        "fig.update_layout(title={'y':0.9,\n",
        "                         'x':0.5,\n",
        "                         'xanchor': 'center',\n",
        "                         'yanchor': 'top'},\n",
        "                  template='plotly_white')\n",
        "fig.update_yaxes(range=[0,6500])\n",
        "iplot(fig)"
      ],
      "id": "ll9cbx76FHb8"
    },
    {
      "cell_type": "code",
      "execution_count": null,
      "metadata": {
        "_kg_hide-input": true,
        "execution": {
          "iopub.execute_input": "2021-11-25T04:34:25.727508Z",
          "iopub.status.busy": "2021-11-25T04:34:25.726928Z",
          "iopub.status.idle": "2021-11-25T04:34:25.801016Z",
          "shell.execute_reply": "2021-11-25T04:34:25.801495Z",
          "shell.execute_reply.started": "2021-11-12T16:52:01.816119Z"
        },
        "papermill": {
          "duration": 0.217993,
          "end_time": "2021-11-25T04:34:25.801656",
          "exception": false,
          "start_time": "2021-11-25T04:34:25.583663",
          "status": "completed"
        },
        "tags": [],
        "id": "TEGpYAudFHb8"
      },
      "outputs": [],
      "source": [
        "fig = px.histogram(df, x=\"Bank_Relationship_Period\", color =\"Attrition_Flag\", pattern_shape=\"Attrition_Flag\",\n",
        "                   template='plotly_white', barmode='group',color_discrete_sequence={\n",
        "                0: \"#f0f87f\",\n",
        "                1: \"#4696f9\"})\n",
        "\n",
        "fig.update_layout(bargap=0.2)\n",
        "\n",
        "fig.show()"
      ],
      "id": "TEGpYAudFHb8"
    },
    {
      "cell_type": "markdown",
      "metadata": {
        "papermill": {
          "duration": 0.142416,
          "end_time": "2021-11-25T04:34:26.086881",
          "exception": false,
          "start_time": "2021-11-25T04:34:25.944465",
          "status": "completed"
        },
        "tags": [],
        "id": "QI3qK1tuFHb8"
      },
      "source": [
        "<h1 style=\"color:#323232;font-size:35px;font-family:Georgia;text-align:center;\"><strong>✏️Analysis <strong style=\"color:#2c2bce;font-size:25px;font-family:Georgia;\">The <strong style=\"color:#323232;font-size:35px;font-family:Georgia;\">Total_Relationship_Count\n",
        " <strong style=\"color:#2c2bce;font-size:25px;font-family:Georgia;\">:- </strong></strong></strong></strong></h1>"
      ],
      "id": "QI3qK1tuFHb8"
    },
    {
      "cell_type": "code",
      "execution_count": null,
      "metadata": {
        "execution": {
          "iopub.execute_input": "2021-11-25T04:34:26.374540Z",
          "iopub.status.busy": "2021-11-25T04:34:26.373925Z",
          "iopub.status.idle": "2021-11-25T04:34:26.383714Z",
          "shell.execute_reply": "2021-11-25T04:34:26.384234Z",
          "shell.execute_reply.started": "2021-11-12T16:52:01.943482Z"
        },
        "papermill": {
          "duration": 0.154026,
          "end_time": "2021-11-25T04:34:26.384397",
          "exception": false,
          "start_time": "2021-11-25T04:34:26.230371",
          "status": "completed"
        },
        "tags": [],
        "id": "RNiU6eYAFHb9"
      },
      "outputs": [],
      "source": [
        "df_nunique = {var: pd.DataFrame(df['Total_Relationship_Count'].value_counts()) \n",
        "              for var in {'Total_Relationship_Count'}}\n",
        "multi_table([ df_nunique['Total_Relationship_Count'].style.set_properties(**{\"background-color\": \"black\",\"color\": \"white\", \"border-color\": \"black\",\"font-size\":\"11.5pt\",'width': 200})])\n"
      ],
      "id": "RNiU6eYAFHb9"
    },
    {
      "cell_type": "code",
      "execution_count": null,
      "metadata": {
        "_kg_hide-input": true,
        "execution": {
          "iopub.execute_input": "2021-11-25T04:34:26.670880Z",
          "iopub.status.busy": "2021-11-25T04:34:26.670324Z",
          "iopub.status.idle": "2021-11-25T04:34:26.724971Z",
          "shell.execute_reply": "2021-11-25T04:34:26.725476Z",
          "shell.execute_reply.started": "2021-11-12T16:52:01.964142Z"
        },
        "papermill": {
          "duration": 0.199909,
          "end_time": "2021-11-25T04:34:26.725643",
          "exception": false,
          "start_time": "2021-11-25T04:34:26.525734",
          "status": "completed"
        },
        "tags": [],
        "id": "euYuBgEHFHb9"
      },
      "outputs": [],
      "source": [
        "fig = make_subplots(rows=1,cols=1)\n",
        "Colors = ['#0078d7','#16c60c','#f03a17','#00f8d7','#f0f87f','#f0595c']\n",
        "fig.add_trace(go.Bar(y = df['Total_Relationship_Count'].value_counts().values.tolist(), \n",
        "                      x = df['Total_Relationship_Count'].value_counts().index, \n",
        "                      text=df['Total_Relationship_Count'].value_counts().values.tolist(),\n",
        "              textfont=dict(size=15),\n",
        "                      textposition = 'outside',\n",
        "                      showlegend=False,\n",
        "              marker = dict(color = Colors,\n",
        "                            line_color = 'black',\n",
        "                            line_width=3)),row = 1,col = 1)\n",
        "\n",
        "fig.update_layout(title={'y':0.9,\n",
        "                         'x':0.5,\n",
        "                         'xanchor': 'center',\n",
        "                         'yanchor': 'top'},\n",
        "                  template='plotly_white')\n",
        "fig.update_yaxes(range=[0,2500])\n",
        "iplot(fig)"
      ],
      "id": "euYuBgEHFHb9"
    },
    {
      "cell_type": "code",
      "execution_count": null,
      "metadata": {
        "_kg_hide-input": true,
        "execution": {
          "iopub.execute_input": "2021-11-25T04:34:27.014321Z",
          "iopub.status.busy": "2021-11-25T04:34:27.013645Z",
          "iopub.status.idle": "2021-11-25T04:34:27.089184Z",
          "shell.execute_reply": "2021-11-25T04:34:27.088648Z",
          "shell.execute_reply.started": "2021-11-12T16:52:02.052704Z"
        },
        "papermill": {
          "duration": 0.220812,
          "end_time": "2021-11-25T04:34:27.089317",
          "exception": false,
          "start_time": "2021-11-25T04:34:26.868505",
          "status": "completed"
        },
        "tags": [],
        "id": "2CYEIt3eFHb9"
      },
      "outputs": [],
      "source": [
        "fig = px.histogram(df, x=\"Total_Relationship_Count\", color =\"Attrition_Flag\", pattern_shape=\"Attrition_Flag\",\n",
        "                   template='plotly_white', barmode='group',color_discrete_sequence={\n",
        "                0: \"#f0f87f\",\n",
        "                1: \"#4696f9\"})\n",
        "\n",
        "\n",
        "fig.update_layout(bargap=0.2)\n",
        "\n",
        "fig.show()"
      ],
      "id": "2CYEIt3eFHb9"
    },
    {
      "cell_type": "markdown",
      "metadata": {
        "papermill": {
          "duration": 0.148655,
          "end_time": "2021-11-25T04:34:27.386130",
          "exception": false,
          "start_time": "2021-11-25T04:34:27.237475",
          "status": "completed"
        },
        "tags": [],
        "id": "2iSOcrIXFHb-"
      },
      "source": [
        "<h1 style=\"color:#323232;font-size:35px;font-family:Georgia;text-align:center;\"><strong>✏️Analysis <strong style=\"color:#2c2bce;font-size:25px;font-family:Georgia;\">The <strong style=\"color:#323232;font-size:35px;font-family:Georgia;\">Months_Inactive_12_mon\n",
        " <strong style=\"color:#2c2bce;font-size:25px;font-family:Georgia;\">:- </strong></strong></strong></strong></h1>"
      ],
      "id": "2iSOcrIXFHb-"
    },
    {
      "cell_type": "code",
      "execution_count": null,
      "metadata": {
        "execution": {
          "iopub.execute_input": "2021-11-25T04:34:27.687786Z",
          "iopub.status.busy": "2021-11-25T04:34:27.686853Z",
          "iopub.status.idle": "2021-11-25T04:34:27.690217Z",
          "shell.execute_reply": "2021-11-25T04:34:27.690666Z",
          "shell.execute_reply.started": "2021-11-12T16:52:02.171536Z"
        },
        "papermill": {
          "duration": 0.158808,
          "end_time": "2021-11-25T04:34:27.690824",
          "exception": false,
          "start_time": "2021-11-25T04:34:27.532016",
          "status": "completed"
        },
        "tags": [],
        "id": "3FO5QLwFFHb-"
      },
      "outputs": [],
      "source": [
        "df_nunique = {var: pd.DataFrame(df['Months_Inactive_12_mon'].value_counts()) \n",
        "              for var in {'Months_Inactive_12_mon'}}\n",
        "multi_table([ df_nunique['Months_Inactive_12_mon'].style.set_properties(**{\"background-color\": \"black\",\"color\": \"white\", \"border-color\": \"black\",\"font-size\":\"11.5pt\",'width': 200})])\n"
      ],
      "id": "3FO5QLwFFHb-"
    },
    {
      "cell_type": "code",
      "execution_count": null,
      "metadata": {
        "_kg_hide-input": true,
        "execution": {
          "iopub.execute_input": "2021-11-25T04:34:27.986977Z",
          "iopub.status.busy": "2021-11-25T04:34:27.986373Z",
          "iopub.status.idle": "2021-11-25T04:34:28.036792Z",
          "shell.execute_reply": "2021-11-25T04:34:28.037329Z",
          "shell.execute_reply.started": "2021-11-12T16:52:02.188751Z"
        },
        "papermill": {
          "duration": 0.202498,
          "end_time": "2021-11-25T04:34:28.037493",
          "exception": false,
          "start_time": "2021-11-25T04:34:27.834995",
          "status": "completed"
        },
        "tags": [],
        "id": "er72bgYjFHb-"
      },
      "outputs": [],
      "source": [
        "fig = make_subplots(rows=1,cols=1)\n",
        "Colors = ['#0078d7','#16c60c','#f03a17','#00f8d7','#f0f87f','#f0595c']\n",
        "fig.add_trace(go.Bar(y = df['Months_Inactive_12_mon'].value_counts().values.tolist(), \n",
        "                      x = df['Months_Inactive_12_mon'].value_counts().index, \n",
        "                      text=df['Months_Inactive_12_mon'].value_counts().values.tolist(),\n",
        "              textfont=dict(size=15),\n",
        "                      textposition = 'outside',\n",
        "                      showlegend=False,\n",
        "              marker = dict(color = Colors,\n",
        "                            line_color = 'black',\n",
        "                            line_width=3)),row = 1,col = 1)\n",
        "\n",
        "fig.update_layout(title={'y':0.9,\n",
        "                         'x':0.5,\n",
        "                         'xanchor': 'center',\n",
        "                         'yanchor': 'top'},\n",
        "                  template='plotly_white')\n",
        "fig.update_yaxes(range=[0,4500])\n",
        "iplot(fig)"
      ],
      "id": "er72bgYjFHb-"
    },
    {
      "cell_type": "code",
      "execution_count": null,
      "metadata": {
        "_kg_hide-input": true,
        "execution": {
          "iopub.execute_input": "2021-11-25T04:34:28.342576Z",
          "iopub.status.busy": "2021-11-25T04:34:28.341913Z",
          "iopub.status.idle": "2021-11-25T04:34:28.409882Z",
          "shell.execute_reply": "2021-11-25T04:34:28.409420Z",
          "shell.execute_reply.started": "2021-11-12T16:52:02.276142Z"
        },
        "papermill": {
          "duration": 0.226555,
          "end_time": "2021-11-25T04:34:28.410036",
          "exception": false,
          "start_time": "2021-11-25T04:34:28.183481",
          "status": "completed"
        },
        "tags": [],
        "id": "nXMat8N5FHb_"
      },
      "outputs": [],
      "source": [
        "fig = px.histogram(df, x=\"Months_Inactive_12_mon\", color =\"Attrition_Flag\", pattern_shape=\"Attrition_Flag\",\n",
        "                   template='plotly_white', barmode='group',color_discrete_sequence={\n",
        "                0: \"#f0f87f\",\n",
        "                1: \"#4696f9\"})\n",
        "\n",
        "\n",
        "fig.update_layout(bargap=0.2)\n",
        "\n",
        "fig.show()"
      ],
      "id": "nXMat8N5FHb_"
    },
    {
      "cell_type": "markdown",
      "metadata": {
        "papermill": {
          "duration": 0.145444,
          "end_time": "2021-11-25T04:34:28.727924",
          "exception": false,
          "start_time": "2021-11-25T04:34:28.582480",
          "status": "completed"
        },
        "tags": [],
        "id": "gNuQDTecFHb_"
      },
      "source": [
        "<h1 style=\"color:#323232;font-size:35px;font-family:Georgia;text-align:center;\"><strong>✏️Analysis <strong style=\"color:#2c2bce;font-size:25px;font-family:Georgia;\">The <strong style=\"color:#323232;font-size:35px;font-family:Georgia;\">Contacts_Count_12_mon\n",
        " <strong style=\"color:#2c2bce;font-size:25px;font-family:Georgia;\">:- </strong></strong></strong></strong></h1>"
      ],
      "id": "gNuQDTecFHb_"
    },
    {
      "cell_type": "code",
      "execution_count": null,
      "metadata": {
        "execution": {
          "iopub.execute_input": "2021-11-25T04:34:29.023790Z",
          "iopub.status.busy": "2021-11-25T04:34:29.023189Z",
          "iopub.status.idle": "2021-11-25T04:34:29.034246Z",
          "shell.execute_reply": "2021-11-25T04:34:29.033767Z",
          "shell.execute_reply.started": "2021-11-12T16:52:02.396732Z"
        },
        "papermill": {
          "duration": 0.160741,
          "end_time": "2021-11-25T04:34:29.034384",
          "exception": false,
          "start_time": "2021-11-25T04:34:28.873643",
          "status": "completed"
        },
        "tags": [],
        "id": "OuwFnpvKFHb_"
      },
      "outputs": [],
      "source": [
        "df_nunique = {var: pd.DataFrame(df['Contacts_Count_12_mon'].value_counts()) \n",
        "              for var in {'Contacts_Count_12_mon'}}\n",
        "multi_table([ df_nunique['Contacts_Count_12_mon'].style.set_properties(**{\"background-color\": \"black\",\"color\": \"white\", \"border-color\": \"black\",\"font-size\":\"11.5pt\",'width': 200})])\n"
      ],
      "id": "OuwFnpvKFHb_"
    },
    {
      "cell_type": "code",
      "execution_count": null,
      "metadata": {
        "_kg_hide-input": true,
        "execution": {
          "iopub.execute_input": "2021-11-25T04:34:29.383960Z",
          "iopub.status.busy": "2021-11-25T04:34:29.329312Z",
          "iopub.status.idle": "2021-11-25T04:34:29.387777Z",
          "shell.execute_reply": "2021-11-25T04:34:29.387201Z",
          "shell.execute_reply.started": "2021-11-12T16:52:02.413581Z"
        },
        "papermill": {
          "duration": 0.206798,
          "end_time": "2021-11-25T04:34:29.387921",
          "exception": false,
          "start_time": "2021-11-25T04:34:29.181123",
          "status": "completed"
        },
        "tags": [],
        "id": "fjqA2C7IFHcA"
      },
      "outputs": [],
      "source": [
        "fig = make_subplots(rows=1,cols=1)\n",
        "Colors = ['#0078d7','#16c60c','#f03a17','#00f8d7','#f0f87f','#f0595c']\n",
        "fig.add_trace(go.Bar(y = df['Contacts_Count_12_mon'].value_counts().values.tolist(), \n",
        "                      x = df['Contacts_Count_12_mon'].value_counts().index, \n",
        "                      text=df['Contacts_Count_12_mon'].value_counts().values.tolist(),\n",
        "              textfont=dict(size=15),\n",
        "                      textposition = 'outside',\n",
        "                      showlegend=False,\n",
        "              marker = dict(color = Colors,\n",
        "                            line_color = 'black',\n",
        "                            line_width=3)),row = 1,col = 1)\n",
        "\n",
        "fig.update_layout(title={'y':0.9,\n",
        "                         'x':0.5,\n",
        "                         'xanchor': 'center',\n",
        "                         'yanchor': 'top'},\n",
        "                  template='plotly_white')\n",
        "fig.update_yaxes(range=[0,4000])\n",
        "iplot(fig)"
      ],
      "id": "fjqA2C7IFHcA"
    },
    {
      "cell_type": "code",
      "execution_count": null,
      "metadata": {
        "_kg_hide-input": true,
        "execution": {
          "iopub.execute_input": "2021-11-25T04:34:29.798309Z",
          "iopub.status.busy": "2021-11-25T04:34:29.797663Z",
          "iopub.status.idle": "2021-11-25T04:34:29.861873Z",
          "shell.execute_reply": "2021-11-25T04:34:29.861405Z",
          "shell.execute_reply.started": "2021-11-12T16:52:02.497045Z"
        },
        "papermill": {
          "duration": 0.325907,
          "end_time": "2021-11-25T04:34:29.862016",
          "exception": false,
          "start_time": "2021-11-25T04:34:29.536109",
          "status": "completed"
        },
        "tags": [],
        "id": "cZv0MQy_FHcA"
      },
      "outputs": [],
      "source": [
        "fig = px.histogram(df, x=\"Contacts_Count_12_mon\", color =\"Attrition_Flag\", pattern_shape=\"Attrition_Flag\",\n",
        "                   template='plotly_white', barmode='group',color_discrete_sequence={\n",
        "                0: \"#f0f87f\",\n",
        "                1: \"#4696f9\"})\n",
        "\n",
        "\n",
        "fig.update_layout(bargap=0.2)\n",
        "\n",
        "fig.show()"
      ],
      "id": "cZv0MQy_FHcA"
    },
    {
      "cell_type": "markdown",
      "metadata": {
        "papermill": {
          "duration": 0.147991,
          "end_time": "2021-11-25T04:34:30.161753",
          "exception": false,
          "start_time": "2021-11-25T04:34:30.013762",
          "status": "completed"
        },
        "tags": [],
        "id": "gASbpgchFHcA"
      },
      "source": [
        "<h1 style=\"color:#323232;font-size:35px;font-family:Georgia;text-align:center;\"><strong>✏️Analysis <strong style=\"color:#2c2bce;font-size:25px;font-family:Georgia;\">The <strong style=\"color:#323232;font-size:35px;font-family:Georgia;\">Credit_Limit\n",
        " <strong style=\"color:#2c2bce;font-size:25px;font-family:Georgia;\">:- </strong></strong></strong></strong></h1>"
      ],
      "id": "gASbpgchFHcA"
    },
    {
      "cell_type": "code",
      "execution_count": null,
      "metadata": {
        "_kg_hide-input": true,
        "execution": {
          "iopub.execute_input": "2021-11-25T04:34:30.475528Z",
          "iopub.status.busy": "2021-11-25T04:34:30.474837Z",
          "iopub.status.idle": "2021-11-25T04:34:30.519296Z",
          "shell.execute_reply": "2021-11-25T04:34:30.519721Z",
          "shell.execute_reply.started": "2021-11-12T16:52:02.614507Z"
        },
        "papermill": {
          "duration": 0.207981,
          "end_time": "2021-11-25T04:34:30.519889",
          "exception": false,
          "start_time": "2021-11-25T04:34:30.311908",
          "status": "completed"
        },
        "tags": [],
        "id": "X_s2JTUSFHcA"
      },
      "outputs": [],
      "source": [
        "fig = make_subplots(rows=1,cols=1)\n",
        "\n",
        "fig.add_trace(go.Box(y=df['Credit_Limit']\n",
        "      , name=\"Precompiled Quartiles\"))\n",
        "\n",
        "fig.update_layout(title={'y':0.9,\n",
        "                         'x':0.5,\n",
        "                         'xanchor': 'center',\n",
        "                         'yanchor': 'top'},\n",
        "                  template='plotly_white')\n",
        "fig.update_yaxes(range=[0,40000])\n",
        "\n",
        "iplot(fig)"
      ],
      "id": "X_s2JTUSFHcA"
    },
    {
      "cell_type": "code",
      "execution_count": null,
      "metadata": {
        "_kg_hide-input": true,
        "execution": {
          "iopub.execute_input": "2021-11-25T04:34:30.842575Z",
          "iopub.status.busy": "2021-11-25T04:34:30.841656Z",
          "iopub.status.idle": "2021-11-25T04:34:30.898251Z",
          "shell.execute_reply": "2021-11-25T04:34:30.897753Z",
          "shell.execute_reply.started": "2021-11-12T16:52:02.699749Z"
        },
        "papermill": {
          "duration": 0.229334,
          "end_time": "2021-11-25T04:34:30.898383",
          "exception": false,
          "start_time": "2021-11-25T04:34:30.669049",
          "status": "completed"
        },
        "tags": [],
        "id": "iCV1p2IcFHcB"
      },
      "outputs": [],
      "source": [
        "fig = px.histogram(df, x=\"Credit_Limit\")\n",
        "fig.show()"
      ],
      "id": "iCV1p2IcFHcB"
    },
    {
      "cell_type": "code",
      "execution_count": null,
      "metadata": {
        "_kg_hide-input": true,
        "execution": {
          "iopub.execute_input": "2021-11-25T04:34:31.222177Z",
          "iopub.status.busy": "2021-11-25T04:34:31.221533Z",
          "iopub.status.idle": "2021-11-25T04:34:31.288889Z",
          "shell.execute_reply": "2021-11-25T04:34:31.288425Z",
          "shell.execute_reply.started": "2021-11-12T16:52:02.811291Z"
        },
        "papermill": {
          "duration": 0.23446,
          "end_time": "2021-11-25T04:34:31.289033",
          "exception": false,
          "start_time": "2021-11-25T04:34:31.054573",
          "status": "completed"
        },
        "tags": [],
        "id": "RmtZXLCyFHcB"
      },
      "outputs": [],
      "source": [
        "fig = px.histogram(df, x=\"Credit_Limit\", color =\"Attrition_Flag\", pattern_shape=\"Attrition_Flag\",\n",
        "                   template='plotly_white', barmode='group',color_discrete_sequence={\n",
        "                0: \"#f0f87f\",\n",
        "                1: \"#4696f9\"})\n",
        "\n",
        "fig.update_layout(bargap=0.2)\n",
        "\n",
        "fig.show()"
      ],
      "id": "RmtZXLCyFHcB"
    },
    {
      "cell_type": "markdown",
      "metadata": {
        "papermill": {
          "duration": 0.154888,
          "end_time": "2021-11-25T04:34:31.599688",
          "exception": false,
          "start_time": "2021-11-25T04:34:31.444800",
          "status": "completed"
        },
        "tags": [],
        "id": "zHOpbPqXFHcB"
      },
      "source": [
        "<h1 style=\"color:#323232;font-size:35px;font-family:Georgia;text-align:center;\"><strong>✏️Analysis <strong style=\"color:#2c2bce;font-size:25px;font-family:Georgia;\">The <strong style=\"color:#323232;font-size:35px;font-family:Georgia;\">Total_Revolving_Bal\n",
        " <strong style=\"color:#2c2bce;font-size:25px;font-family:Georgia;\">:- </strong></strong></strong></strong></h1>"
      ],
      "id": "zHOpbPqXFHcB"
    },
    {
      "cell_type": "code",
      "execution_count": null,
      "metadata": {
        "_kg_hide-input": true,
        "execution": {
          "iopub.execute_input": "2021-11-25T04:34:31.966588Z",
          "iopub.status.busy": "2021-11-25T04:34:31.961124Z",
          "iopub.status.idle": "2021-11-25T04:34:31.970506Z",
          "shell.execute_reply": "2021-11-25T04:34:31.969978Z",
          "shell.execute_reply.started": "2021-11-12T16:52:02.927962Z"
        },
        "papermill": {
          "duration": 0.211322,
          "end_time": "2021-11-25T04:34:31.970638",
          "exception": false,
          "start_time": "2021-11-25T04:34:31.759316",
          "status": "completed"
        },
        "tags": [],
        "id": "PintOmFuFHcJ"
      },
      "outputs": [],
      "source": [
        "fig = make_subplots(rows=1,cols=1)\n",
        "\n",
        "fig.add_trace(go.Box(y=df['Total_Revolving_Bal']\n",
        "      , name=\"Precompiled Quartiles\"))\n",
        "\n",
        "fig.update_layout(title={'y':0.9,\n",
        "                         'x':0.5,\n",
        "                         'xanchor': 'center',\n",
        "                         'yanchor': 'top'},\n",
        "                  template='plotly_white')\n",
        "fig.update_yaxes(range=[0,3500])\n",
        "iplot(fig)"
      ],
      "id": "PintOmFuFHcJ"
    },
    {
      "cell_type": "code",
      "execution_count": null,
      "metadata": {
        "_kg_hide-input": true,
        "execution": {
          "iopub.execute_input": "2021-11-25T04:34:32.297428Z",
          "iopub.status.busy": "2021-11-25T04:34:32.295485Z",
          "iopub.status.idle": "2021-11-25T04:34:32.364973Z",
          "shell.execute_reply": "2021-11-25T04:34:32.364503Z",
          "shell.execute_reply.started": "2021-11-12T16:52:03.006152Z"
        },
        "papermill": {
          "duration": 0.231902,
          "end_time": "2021-11-25T04:34:32.365109",
          "exception": false,
          "start_time": "2021-11-25T04:34:32.133207",
          "status": "completed"
        },
        "tags": [],
        "id": "Qo8fZdLRFHcK"
      },
      "outputs": [],
      "source": [
        "fig = px.histogram(df, x=\"Total_Revolving_Bal\")\n",
        "fig.show()"
      ],
      "id": "Qo8fZdLRFHcK"
    },
    {
      "cell_type": "code",
      "execution_count": null,
      "metadata": {
        "_kg_hide-input": true,
        "execution": {
          "iopub.execute_input": "2021-11-25T04:34:32.752994Z",
          "iopub.status.busy": "2021-11-25T04:34:32.752079Z",
          "iopub.status.idle": "2021-11-25T04:34:32.974988Z",
          "shell.execute_reply": "2021-11-25T04:34:32.975459Z",
          "shell.execute_reply.started": "2021-11-12T16:52:03.116498Z"
        },
        "papermill": {
          "duration": 0.428669,
          "end_time": "2021-11-25T04:34:32.975625",
          "exception": false,
          "start_time": "2021-11-25T04:34:32.546956",
          "status": "completed"
        },
        "tags": [],
        "id": "W7uKPZ_nFHcK"
      },
      "outputs": [],
      "source": [
        "fig = px.histogram(df, x=\"Total_Revolving_Bal\", color =\"Attrition_Flag\", pattern_shape=\"Attrition_Flag\",\n",
        "                   template='plotly_white', barmode='group',color_discrete_sequence={\n",
        "                0: \"#f0f87f\",\n",
        "                1: \"#4696f9\"})\n",
        "\n",
        "fig.update_layout(bargap=0.2)\n",
        "\n",
        "fig.show()"
      ],
      "id": "W7uKPZ_nFHcK"
    },
    {
      "cell_type": "markdown",
      "metadata": {
        "papermill": {
          "duration": 0.171068,
          "end_time": "2021-11-25T04:34:33.315880",
          "exception": false,
          "start_time": "2021-11-25T04:34:33.144812",
          "status": "completed"
        },
        "tags": [],
        "id": "Fcw1D_SOFHcL"
      },
      "source": [
        "<h1 style=\"color:#323232;font-size:35px;font-family:Georgia;text-align:center;\"><strong>✏️Analysis <strong style=\"color:#2c2bce;font-size:25px;font-family:Georgia;\">The <strong style=\"color:#323232;font-size:35px;font-family:Georgia;\">Avg_Open_To_Buy\n",
        " <strong style=\"color:#2c2bce;font-size:25px;font-family:Georgia;\">:- </strong></strong></strong></strong></h1>"
      ],
      "id": "Fcw1D_SOFHcL"
    },
    {
      "cell_type": "code",
      "execution_count": null,
      "metadata": {
        "_kg_hide-input": true,
        "execution": {
          "iopub.execute_input": "2021-11-25T04:34:33.665740Z",
          "iopub.status.busy": "2021-11-25T04:34:33.660587Z",
          "iopub.status.idle": "2021-11-25T04:34:33.711519Z",
          "shell.execute_reply": "2021-11-25T04:34:33.712048Z",
          "shell.execute_reply.started": "2021-11-12T16:52:03.444633Z"
        },
        "papermill": {
          "duration": 0.228622,
          "end_time": "2021-11-25T04:34:33.712214",
          "exception": false,
          "start_time": "2021-11-25T04:34:33.483592",
          "status": "completed"
        },
        "tags": [],
        "id": "9gFkhh8tFHcL"
      },
      "outputs": [],
      "source": [
        "fig = make_subplots(rows=1,cols=1)\n",
        "\n",
        "fig.add_trace(go.Box(y=df['Avg_Open_To_Buy']\n",
        "      , name=\"Precompiled Quartiles\"))\n",
        "\n",
        "fig.update_layout(title={'y':0.9,\n",
        "                         'x':0.5,\n",
        "                         'xanchor': 'center',\n",
        "                         'yanchor': 'top'},\n",
        "                  template='plotly_white')\n",
        "fig.update_yaxes(range=[0,40000])\n",
        "iplot(fig)"
      ],
      "id": "9gFkhh8tFHcL"
    },
    {
      "cell_type": "code",
      "execution_count": null,
      "metadata": {
        "_kg_hide-input": true,
        "execution": {
          "iopub.execute_input": "2021-11-25T04:34:34.065293Z",
          "iopub.status.busy": "2021-11-25T04:34:34.064268Z",
          "iopub.status.idle": "2021-11-25T04:34:34.135310Z",
          "shell.execute_reply": "2021-11-25T04:34:34.135870Z",
          "shell.execute_reply.started": "2021-11-12T16:52:03.521167Z"
        },
        "papermill": {
          "duration": 0.25139,
          "end_time": "2021-11-25T04:34:34.136116",
          "exception": false,
          "start_time": "2021-11-25T04:34:33.884726",
          "status": "completed"
        },
        "tags": [],
        "id": "vTDizIYoFHcL"
      },
      "outputs": [],
      "source": [
        "fig = px.histogram(df, x=\"Avg_Open_To_Buy\")\n",
        "fig.show()"
      ],
      "id": "vTDizIYoFHcL"
    },
    {
      "cell_type": "code",
      "execution_count": null,
      "metadata": {
        "_kg_hide-input": true,
        "execution": {
          "iopub.execute_input": "2021-11-25T04:34:34.490026Z",
          "iopub.status.busy": "2021-11-25T04:34:34.489302Z",
          "iopub.status.idle": "2021-11-25T04:34:34.565398Z",
          "shell.execute_reply": "2021-11-25T04:34:34.565865Z",
          "shell.execute_reply.started": "2021-11-12T16:52:03.630753Z"
        },
        "papermill": {
          "duration": 0.255657,
          "end_time": "2021-11-25T04:34:34.566063",
          "exception": false,
          "start_time": "2021-11-25T04:34:34.310406",
          "status": "completed"
        },
        "tags": [],
        "id": "JsQJV3EKFHcM"
      },
      "outputs": [],
      "source": [
        "fig = px.histogram(df, x=\"Avg_Open_To_Buy\", color =\"Attrition_Flag\", pattern_shape=\"Attrition_Flag\",\n",
        "                   template='plotly_white', barmode='group',color_discrete_sequence={\n",
        "                0: \"#f0f87f\",\n",
        "                1: \"#4696f9\"})\n",
        "\n",
        "fig.update_layout(bargap=0.2)\n",
        "\n",
        "fig.show()"
      ],
      "id": "JsQJV3EKFHcM"
    },
    {
      "cell_type": "markdown",
      "metadata": {
        "papermill": {
          "duration": 0.179851,
          "end_time": "2021-11-25T04:34:34.926495",
          "exception": false,
          "start_time": "2021-11-25T04:34:34.746644",
          "status": "completed"
        },
        "tags": [],
        "id": "LIScDnLAFHcM"
      },
      "source": [
        "<h1 style=\"color:#323232;font-size:35px;font-family:Georgia;text-align:center;\"><strong>✏️Analysis <strong style=\"color:#2c2bce;font-size:25px;font-family:Georgia;\">The <strong style=\"color:#323232;font-size:35px;font-family:Georgia;\">Total_Amt_Chng_Q4_Q1\n",
        " <strong style=\"color:#2c2bce;font-size:25px;font-family:Georgia;\">:- </strong></strong></strong></strong></h1>"
      ],
      "id": "LIScDnLAFHcM"
    },
    {
      "cell_type": "code",
      "execution_count": null,
      "metadata": {
        "_kg_hide-input": true,
        "execution": {
          "iopub.execute_input": "2021-11-25T04:34:35.292648Z",
          "iopub.status.busy": "2021-11-25T04:34:35.292043Z",
          "iopub.status.idle": "2021-11-25T04:34:35.339819Z",
          "shell.execute_reply": "2021-11-25T04:34:35.340301Z",
          "shell.execute_reply.started": "2021-11-12T16:52:03.750176Z"
        },
        "papermill": {
          "duration": 0.234413,
          "end_time": "2021-11-25T04:34:35.340489",
          "exception": false,
          "start_time": "2021-11-25T04:34:35.106076",
          "status": "completed"
        },
        "tags": [],
        "id": "t0uWOLvMFHcM"
      },
      "outputs": [],
      "source": [
        "fig = make_subplots(rows=1,cols=1)\n",
        "\n",
        "fig.add_trace(go.Box(y=df['Total_Amt_Chng_Q4_Q1']\n",
        "      , name=\"Precompiled Quartiles\"))\n",
        "\n",
        "fig.update_layout(title={'y':0.9,\n",
        "                         'x':0.5,\n",
        "                         'xanchor': 'center',\n",
        "                         'yanchor': 'top'},\n",
        "                  template='plotly_white')\n",
        "fig.update_yaxes(range=[0,5])\n",
        "iplot(fig)"
      ],
      "id": "t0uWOLvMFHcM"
    },
    {
      "cell_type": "code",
      "execution_count": null,
      "metadata": {
        "_kg_hide-input": true,
        "execution": {
          "iopub.execute_input": "2021-11-25T04:34:35.705899Z",
          "iopub.status.busy": "2021-11-25T04:34:35.705344Z",
          "iopub.status.idle": "2021-11-25T04:34:35.777360Z",
          "shell.execute_reply": "2021-11-25T04:34:35.776836Z",
          "shell.execute_reply.started": "2021-11-12T16:52:03.828472Z"
        },
        "papermill": {
          "duration": 0.253684,
          "end_time": "2021-11-25T04:34:35.777489",
          "exception": false,
          "start_time": "2021-11-25T04:34:35.523805",
          "status": "completed"
        },
        "tags": [],
        "id": "kMJ3N5ByFHcN"
      },
      "outputs": [],
      "source": [
        "fig = px.histogram(df, x=\"Total_Amt_Chng_Q4_Q1\")\n",
        "fig.show()"
      ],
      "id": "kMJ3N5ByFHcN"
    },
    {
      "cell_type": "code",
      "execution_count": null,
      "metadata": {
        "_kg_hide-input": true,
        "execution": {
          "iopub.execute_input": "2021-11-25T04:34:36.151114Z",
          "iopub.status.busy": "2021-11-25T04:34:36.150394Z",
          "iopub.status.idle": "2021-11-25T04:34:36.221817Z",
          "shell.execute_reply": "2021-11-25T04:34:36.222366Z",
          "shell.execute_reply.started": "2021-11-12T16:52:03.936484Z"
        },
        "papermill": {
          "duration": 0.26186,
          "end_time": "2021-11-25T04:34:36.222545",
          "exception": false,
          "start_time": "2021-11-25T04:34:35.960685",
          "status": "completed"
        },
        "tags": [],
        "id": "xL6LRuE9FHcN"
      },
      "outputs": [],
      "source": [
        "fig = px.histogram(df, x=\"Total_Amt_Chng_Q4_Q1\", color =\"Attrition_Flag\", pattern_shape=\"Attrition_Flag\",\n",
        "                   template='plotly_white', barmode='group',color_discrete_sequence={\n",
        "                0: \"#f0f87f\",\n",
        "                1: \"#4696f9\"})\n",
        "\n",
        "fig.update_layout(bargap=0.2)\n",
        "\n",
        "fig.show()"
      ],
      "id": "xL6LRuE9FHcN"
    },
    {
      "cell_type": "markdown",
      "metadata": {
        "papermill": {
          "duration": 0.179844,
          "end_time": "2021-11-25T04:34:36.588514",
          "exception": false,
          "start_time": "2021-11-25T04:34:36.408670",
          "status": "completed"
        },
        "tags": [],
        "id": "ANG6h6xrFHcN"
      },
      "source": [
        "<h1 style=\"color:#323232;font-size:35px;font-family:Georgia;text-align:center;\"><strong>✏️Analysis <strong style=\"color:#2c2bce;font-size:25px;font-family:Georgia;\">The <strong style=\"color:#323232;font-size:35px;font-family:Georgia;\">Total_Trans_Amt\n",
        " <strong style=\"color:#2c2bce;font-size:25px;font-family:Georgia;\">:- </strong></strong></strong></strong></h1>"
      ],
      "id": "ANG6h6xrFHcN"
    },
    {
      "cell_type": "code",
      "execution_count": null,
      "metadata": {
        "_kg_hide-input": true,
        "execution": {
          "iopub.execute_input": "2021-11-25T04:34:36.940750Z",
          "iopub.status.busy": "2021-11-25T04:34:36.940124Z",
          "iopub.status.idle": "2021-11-25T04:34:36.990441Z",
          "shell.execute_reply": "2021-11-25T04:34:36.990878Z",
          "shell.execute_reply.started": "2021-11-12T16:52:04.055604Z"
        },
        "papermill": {
          "duration": 0.228079,
          "end_time": "2021-11-25T04:34:36.991055",
          "exception": false,
          "start_time": "2021-11-25T04:34:36.762976",
          "status": "completed"
        },
        "tags": [],
        "id": "xKJ_QdecFHcN"
      },
      "outputs": [],
      "source": [
        "fig = make_subplots(rows=1,cols=1)\n",
        "\n",
        "fig.add_trace(go.Box(y=df['Total_Trans_Amt']\n",
        "      , name=\"Precompiled Quartiles\"))\n",
        "\n",
        "fig.update_layout(title={'y':0.9,\n",
        "                         'x':0.5,\n",
        "                         'xanchor': 'center',\n",
        "                         'yanchor': 'top'},\n",
        "                  template='plotly_white')\n",
        "fig.update_yaxes(range=[0,20000])\n",
        "iplot(fig)"
      ],
      "id": "xKJ_QdecFHcN"
    },
    {
      "cell_type": "code",
      "execution_count": null,
      "metadata": {
        "_kg_hide-input": true,
        "execution": {
          "iopub.execute_input": "2021-11-25T04:34:37.344906Z",
          "iopub.status.busy": "2021-11-25T04:34:37.344347Z",
          "iopub.status.idle": "2021-11-25T04:34:37.414579Z",
          "shell.execute_reply": "2021-11-25T04:34:37.415153Z",
          "shell.execute_reply.started": "2021-11-12T16:52:04.129911Z"
        },
        "papermill": {
          "duration": 0.247989,
          "end_time": "2021-11-25T04:34:37.415311",
          "exception": false,
          "start_time": "2021-11-25T04:34:37.167322",
          "status": "completed"
        },
        "tags": [],
        "id": "_AB38JBCFHcO"
      },
      "outputs": [],
      "source": [
        "fig = px.histogram(df, x=\"Total_Trans_Amt\")\n",
        "fig.show()"
      ],
      "id": "_AB38JBCFHcO"
    },
    {
      "cell_type": "code",
      "execution_count": null,
      "metadata": {
        "_kg_hide-input": true,
        "execution": {
          "iopub.execute_input": "2021-11-25T04:34:37.779561Z",
          "iopub.status.busy": "2021-11-25T04:34:37.778859Z",
          "iopub.status.idle": "2021-11-25T04:34:37.848428Z",
          "shell.execute_reply": "2021-11-25T04:34:37.848873Z",
          "shell.execute_reply.started": "2021-11-12T16:52:04.235234Z"
        },
        "papermill": {
          "duration": 0.256523,
          "end_time": "2021-11-25T04:34:37.849070",
          "exception": false,
          "start_time": "2021-11-25T04:34:37.592547",
          "status": "completed"
        },
        "tags": [],
        "id": "Qm3ruDQhFHcO"
      },
      "outputs": [],
      "source": [
        "fig = px.histogram(df, x=\"Total_Trans_Amt\", color =\"Attrition_Flag\", pattern_shape=\"Attrition_Flag\",\n",
        "                   template='plotly_white', barmode='group',color_discrete_sequence={\n",
        "                0: \"#f0f87f\",\n",
        "                1: \"#4696f9\"})\n",
        "\n",
        "\n",
        "fig.update_layout(bargap=0.2)\n",
        "\n",
        "fig.show()"
      ],
      "id": "Qm3ruDQhFHcO"
    },
    {
      "cell_type": "markdown",
      "metadata": {
        "papermill": {
          "duration": 0.177909,
          "end_time": "2021-11-25T04:34:38.205471",
          "exception": false,
          "start_time": "2021-11-25T04:34:38.027562",
          "status": "completed"
        },
        "tags": [],
        "id": "zyY2utHtFHcO"
      },
      "source": [
        "<h1 style=\"color:#323232;font-size:35px;font-family:Georgia;text-align:center;\"><strong>✏️Analysis <strong style=\"color:#2c2bce;font-size:25px;font-family:Georgia;\">The <strong style=\"color:#323232;font-size:35px;font-family:Georgia;\">Total_Trans_Ct\n",
        " <strong style=\"color:#2c2bce;font-size:25px;font-family:Georgia;\">:- </strong></strong></strong></strong></h1>"
      ],
      "id": "zyY2utHtFHcO"
    },
    {
      "cell_type": "code",
      "execution_count": null,
      "metadata": {
        "_kg_hide-input": true,
        "execution": {
          "iopub.execute_input": "2021-11-25T04:34:38.579493Z",
          "iopub.status.busy": "2021-11-25T04:34:38.578489Z",
          "iopub.status.idle": "2021-11-25T04:34:38.621071Z",
          "shell.execute_reply": "2021-11-25T04:34:38.621626Z",
          "shell.execute_reply.started": "2021-11-12T16:52:04.351043Z"
        },
        "papermill": {
          "duration": 0.236672,
          "end_time": "2021-11-25T04:34:38.621787",
          "exception": false,
          "start_time": "2021-11-25T04:34:38.385115",
          "status": "completed"
        },
        "tags": [],
        "id": "G5nIKIO7FHcP"
      },
      "outputs": [],
      "source": [
        "fig = make_subplots(rows=1,cols=1)\n",
        "\n",
        "fig.add_trace(go.Box(y=df['Total_Trans_Ct']\n",
        "      , name=\"Precompiled Quartiles\"))\n",
        "\n",
        "fig.update_layout(title={'y':0.9,\n",
        "                         'x':0.5,\n",
        "                         'xanchor': 'center',\n",
        "                         'yanchor': 'top'},\n",
        "                  template='plotly_white')\n",
        "fig.update_yaxes(range=[0,150])\n",
        "iplot(fig)"
      ],
      "id": "G5nIKIO7FHcP"
    },
    {
      "cell_type": "code",
      "execution_count": null,
      "metadata": {
        "_kg_hide-input": true,
        "execution": {
          "iopub.execute_input": "2021-11-25T04:34:38.986661Z",
          "iopub.status.busy": "2021-11-25T04:34:38.986062Z",
          "iopub.status.idle": "2021-11-25T04:34:39.056663Z",
          "shell.execute_reply": "2021-11-25T04:34:39.057111Z",
          "shell.execute_reply.started": "2021-11-12T16:52:04.428686Z"
        },
        "papermill": {
          "duration": 0.254122,
          "end_time": "2021-11-25T04:34:39.057275",
          "exception": false,
          "start_time": "2021-11-25T04:34:38.803153",
          "status": "completed"
        },
        "tags": [],
        "id": "lUOMo9FaFHcP"
      },
      "outputs": [],
      "source": [
        "fig = px.histogram(df, x=\"Total_Trans_Ct\")\n",
        "fig.show()"
      ],
      "id": "lUOMo9FaFHcP"
    },
    {
      "cell_type": "code",
      "execution_count": null,
      "metadata": {
        "_kg_hide-input": true,
        "execution": {
          "iopub.execute_input": "2021-11-25T04:34:39.422370Z",
          "iopub.status.busy": "2021-11-25T04:34:39.421440Z",
          "iopub.status.idle": "2021-11-25T04:34:39.515388Z",
          "shell.execute_reply": "2021-11-25T04:34:39.516120Z",
          "shell.execute_reply.started": "2021-11-12T16:52:04.539958Z"
        },
        "papermill": {
          "duration": 0.277842,
          "end_time": "2021-11-25T04:34:39.516532",
          "exception": false,
          "start_time": "2021-11-25T04:34:39.238690",
          "status": "completed"
        },
        "tags": [],
        "id": "pBQosSHvFHcP"
      },
      "outputs": [],
      "source": [
        "fig = px.histogram(df, x=\"Total_Trans_Ct\", color =\"Attrition_Flag\", pattern_shape=\"Attrition_Flag\",\n",
        "                   template='plotly_white', barmode='group',color_discrete_sequence={\n",
        "                0: \"#f0f87f\",\n",
        "                1: \"#4696f9\"})\n",
        "\n",
        "\n",
        "fig.update_layout(bargap=0.2)\n",
        "\n",
        "fig.show()"
      ],
      "id": "pBQosSHvFHcP"
    },
    {
      "cell_type": "markdown",
      "metadata": {
        "papermill": {
          "duration": 0.187478,
          "end_time": "2021-11-25T04:34:39.907839",
          "exception": false,
          "start_time": "2021-11-25T04:34:39.720361",
          "status": "completed"
        },
        "tags": [],
        "id": "uGslQR0UFHcP"
      },
      "source": [
        "<h1 style=\"color:#323232;font-size:35px;font-family:Georgia;text-align:center;\"><strong>✏️Analysis <strong style=\"color:#2c2bce;font-size:25px;font-family:Georgia;\">The <strong style=\"color:#323232;font-size:35px;font-family:Georgia;\">Total_Ct_Chng_Q4_Q1\n",
        " <strong style=\"color:#2c2bce;font-size:25px;font-family:Georgia;\">:- </strong></strong></strong></strong></h1>"
      ],
      "id": "uGslQR0UFHcP"
    },
    {
      "cell_type": "code",
      "execution_count": null,
      "metadata": {
        "_kg_hide-input": true,
        "execution": {
          "iopub.execute_input": "2021-11-25T04:34:40.289005Z",
          "iopub.status.busy": "2021-11-25T04:34:40.288102Z",
          "iopub.status.idle": "2021-11-25T04:34:40.337629Z",
          "shell.execute_reply": "2021-11-25T04:34:40.338089Z",
          "shell.execute_reply.started": "2021-11-12T16:52:04.66225Z"
        },
        "papermill": {
          "duration": 0.242005,
          "end_time": "2021-11-25T04:34:40.338249",
          "exception": false,
          "start_time": "2021-11-25T04:34:40.096244",
          "status": "completed"
        },
        "tags": [],
        "id": "tcvuAgBeFHcP"
      },
      "outputs": [],
      "source": [
        "fig = make_subplots(rows=1,cols=1)\n",
        "\n",
        "fig.add_trace(go.Box(y=df['Total_Ct_Chng_Q4_Q1']\n",
        "      , name=\"Precompiled Quartiles\"))\n",
        "\n",
        "fig.update_layout(title={'y':0.9,\n",
        "                         'x':0.5,\n",
        "                         'xanchor': 'center',\n",
        "                         'yanchor': 'top'},\n",
        "                  template='plotly_white')\n",
        "fig.update_yaxes(range=[0,6])\n",
        "iplot(fig)"
      ],
      "id": "tcvuAgBeFHcP"
    },
    {
      "cell_type": "code",
      "execution_count": null,
      "metadata": {
        "_kg_hide-input": true,
        "execution": {
          "iopub.execute_input": "2021-11-25T04:34:40.728847Z",
          "iopub.status.busy": "2021-11-25T04:34:40.726430Z",
          "iopub.status.idle": "2021-11-25T04:34:40.799708Z",
          "shell.execute_reply": "2021-11-25T04:34:40.800240Z",
          "shell.execute_reply.started": "2021-11-12T16:52:04.742416Z"
        },
        "papermill": {
          "duration": 0.27018,
          "end_time": "2021-11-25T04:34:40.800418",
          "exception": false,
          "start_time": "2021-11-25T04:34:40.530238",
          "status": "completed"
        },
        "tags": [],
        "id": "aiOprX6tFHcQ"
      },
      "outputs": [],
      "source": [
        "fig = px.histogram(df, x=\"Total_Ct_Chng_Q4_Q1\")\n",
        "fig.show()"
      ],
      "id": "aiOprX6tFHcQ"
    },
    {
      "cell_type": "code",
      "execution_count": null,
      "metadata": {
        "_kg_hide-input": true,
        "execution": {
          "iopub.execute_input": "2021-11-25T04:34:41.182557Z",
          "iopub.status.busy": "2021-11-25T04:34:41.181804Z",
          "iopub.status.idle": "2021-11-25T04:34:41.260121Z",
          "shell.execute_reply": "2021-11-25T04:34:41.259483Z",
          "shell.execute_reply.started": "2021-11-12T16:52:05.052554Z"
        },
        "papermill": {
          "duration": 0.271561,
          "end_time": "2021-11-25T04:34:41.260261",
          "exception": false,
          "start_time": "2021-11-25T04:34:40.988700",
          "status": "completed"
        },
        "tags": [],
        "id": "fEalUg3TFHcQ"
      },
      "outputs": [],
      "source": [
        "fig = px.histogram(df, x=\"Total_Ct_Chng_Q4_Q1\", color =\"Attrition_Flag\", pattern_shape=\"Attrition_Flag\",\n",
        "                   template='plotly_white', barmode='group',color_discrete_sequence={\n",
        "                0: \"#f0f87f\",\n",
        "                1: \"#4696f9\"})\n",
        "\n",
        "\n",
        "fig.update_layout(bargap=0.2)\n",
        "\n",
        "fig.show()"
      ],
      "id": "fEalUg3TFHcQ"
    },
    {
      "cell_type": "markdown",
      "metadata": {
        "papermill": {
          "duration": 0.188083,
          "end_time": "2021-11-25T04:34:41.638424",
          "exception": false,
          "start_time": "2021-11-25T04:34:41.450341",
          "status": "completed"
        },
        "tags": [],
        "id": "aL51I6pWFHcQ"
      },
      "source": [
        "<h1 style=\"color:#323232;font-size:35px;font-family:Georgia;text-align:center;\"><strong>✏️Analysis <strong style=\"color:#2c2bce;font-size:25px;font-family:Georgia;\">The <strong style=\"color:#323232;font-size:35px;font-family:Georgia;\">Avg_Utilization_Ratio\n",
        " <strong style=\"color:#2c2bce;font-size:25px;font-family:Georgia;\">:- </strong></strong></strong></strong></h1>\n"
      ],
      "id": "aL51I6pWFHcQ"
    },
    {
      "cell_type": "code",
      "execution_count": null,
      "metadata": {
        "_kg_hide-input": true,
        "execution": {
          "iopub.execute_input": "2021-11-25T04:34:42.123776Z",
          "iopub.status.busy": "2021-11-25T04:34:42.111306Z",
          "iopub.status.idle": "2021-11-25T04:34:42.128504Z",
          "shell.execute_reply": "2021-11-25T04:34:42.128988Z",
          "shell.execute_reply.started": "2021-11-12T16:52:05.172484Z"
        },
        "papermill": {
          "duration": 0.250702,
          "end_time": "2021-11-25T04:34:42.129158",
          "exception": false,
          "start_time": "2021-11-25T04:34:41.878456",
          "status": "completed"
        },
        "tags": [],
        "id": "65Mqa_GQFHcR"
      },
      "outputs": [],
      "source": [
        "fig = make_subplots(rows=1,cols=1)\n",
        "\n",
        "fig.add_trace(go.Box(y=df['Avg_Utilization_Ratio']\n",
        "      , name=\"Precompiled Quartiles\"))\n",
        "\n",
        "fig.update_layout(title={'y':0.9,\n",
        "                         'x':0.5,\n",
        "                         'xanchor': 'center',\n",
        "                         'yanchor': 'top'},\n",
        "                  template='plotly_white')\n",
        "fig.update_yaxes(range=[0,3])\n",
        "iplot(fig)"
      ],
      "id": "65Mqa_GQFHcR"
    },
    {
      "cell_type": "code",
      "execution_count": null,
      "metadata": {
        "_kg_hide-input": true,
        "execution": {
          "iopub.execute_input": "2021-11-25T04:34:42.518035Z",
          "iopub.status.busy": "2021-11-25T04:34:42.517380Z",
          "iopub.status.idle": "2021-11-25T04:34:42.721619Z",
          "shell.execute_reply": "2021-11-25T04:34:42.722099Z",
          "shell.execute_reply.started": "2021-11-12T16:52:05.252444Z"
        },
        "papermill": {
          "duration": 0.398213,
          "end_time": "2021-11-25T04:34:42.722263",
          "exception": false,
          "start_time": "2021-11-25T04:34:42.324050",
          "status": "completed"
        },
        "tags": [],
        "id": "raXKWuXRFHcR"
      },
      "outputs": [],
      "source": [
        "fig = px.histogram(df, x=\"Avg_Utilization_Ratio\")\n",
        "fig.show()"
      ],
      "id": "raXKWuXRFHcR"
    },
    {
      "cell_type": "code",
      "execution_count": null,
      "metadata": {
        "_kg_hide-input": true,
        "execution": {
          "iopub.execute_input": "2021-11-25T04:34:43.124010Z",
          "iopub.status.busy": "2021-11-25T04:34:43.123359Z",
          "iopub.status.idle": "2021-11-25T04:34:43.199978Z",
          "shell.execute_reply": "2021-11-25T04:34:43.199482Z",
          "shell.execute_reply.started": "2021-11-12T16:52:05.367248Z"
        },
        "papermill": {
          "duration": 0.278492,
          "end_time": "2021-11-25T04:34:43.200111",
          "exception": false,
          "start_time": "2021-11-25T04:34:42.921619",
          "status": "completed"
        },
        "tags": [],
        "id": "FZldK0lEFHcR"
      },
      "outputs": [],
      "source": [
        "fig = px.histogram(df, x=\"Avg_Utilization_Ratio\", color =\"Attrition_Flag\", pattern_shape=\"Attrition_Flag\",\n",
        "                   template='plotly_white', barmode='group',color_discrete_sequence={\n",
        "                0: \"#f0f87f\",\n",
        "                1: \"#4696f9\"})\n",
        "\n",
        "\n",
        "fig.update_layout(bargap=0.2)\n",
        "\n",
        "fig.show()"
      ],
      "id": "FZldK0lEFHcR"
    },
    {
      "cell_type": "markdown",
      "metadata": {
        "papermill": {
          "duration": 0.192558,
          "end_time": "2021-11-25T04:34:43.586216",
          "exception": false,
          "start_time": "2021-11-25T04:34:43.393658",
          "status": "completed"
        },
        "tags": [],
        "id": "5Sg-exJCFHcS"
      },
      "source": [
        "\n",
        "\n",
        "<h1 style=\"color:#323232;font-size:35px;font-family:Georgia;text-align:center;\"><strong>What <strong style=\"color:#2c2bce;font-size:25px;font-family:Georgia;\">Is <strong style=\"color:#323232;font-size:35px;font-family:Georgia;\">Categorical\n",
        " <strong style=\"color:#2c2bce;font-size:25px;font-family:Georgia;\">Data <strong style=\"color:#323232;font-size:35px;font-family:Georgia;\">? </strong></strong></strong></strong></strong></h1>\n",
        " \n",
        " \n",
        " <p style= \"font-family:Georgia;color:#000000;font-size:110%;text-align:center;border-radius:10px 10px;border-style: dotted;border-width:5px;border-color:#2c2bce;\"><br>\n",
        "    First, let's be clear about what is categorical data : Categorical data represent characteristics such as a person’s gender, marital status, hometown, or the types of movies they like. Categorical data can take on numerical values (such as “1” indicating male and “2” indicating female), but those numbers don’t have mathematical meaning. You couldn’t add them together, for example. Statisticians also call categorical data , qualitative data.<br>\n",
        "<br>\n",
        "    <b>Two Types of Categorical Data : Nominal Data & Ordinal Data</b><br>\n",
        "<br>There are basic set of stats & figures we use as presented below.<br>\n",
        "<br>\n",
        "<b>Number of observations:-</b><br>\n",
        "--Cardinality : How many categories are there?<br>\n",
        "--What are the diffrent categories?<br>\n",
        "--What is the mot common category?<br>\n",
        "--Values counts for each category.<br>\n",
        "--Values percentages for each category.<br>\n",
        "--How to ? life is much easier when what you want is only few code lines away. There are few basic things that we can do,<br>\n",
        "    <br>\n",
        "Peek at data : everybody loves to look at what they work on..<br>\n",
        "Descriptive statistics summary<br>\n",
        "Value count plots.<br>\n",
        "Pie Graph for precentages of each category.<br>\n",
        "   <br>\n",
        "    <b>Categorical Features Are:-['Gender', 'Education_Level', 'Marital_Status', 'Income_Category', 'Card_Category']<br></b>\n",
        "    <br></p>"
      ],
      "id": "5Sg-exJCFHcS"
    },
    {
      "cell_type": "markdown",
      "metadata": {
        "papermill": {
          "duration": 0.198923,
          "end_time": "2021-11-25T04:34:43.979444",
          "exception": false,
          "start_time": "2021-11-25T04:34:43.780521",
          "status": "completed"
        },
        "tags": [],
        "id": "2V0jLwOBFHcS"
      },
      "source": [
        "<a id=\"9\"></a>\n",
        "<h1 style=\"color:#323232;font-size:55px;font-family:Georgia;text-align:center;\">🕵🏻‍♂️<strong>EDA <strong style=\"color:#2c2bce;font-size:40px;font-family:Georgia;\">& <strong style=\"color:#323232;font-size:55px;font-family:Georgia;\">Visualization <strong style=\"color:#2c2bce;font-size:40px;font-family:Georgia;\">On <strong style=\"color:#323232;font-size:55px;font-family:Georgia;\">Categorical <strong style=\"color:#2c2bce;font-size:40px;font-family:Georgia;\">Analysis </strong></strong></strong></strong></strong></strong></h1>"
      ],
      "id": "2V0jLwOBFHcS"
    },
    {
      "cell_type": "code",
      "execution_count": null,
      "metadata": {
        "_kg_hide-input": true,
        "execution": {
          "iopub.execute_input": "2021-11-25T04:34:44.378087Z",
          "iopub.status.busy": "2021-11-25T04:34:44.374890Z",
          "iopub.status.idle": "2021-11-25T04:34:44.392732Z",
          "shell.execute_reply": "2021-11-25T04:34:44.393216Z",
          "shell.execute_reply.started": "2021-11-12T16:52:05.485689Z"
        },
        "papermill": {
          "duration": 0.217621,
          "end_time": "2021-11-25T04:34:44.393383",
          "exception": false,
          "start_time": "2021-11-25T04:34:44.175762",
          "status": "completed"
        },
        "tags": [],
        "id": "w-ZZ95AsFHcS"
      },
      "outputs": [],
      "source": [
        "# list of categorical variables............\n",
        "cat_features = [feature for feature in df.columns if df[feature].dtypes == 'O']\n",
        "\n",
        "print('Number of categorical variables: ', len(cat_features))\n",
        "print(\"\\n\")\n",
        "print('Categorical variables column name:',cat_features)\n",
        "print(\"\\n\")\n",
        "# visualise the numerical variables........\n",
        "df[cat_features].head().style.set_properties(**{\"background-color\": \"black\",\"color\": \"white\", \"border-color\": \"black\",\"font-size\":\"11.5pt\",'width': 200})"
      ],
      "id": "w-ZZ95AsFHcS"
    },
    {
      "cell_type": "markdown",
      "metadata": {
        "papermill": {
          "duration": 0.197565,
          "end_time": "2021-11-25T04:34:44.789870",
          "exception": false,
          "start_time": "2021-11-25T04:34:44.592305",
          "status": "completed"
        },
        "tags": [],
        "id": "rn0cl4D2FHcT"
      },
      "source": [
        "<h1 style=\"color:#323232;font-size:35px;font-family:Georgia;text-align:center;\"><strong>✏️Analysis <strong style=\"color:#2c2bce;font-size:25px;font-family:Georgia;\">The <strong style=\"color:#323232;font-size:35px;font-family:Georgia;\">Gender\n",
        " <strong style=\"color:#2c2bce;font-size:25px;font-family:Georgia;\">:- </strong></strong></strong></strong></h1>\n"
      ],
      "id": "rn0cl4D2FHcT"
    },
    {
      "cell_type": "code",
      "execution_count": null,
      "metadata": {
        "execution": {
          "iopub.execute_input": "2021-11-25T04:34:45.185580Z",
          "iopub.status.busy": "2021-11-25T04:34:45.185028Z",
          "iopub.status.idle": "2021-11-25T04:34:45.195150Z",
          "shell.execute_reply": "2021-11-25T04:34:45.195582Z",
          "shell.execute_reply.started": "2021-11-12T16:52:05.512912Z"
        },
        "papermill": {
          "duration": 0.209928,
          "end_time": "2021-11-25T04:34:45.195750",
          "exception": false,
          "start_time": "2021-11-25T04:34:44.985822",
          "status": "completed"
        },
        "tags": [],
        "id": "AgAwxT2_FHca"
      },
      "outputs": [],
      "source": [
        "df_nunique = {var: pd.DataFrame(df['Gender'].value_counts()) \n",
        "              for var in {'Gender'}}\n",
        "multi_table([ df_nunique['Gender'].style.set_properties(**{\"background-color\": \"black\",\"color\": \"white\", \"border-color\": \"black\",\"font-size\":\"11.5pt\",'width': 200})])\n"
      ],
      "id": "AgAwxT2_FHca"
    },
    {
      "cell_type": "code",
      "execution_count": null,
      "metadata": {
        "_kg_hide-input": true,
        "execution": {
          "iopub.execute_input": "2021-11-25T04:34:45.589917Z",
          "iopub.status.busy": "2021-11-25T04:34:45.589019Z",
          "iopub.status.idle": "2021-11-25T04:34:45.645530Z",
          "shell.execute_reply": "2021-11-25T04:34:45.645949Z",
          "shell.execute_reply.started": "2021-11-12T16:52:05.531017Z"
        },
        "papermill": {
          "duration": 0.254776,
          "end_time": "2021-11-25T04:34:45.646116",
          "exception": false,
          "start_time": "2021-11-25T04:34:45.391340",
          "status": "completed"
        },
        "tags": [],
        "id": "Fgcv8tnPFHcb"
      },
      "outputs": [],
      "source": [
        "fig = make_subplots(rows=1,cols=1)\n",
        "Colors = ['#0078d7','#16c60c','#f03a17','#00f8d7','#f0f87f','#f0595c']\n",
        "fig.add_trace(go.Bar(y = df['Gender'].value_counts().values.tolist(), \n",
        "                      x = df['Gender'].value_counts().index, \n",
        "                      text=df['Gender'].value_counts().values.tolist(),\n",
        "              textfont=dict(size=15),\n",
        "                      textposition = 'outside',\n",
        "                      showlegend=False,\n",
        "              marker = dict(color = Colors,\n",
        "                            line_color = 'black',\n",
        "                            line_width=3)),row = 1,col = 1)\n",
        "\n",
        "fig.update_layout(title={'y':0.9,\n",
        "                         'x':0.5,\n",
        "                         'xanchor': 'center',\n",
        "                         'yanchor': 'top'},\n",
        "                  template='plotly_white')\n",
        "fig.update_yaxes(range=[0,8000])\n",
        "iplot(fig)"
      ],
      "id": "Fgcv8tnPFHcb"
    },
    {
      "cell_type": "code",
      "execution_count": null,
      "metadata": {
        "_kg_hide-input": true,
        "execution": {
          "iopub.execute_input": "2021-11-25T04:34:46.051585Z",
          "iopub.status.busy": "2021-11-25T04:34:46.048707Z",
          "iopub.status.idle": "2021-11-25T04:34:46.150136Z",
          "shell.execute_reply": "2021-11-25T04:34:46.150585Z",
          "shell.execute_reply.started": "2021-11-12T16:52:05.618838Z"
        },
        "papermill": {
          "duration": 0.306429,
          "end_time": "2021-11-25T04:34:46.150744",
          "exception": false,
          "start_time": "2021-11-25T04:34:45.844315",
          "status": "completed"
        },
        "tags": [],
        "id": "UzRrUDSbFHcb"
      },
      "outputs": [],
      "source": [
        "fig = px.histogram(df, x=\"Gender\", color =\"Attrition_Flag\", pattern_shape=\"Attrition_Flag\",\n",
        "                   template='plotly_white', barmode='group',color_discrete_sequence={\n",
        "                0: \"#f0f87f\",\n",
        "                1: \"#4696f9\"})\n",
        "\n",
        "\n",
        "fig.update_layout(bargap=0.2)\n",
        "\n",
        "fig.show()"
      ],
      "id": "UzRrUDSbFHcb"
    },
    {
      "cell_type": "markdown",
      "metadata": {
        "papermill": {
          "duration": 0.197154,
          "end_time": "2021-11-25T04:34:46.543956",
          "exception": false,
          "start_time": "2021-11-25T04:34:46.346802",
          "status": "completed"
        },
        "tags": [],
        "id": "q32H2MtTFHcc"
      },
      "source": [
        "\n",
        "<h1 style=\"color:#323232;font-size:35px;font-family:Georgia;text-align:center;\"><strong>✏️Analysis <strong style=\"color:#2c2bce;font-size:25px;font-family:Georgia;\">The <strong style=\"color:#323232;font-size:35px;font-family:Georgia;\">Education_Level\n",
        " <strong style=\"color:#2c2bce;font-size:25px;font-family:Georgia;\">:- </strong></strong></strong></strong></h1>\n"
      ],
      "id": "q32H2MtTFHcc"
    },
    {
      "cell_type": "code",
      "execution_count": null,
      "metadata": {
        "execution": {
          "iopub.execute_input": "2021-11-25T04:34:46.943017Z",
          "iopub.status.busy": "2021-11-25T04:34:46.942371Z",
          "iopub.status.idle": "2021-11-25T04:34:46.953237Z",
          "shell.execute_reply": "2021-11-25T04:34:46.952781Z",
          "shell.execute_reply.started": "2021-11-12T16:52:05.781782Z"
        },
        "papermill": {
          "duration": 0.212502,
          "end_time": "2021-11-25T04:34:46.953380",
          "exception": false,
          "start_time": "2021-11-25T04:34:46.740878",
          "status": "completed"
        },
        "tags": [],
        "id": "JA3yn4MYFHcc"
      },
      "outputs": [],
      "source": [
        "df_nunique = {var: pd.DataFrame(df['Education_Level'].value_counts()) \n",
        "              for var in {'Education_Level'}}\n",
        "multi_table([ df_nunique['Education_Level'].style.set_properties(**{\"background-color\": \"black\",\"color\": \"white\", \"border-color\": \"black\",\"font-size\":\"11.5pt\",'width': 200})])\n"
      ],
      "id": "JA3yn4MYFHcc"
    },
    {
      "cell_type": "code",
      "execution_count": null,
      "metadata": {
        "_kg_hide-input": true,
        "execution": {
          "iopub.execute_input": "2021-11-25T04:34:47.382970Z",
          "iopub.status.busy": "2021-11-25T04:34:47.382320Z",
          "iopub.status.idle": "2021-11-25T04:34:47.420224Z",
          "shell.execute_reply": "2021-11-25T04:34:47.420661Z",
          "shell.execute_reply.started": "2021-11-12T16:52:05.798964Z"
        },
        "papermill": {
          "duration": 0.263361,
          "end_time": "2021-11-25T04:34:47.420830",
          "exception": false,
          "start_time": "2021-11-25T04:34:47.157469",
          "status": "completed"
        },
        "tags": [],
        "id": "9n-rpVZnFHcc"
      },
      "outputs": [],
      "source": [
        "fig = make_subplots(rows=1,cols=1)\n",
        "Colors = ['#0078d7','#16c60c','#f03a17','#00f8d7','#f0f87f','#f0595c']\n",
        "fig.add_trace(go.Bar(y = df['Education_Level'].value_counts().values.tolist(), \n",
        "                      x = df['Education_Level'].value_counts().index, \n",
        "                      text=df['Education_Level'].value_counts().values.tolist(),\n",
        "              textfont=dict(size=15),\n",
        "                      textposition = 'outside',\n",
        "                      showlegend=False,\n",
        "              marker = dict(color = Colors,\n",
        "                            line_color = 'black',\n",
        "                            line_width=3)),row = 1,col = 1)\n",
        "\n",
        "fig.update_layout(title={'y':0.9,\n",
        "                         'x':0.5,\n",
        "                         'xanchor': 'center',\n",
        "                         'yanchor': 'top'},\n",
        "                  template='plotly_white')\n",
        "fig.update_yaxes(range=[0,4000])\n",
        "iplot(fig)"
      ],
      "id": "9n-rpVZnFHcc"
    },
    {
      "cell_type": "code",
      "execution_count": null,
      "metadata": {
        "_kg_hide-input": true,
        "execution": {
          "iopub.execute_input": "2021-11-25T04:34:47.829725Z",
          "iopub.status.busy": "2021-11-25T04:34:47.827579Z",
          "iopub.status.idle": "2021-11-25T04:34:47.926666Z",
          "shell.execute_reply": "2021-11-25T04:34:47.927183Z",
          "shell.execute_reply.started": "2021-11-12T16:52:05.895871Z"
        },
        "papermill": {
          "duration": 0.307574,
          "end_time": "2021-11-25T04:34:47.927356",
          "exception": false,
          "start_time": "2021-11-25T04:34:47.619782",
          "status": "completed"
        },
        "tags": [],
        "id": "idso_HIQFHcd"
      },
      "outputs": [],
      "source": [
        "fig = px.histogram(df, x=\"Education_Level\", color =\"Attrition_Flag\", pattern_shape=\"Attrition_Flag\",\n",
        "                   template='plotly_white', barmode='group',color_discrete_sequence={\n",
        "                0: \"#f0f87f\",\n",
        "                1: \"#4696f9\"})\n",
        "\n",
        "fig.update_layout(bargap=0.2)\n",
        "\n",
        "fig.show()"
      ],
      "id": "idso_HIQFHcd"
    },
    {
      "cell_type": "markdown",
      "metadata": {
        "papermill": {
          "duration": 0.217111,
          "end_time": "2021-11-25T04:34:48.349095",
          "exception": false,
          "start_time": "2021-11-25T04:34:48.131984",
          "status": "completed"
        },
        "tags": [],
        "id": "iF5DR2meFHcd"
      },
      "source": [
        "<h1 style=\"color:#323232;font-size:35px;font-family:Georgia;text-align:center;\"><strong>✏️Analysis <strong style=\"color:#2c2bce;font-size:25px;font-family:Georgia;\">The <strong style=\"color:#323232;font-size:35px;font-family:Georgia;\">Marital_Status\n",
        " <strong style=\"color:#2c2bce;font-size:25px;font-family:Georgia;\">:- </strong></strong></strong></strong></h1>"
      ],
      "id": "iF5DR2meFHcd"
    },
    {
      "cell_type": "code",
      "execution_count": null,
      "metadata": {
        "execution": {
          "iopub.execute_input": "2021-11-25T04:34:48.769780Z",
          "iopub.status.busy": "2021-11-25T04:34:48.764105Z",
          "iopub.status.idle": "2021-11-25T04:34:48.772539Z",
          "shell.execute_reply": "2021-11-25T04:34:48.772954Z",
          "shell.execute_reply.started": "2021-11-12T16:52:06.0606Z"
        },
        "papermill": {
          "duration": 0.220521,
          "end_time": "2021-11-25T04:34:48.773122",
          "exception": false,
          "start_time": "2021-11-25T04:34:48.552601",
          "status": "completed"
        },
        "tags": [],
        "id": "vn0LX491FHcd"
      },
      "outputs": [],
      "source": [
        "df_nunique = {var: pd.DataFrame(df['Marital_Status'].value_counts()) \n",
        "              for var in {'Marital_Status'}}\n",
        "multi_table([ df_nunique['Marital_Status'].style.set_properties(**{\"background-color\": \"black\",\"color\": \"white\", \"border-color\": \"black\",\"font-size\":\"11.5pt\",'width': 200})])\n"
      ],
      "id": "vn0LX491FHcd"
    },
    {
      "cell_type": "code",
      "execution_count": null,
      "metadata": {
        "_kg_hide-input": true,
        "execution": {
          "iopub.execute_input": "2021-11-25T04:34:49.190451Z",
          "iopub.status.busy": "2021-11-25T04:34:49.189781Z",
          "iopub.status.idle": "2021-11-25T04:34:49.248878Z",
          "shell.execute_reply": "2021-11-25T04:34:49.248419Z",
          "shell.execute_reply.started": "2021-11-12T16:52:06.078435Z"
        },
        "papermill": {
          "duration": 0.268408,
          "end_time": "2021-11-25T04:34:49.249043",
          "exception": false,
          "start_time": "2021-11-25T04:34:48.980635",
          "status": "completed"
        },
        "tags": [],
        "id": "Kx_uaEInFHce"
      },
      "outputs": [],
      "source": [
        "fig = make_subplots(rows=1,cols=1)\n",
        "Colors = ['#0078d7','#16c60c','#f03a17','#00f8d7','#f0f87f','#f0595c']\n",
        "fig.add_trace(go.Bar(y = df['Marital_Status'].value_counts().values.tolist(), \n",
        "                      x = df['Marital_Status'].value_counts().index, \n",
        "                      text=df['Marital_Status'].value_counts().values.tolist(),\n",
        "              textfont=dict(size=15),\n",
        "                      textposition = 'outside',\n",
        "                      showlegend=False,\n",
        "              marker = dict(color = Colors,\n",
        "                            line_color = 'black',\n",
        "                            line_width=3)),row = 1,col = 1)\n",
        "\n",
        "fig.update_layout(title={'y':0.9,\n",
        "                         'x':0.5,\n",
        "                         'xanchor': 'center',\n",
        "                         'yanchor': 'top'},\n",
        "                  template='plotly_white')\n",
        "fig.update_yaxes(range=[0,5000])\n",
        "iplot(fig)"
      ],
      "id": "Kx_uaEInFHce"
    },
    {
      "cell_type": "code",
      "execution_count": null,
      "metadata": {
        "_kg_hide-input": true,
        "execution": {
          "iopub.execute_input": "2021-11-25T04:34:49.668356Z",
          "iopub.status.busy": "2021-11-25T04:34:49.663093Z",
          "iopub.status.idle": "2021-11-25T04:34:49.766331Z",
          "shell.execute_reply": "2021-11-25T04:34:49.766792Z",
          "shell.execute_reply.started": "2021-11-12T16:52:06.169505Z"
        },
        "papermill": {
          "duration": 0.311559,
          "end_time": "2021-11-25T04:34:49.766977",
          "exception": false,
          "start_time": "2021-11-25T04:34:49.455418",
          "status": "completed"
        },
        "tags": [],
        "id": "GOH4ZbkaFHce"
      },
      "outputs": [],
      "source": [
        "fig = px.histogram(df, x=\"Marital_Status\", color =\"Attrition_Flag\", pattern_shape=\"Attrition_Flag\",\n",
        "                   template='plotly_white', barmode='group',color_discrete_sequence={\n",
        "                0: \"#f0f87f\",\n",
        "                1: \"#4696f9\"})\n",
        "\n",
        "fig.update_layout(bargap=0.2)\n",
        "\n",
        "fig.show()"
      ],
      "id": "GOH4ZbkaFHce"
    },
    {
      "cell_type": "markdown",
      "metadata": {
        "papermill": {
          "duration": 0.208827,
          "end_time": "2021-11-25T04:34:50.185329",
          "exception": false,
          "start_time": "2021-11-25T04:34:49.976502",
          "status": "completed"
        },
        "tags": [],
        "id": "6cFempl1FHce"
      },
      "source": [
        "<h1 style=\"color:#323232;font-size:35px;font-family:Georgia;text-align:center;\"><strong>✏️Analysis <strong style=\"color:#2c2bce;font-size:25px;font-family:Georgia;\">The <strong style=\"color:#323232;font-size:35px;font-family:Georgia;\">Income_Category\n",
        " <strong style=\"color:#2c2bce;font-size:25px;font-family:Georgia;\">:- </strong></strong></strong></strong></h1>"
      ],
      "id": "6cFempl1FHce"
    },
    {
      "cell_type": "code",
      "execution_count": null,
      "metadata": {
        "execution": {
          "iopub.execute_input": "2021-11-25T04:34:50.635407Z",
          "iopub.status.busy": "2021-11-25T04:34:50.634755Z",
          "iopub.status.idle": "2021-11-25T04:34:50.645159Z",
          "shell.execute_reply": "2021-11-25T04:34:50.645605Z",
          "shell.execute_reply.started": "2021-11-12T16:52:06.33286Z"
        },
        "papermill": {
          "duration": 0.251653,
          "end_time": "2021-11-25T04:34:50.645765",
          "exception": false,
          "start_time": "2021-11-25T04:34:50.394112",
          "status": "completed"
        },
        "tags": [],
        "id": "pmMHgD1zFHcf"
      },
      "outputs": [],
      "source": [
        "df_nunique = {var: pd.DataFrame(df['Income_Category'].value_counts()) \n",
        "              for var in {'Income_Category'}}\n",
        "multi_table([ df_nunique['Income_Category'].style.set_properties(**{\"background-color\": \"black\",\"color\": \"white\", \"border-color\": \"black\",\"font-size\":\"11.5pt\",'width': 200})])\n"
      ],
      "id": "pmMHgD1zFHcf"
    },
    {
      "cell_type": "code",
      "execution_count": null,
      "metadata": {
        "_kg_hide-input": true,
        "execution": {
          "iopub.execute_input": "2021-11-25T04:34:51.074521Z",
          "iopub.status.busy": "2021-11-25T04:34:51.073851Z",
          "iopub.status.idle": "2021-11-25T04:34:51.131667Z",
          "shell.execute_reply": "2021-11-25T04:34:51.131188Z",
          "shell.execute_reply.started": "2021-11-12T16:52:06.353428Z"
        },
        "papermill": {
          "duration": 0.274912,
          "end_time": "2021-11-25T04:34:51.131797",
          "exception": false,
          "start_time": "2021-11-25T04:34:50.856885",
          "status": "completed"
        },
        "tags": [],
        "id": "W6h6Pq-2FHcf"
      },
      "outputs": [],
      "source": [
        "fig = make_subplots(rows=1,cols=1)\n",
        "Colors = ['#0078d7','#16c60c','#f03a17','#00f8d7','#f0f87f','#f0595c']\n",
        "fig.add_trace(go.Bar(y = df['Income_Category'].value_counts().values.tolist(), \n",
        "                      x = df['Income_Category'].value_counts().index, \n",
        "                      text=df['Income_Category'].value_counts().values.tolist(),\n",
        "              textfont=dict(size=15),\n",
        "                      textposition = 'outside',\n",
        "                      showlegend=False,\n",
        "              marker = dict(color = Colors,\n",
        "                            line_color = 'black',\n",
        "                            line_width=3)),row = 1,col = 1)\n",
        "\n",
        "fig.update_layout(title={'y':0.9,\n",
        "                         'x':0.5,\n",
        "                         'xanchor': 'center',\n",
        "                         'yanchor': 'top'},\n",
        "                  template='plotly_white')\n",
        "fig.update_yaxes(range=[0,4000])\n",
        "iplot(fig)"
      ],
      "id": "W6h6Pq-2FHcf"
    },
    {
      "cell_type": "code",
      "execution_count": null,
      "metadata": {
        "_kg_hide-input": true,
        "execution": {
          "iopub.execute_input": "2021-11-25T04:34:51.563549Z",
          "iopub.status.busy": "2021-11-25T04:34:51.551702Z",
          "iopub.status.idle": "2021-11-25T04:34:51.658906Z",
          "shell.execute_reply": "2021-11-25T04:34:51.659379Z",
          "shell.execute_reply.started": "2021-11-12T16:52:06.442065Z"
        },
        "papermill": {
          "duration": 0.319815,
          "end_time": "2021-11-25T04:34:51.659542",
          "exception": false,
          "start_time": "2021-11-25T04:34:51.339727",
          "status": "completed"
        },
        "tags": [],
        "id": "HleWK3bjFHcf"
      },
      "outputs": [],
      "source": [
        "fig = px.histogram(df, x=\"Income_Category\", color =\"Attrition_Flag\", pattern_shape=\"Attrition_Flag\",\n",
        "                   template='plotly_white', barmode='group',color_discrete_sequence={\n",
        "                0: \"#f0f87f\",\n",
        "                1: \"#4696f9\"})\n",
        "\n",
        "fig.update_layout(bargap=0.2)\n",
        "\n",
        "fig.show()"
      ],
      "id": "HleWK3bjFHcf"
    },
    {
      "cell_type": "markdown",
      "metadata": {
        "papermill": {
          "duration": 0.214964,
          "end_time": "2021-11-25T04:34:52.092612",
          "exception": false,
          "start_time": "2021-11-25T04:34:51.877648",
          "status": "completed"
        },
        "tags": [],
        "id": "sZN8APFKFHcf"
      },
      "source": [
        "<h1 style=\"color:#323232;font-size:35px;font-family:Georgia;text-align:center;\"><strong>✏️Analysis <strong style=\"color:#2c2bce;font-size:25px;font-family:Georgia;\">The <strong style=\"color:#323232;font-size:35px;font-family:Georgia;\">Card_Category\n",
        " <strong style=\"color:#2c2bce;font-size:25px;font-family:Georgia;\">:- </strong></strong></strong></strong></h1>"
      ],
      "id": "sZN8APFKFHcf"
    },
    {
      "cell_type": "code",
      "execution_count": null,
      "metadata": {
        "execution": {
          "iopub.execute_input": "2021-11-25T04:34:52.532548Z",
          "iopub.status.busy": "2021-11-25T04:34:52.531904Z",
          "iopub.status.idle": "2021-11-25T04:34:52.534952Z",
          "shell.execute_reply": "2021-11-25T04:34:52.535352Z",
          "shell.execute_reply.started": "2021-11-12T16:52:06.610367Z"
        },
        "papermill": {
          "duration": 0.227465,
          "end_time": "2021-11-25T04:34:52.535511",
          "exception": false,
          "start_time": "2021-11-25T04:34:52.308046",
          "status": "completed"
        },
        "tags": [],
        "id": "QpDfpSxnFHcg"
      },
      "outputs": [],
      "source": [
        "df_nunique = {var: pd.DataFrame(df['Card_Category'].value_counts()) \n",
        "              for var in {'Card_Category'}}\n",
        "multi_table([ df_nunique['Card_Category'].style.set_properties(**{\"background-color\": \"black\",\"color\": \"white\", \"border-color\": \"black\",\"font-size\":\"11.5pt\",'width': 200})])\n"
      ],
      "id": "QpDfpSxnFHcg"
    },
    {
      "cell_type": "code",
      "execution_count": null,
      "metadata": {
        "_kg_hide-input": true,
        "execution": {
          "iopub.execute_input": "2021-11-25T04:34:52.971347Z",
          "iopub.status.busy": "2021-11-25T04:34:52.970182Z",
          "iopub.status.idle": "2021-11-25T04:34:53.029600Z",
          "shell.execute_reply": "2021-11-25T04:34:53.029090Z",
          "shell.execute_reply.started": "2021-11-12T16:52:06.628259Z"
        },
        "papermill": {
          "duration": 0.279567,
          "end_time": "2021-11-25T04:34:53.029733",
          "exception": false,
          "start_time": "2021-11-25T04:34:52.750166",
          "status": "completed"
        },
        "tags": [],
        "id": "a56NExMtFHcg"
      },
      "outputs": [],
      "source": [
        "fig = make_subplots(rows=1,cols=1)\n",
        "Colors = ['#0078d7','#16c60c','#f03a17','#00f8d7','#f0f87f','#f0595c']\n",
        "fig.add_trace(go.Bar(y = df['Card_Category'].value_counts().values.tolist(), \n",
        "                      x = df['Card_Category'].value_counts().index, \n",
        "                      text=df['Card_Category'].value_counts().values.tolist(),\n",
        "              textfont=dict(size=15),\n",
        "                      textposition = 'outside',\n",
        "                      showlegend=False,\n",
        "              marker = dict(color = Colors,\n",
        "                            line_color = 'black',\n",
        "                            line_width=3)),row = 1,col = 1)\n",
        "\n",
        "fig.update_layout(title={'y':0.9,\n",
        "                         'x':0.5,\n",
        "                         'xanchor': 'center',\n",
        "                         'yanchor': 'top'},\n",
        "                  template='plotly_white')\n",
        "fig.update_yaxes(range=[0,10000])\n",
        "iplot(fig)"
      ],
      "id": "a56NExMtFHcg"
    },
    {
      "cell_type": "code",
      "execution_count": null,
      "metadata": {
        "_kg_hide-input": true,
        "execution": {
          "iopub.execute_input": "2021-11-25T04:34:53.464926Z",
          "iopub.status.busy": "2021-11-25T04:34:53.464292Z",
          "iopub.status.idle": "2021-11-25T04:34:53.567256Z",
          "shell.execute_reply": "2021-11-25T04:34:53.567705Z",
          "shell.execute_reply.started": "2021-11-12T16:52:06.714236Z"
        },
        "papermill": {
          "duration": 0.323758,
          "end_time": "2021-11-25T04:34:53.567864",
          "exception": false,
          "start_time": "2021-11-25T04:34:53.244106",
          "status": "completed"
        },
        "tags": [],
        "id": "f3Xbq0UGFHcg"
      },
      "outputs": [],
      "source": [
        "fig = px.histogram(df, x=\"Card_Category\", color =\"Attrition_Flag\", pattern_shape=\"Attrition_Flag\",\n",
        "                   template='plotly_white', barmode='group',color_discrete_sequence={\n",
        "                0: \"#f0f87f\",\n",
        "                1: \"#4696f9\"})\n",
        "\n",
        "fig.update_layout(bargap=0.2)\n",
        "\n",
        "fig.show()"
      ],
      "id": "f3Xbq0UGFHcg"
    },
    {
      "cell_type": "markdown",
      "metadata": {
        "papermill": {
          "duration": 0.217936,
          "end_time": "2021-11-25T04:34:54.004908",
          "exception": false,
          "start_time": "2021-11-25T04:34:53.786972",
          "status": "completed"
        },
        "tags": [],
        "id": "XkSUb-pqFHch"
      },
      "source": [
        "<a id=\"10\"></a>\n",
        "<h1 style=\"color:#323232;font-size:55px;font-family:Georgia;text-align:center;\">🎯<strong>Visualize <strong style=\"color:#2c2bce;font-size:40px;font-family:Georgia;\">The <strong style=\"color:#323232;font-size:55px;font-family:Georgia;\">Correlation <strong style=\"color:#2c2bce;font-size:40px;font-family:Georgia;\">Between <strong style=\"color:#323232;font-size:55px;font-family:Georgia;\">Dependent <strong style=\"color:#2c2bce;font-size:40px;font-family:Georgia;\">And <strong style=\"color:#323232;font-size:55px;font-family:Georgia;\">Independent <strong style=\"color:#323232;font-size:55px;font-family:Georgia;\">Dependent <strong style=\"color:#2c2bce;font-size:40px;font-family:Georgia;\">Features</strong></strong></strong></strong></strong></strong></strong></strong></strong></h1>"
      ],
      "id": "XkSUb-pqFHch"
    },
    {
      "cell_type": "code",
      "execution_count": null,
      "metadata": {
        "execution": {
          "iopub.execute_input": "2021-11-25T04:34:54.447846Z",
          "iopub.status.busy": "2021-11-25T04:34:54.446600Z",
          "iopub.status.idle": "2021-11-25T04:34:56.059355Z",
          "shell.execute_reply": "2021-11-25T04:34:56.059803Z",
          "shell.execute_reply.started": "2021-11-12T16:52:06.875511Z"
        },
        "papermill": {
          "duration": 1.835028,
          "end_time": "2021-11-25T04:34:56.059986",
          "exception": false,
          "start_time": "2021-11-25T04:34:54.224958",
          "status": "completed"
        },
        "tags": [],
        "id": "UI7KU5D2FHch"
      },
      "outputs": [],
      "source": [
        "corrmat = df.corr()\n",
        "top_corr_features = corrmat.index\n",
        "\n",
        "plt.figure(figsize=(20,15))\n",
        "\n",
        "#plot heat map\n",
        "g=sns.heatmap(df[top_corr_features].corr(),annot=True,cmap=\"Blues\",linewidths=3.5,\n",
        "    linecolor='white')"
      ],
      "id": "UI7KU5D2FHch"
    },
    {
      "cell_type": "code",
      "execution_count": null,
      "metadata": {
        "execution": {
          "iopub.execute_input": "2021-11-25T04:34:56.534485Z",
          "iopub.status.busy": "2021-11-25T04:34:56.533796Z",
          "iopub.status.idle": "2021-11-25T04:34:56.978551Z",
          "shell.execute_reply": "2021-11-25T04:34:56.979210Z",
          "shell.execute_reply.started": "2021-11-12T16:52:08.739825Z"
        },
        "papermill": {
          "duration": 0.694507,
          "end_time": "2021-11-25T04:34:56.979390",
          "exception": false,
          "start_time": "2021-11-25T04:34:56.284883",
          "status": "completed"
        },
        "tags": [],
        "id": "JrEimsMmFHch"
      },
      "outputs": [],
      "source": [
        "import matplotlib\n",
        "background_color = \"#f6f6f6\"\n",
        "\n",
        "fig = plt.figure(figsize=(44,18), facecolor=background_color)\n",
        "gs = fig.add_gridspec(1, 1)\n",
        "ax0 = fig.add_subplot(gs[0, 0])\n",
        "colors = [\"#0078d7\"]\n",
        "colormap = matplotlib.colors.LinearSegmentedColormap.from_list(\"\", colors)\n",
        "\n",
        "ax0.set_facecolor(background_color)\n",
        "ax0.text(-1.1, 1.25, 'Correlation of Numerical Features with Target', fontsize=20, fontweight='bold')\n",
        "\n",
        "chart_df = pd.DataFrame(df.corrwith(df['Attrition_Flag']))\n",
        "chart_df.columns = ['corr']\n",
        "sns.barplot(x=chart_df.index, y=chart_df['corr'], ax=ax0, color='#0078d7', zorder=3, edgecolor='black', linewidth=3)\n",
        "ax0.grid(which='major', axis='x', zorder=0, color='#EEEEEE', linewidth=0.4)\n",
        "ax0.grid(which='major', axis='y', zorder=0, color='#EEEEEE', linewidth=0.4)\n",
        "ax0.set_ylabel('')\n",
        "\n",
        "for s in [\"top\",\"right\", 'left']:\n",
        "    ax0.spines[s].set_visible(False)\n",
        "\n",
        "plt.show()"
      ],
      "id": "JrEimsMmFHch"
    },
    {
      "cell_type": "markdown",
      "metadata": {
        "papermill": {
          "duration": 0.224525,
          "end_time": "2021-11-25T04:34:57.431369",
          "exception": false,
          "start_time": "2021-11-25T04:34:57.206844",
          "status": "completed"
        },
        "tags": [],
        "id": "hTEF7eoNFHci"
      },
      "source": [
        "<a id=\"11\"></a>\n",
        "<h1 style=\"color:#323232;font-size:55px;font-family:Georgia;text-align:center;\">🎲<strong>Encoding <strong style=\"color:#2c2bce;font-size:40px;font-family:Georgia;\">The <strong style=\"color:#323232;font-size:55px;font-family:Georgia;\">Categorical <strong style=\"color:#2c2bce;font-size:40px;font-family:Georgia;\">Features</strong></strong></strong></strong></h1>"
      ],
      "id": "hTEF7eoNFHci"
    },
    {
      "cell_type": "code",
      "execution_count": null,
      "metadata": {
        "execution": {
          "iopub.execute_input": "2021-11-25T04:34:57.889994Z",
          "iopub.status.busy": "2021-11-25T04:34:57.889384Z",
          "iopub.status.idle": "2021-11-25T04:34:57.904345Z",
          "shell.execute_reply": "2021-11-25T04:34:57.905418Z",
          "shell.execute_reply.started": "2021-11-12T16:52:09.519278Z"
        },
        "papermill": {
          "duration": 0.248214,
          "end_time": "2021-11-25T04:34:57.905658",
          "exception": false,
          "start_time": "2021-11-25T04:34:57.657444",
          "status": "completed"
        },
        "tags": [],
        "id": "5zvrXnbLFHci"
      },
      "outputs": [],
      "source": [
        "#Now one hot encoding\n",
        "df_new=pd.get_dummies(df, columns=['Gender', 'Education_Level', 'Marital_Status', 'Income_Category', 'Card_Category'],drop_first=False)\n",
        "print(df_new.shape)"
      ],
      "id": "5zvrXnbLFHci"
    },
    {
      "cell_type": "code",
      "execution_count": null,
      "metadata": {
        "execution": {
          "iopub.execute_input": "2021-11-25T04:34:58.364915Z",
          "iopub.status.busy": "2021-11-25T04:34:58.364296Z",
          "iopub.status.idle": "2021-11-25T04:34:58.368969Z",
          "shell.execute_reply": "2021-11-25T04:34:58.369493Z",
          "shell.execute_reply.started": "2021-11-12T16:52:09.545139Z"
        },
        "papermill": {
          "duration": 0.233242,
          "end_time": "2021-11-25T04:34:58.369652",
          "exception": false,
          "start_time": "2021-11-25T04:34:58.136410",
          "status": "completed"
        },
        "tags": [],
        "id": "DUeZUaANFHci"
      },
      "outputs": [],
      "source": [
        "df_new.columns"
      ],
      "id": "DUeZUaANFHci"
    },
    {
      "cell_type": "code",
      "execution_count": null,
      "metadata": {
        "_kg_hide-input": true,
        "execution": {
          "iopub.execute_input": "2021-11-25T04:34:58.818827Z",
          "iopub.status.busy": "2021-11-25T04:34:58.818213Z",
          "iopub.status.idle": "2021-11-25T04:34:58.869227Z",
          "shell.execute_reply": "2021-11-25T04:34:58.868687Z",
          "shell.execute_reply.started": "2021-11-12T16:52:09.555369Z"
        },
        "papermill": {
          "duration": 0.27706,
          "end_time": "2021-11-25T04:34:58.869366",
          "exception": false,
          "start_time": "2021-11-25T04:34:58.592306",
          "status": "completed"
        },
        "tags": [],
        "id": "eC_MTwwGFHci"
      },
      "outputs": [],
      "source": [
        "#Rearrangement of the columns......\n",
        "df = df_new[[ 'Dependent_count', 'Total_Relationship_Count',\n",
        "       'Months_Inactive_12_mon', 'Contacts_Count_12_mon', 'Credit_Limit',\n",
        "       'Total_Revolving_Bal', 'Avg_Open_To_Buy', 'Total_Amt_Chng_Q4_Q1',\n",
        "       'Total_Trans_Amt', 'Total_Trans_Ct', 'Total_Ct_Chng_Q4_Q1',\n",
        "       'Avg_Utilization_Ratio', 'Age', 'Bank_Relationship_Period', 'Gender_F',\n",
        "       'Gender_M', 'Education_Level_College', 'Education_Level_Doctorate',\n",
        "       'Education_Level_Graduate', 'Education_Level_High School',\n",
        "       'Education_Level_Post-Graduate', 'Education_Level_Uneducated',\n",
        "       'Education_Level_Unknown', 'Marital_Status_Divorced',\n",
        "       'Marital_Status_Married', 'Marital_Status_Single',\n",
        "       'Marital_Status_Unknown', 'Income_Category_$120K +',\n",
        "       'Income_Category_$40K - $60K', 'Income_Category_$60K - $80K',\n",
        "       'Income_Category_$80K - $120K', 'Income_Category_Less than $40K',\n",
        "       'Income_Category_Unknown', 'Card_Category_Blue', 'Card_Category_Gold',\n",
        "       'Card_Category_Platinum', 'Card_Category_Silver','Attrition_Flag']]\n",
        "df.head(2).style.set_properties(**{\"background-color\": \"black\",\"color\": \"white\", \"border-color\": \"black\",\"font-size\":\"11.5pt\",'width': 200})"
      ],
      "id": "eC_MTwwGFHci"
    },
    {
      "cell_type": "markdown",
      "metadata": {
        "papermill": {
          "duration": 0.226899,
          "end_time": "2021-11-25T04:34:59.325435",
          "exception": false,
          "start_time": "2021-11-25T04:34:59.098536",
          "status": "completed"
        },
        "tags": [],
        "id": "OW1d-OwBFHcj"
      },
      "source": [
        "<a id=\"12\"></a>\n",
        "<h1 style=\"color:#323232;font-size:55px;font-family:Georgia;text-align:center;\">📐<strong>Scaling <strong style=\"color:#2c2bce;font-size:40px;font-family:Georgia;\">The <strong style=\"color:#323232;font-size:55px;font-family:Georgia;\">Dataset</strong></strong></strong></h1>"
      ],
      "id": "OW1d-OwBFHcj"
    },
    {
      "cell_type": "code",
      "execution_count": null,
      "metadata": {
        "execution": {
          "iopub.execute_input": "2021-11-25T04:34:59.784144Z",
          "iopub.status.busy": "2021-11-25T04:34:59.783495Z",
          "iopub.status.idle": "2021-11-25T04:34:59.799978Z",
          "shell.execute_reply": "2021-11-25T04:34:59.799450Z",
          "shell.execute_reply.started": "2021-11-12T16:52:09.622692Z"
        },
        "papermill": {
          "duration": 0.247035,
          "end_time": "2021-11-25T04:34:59.800124",
          "exception": false,
          "start_time": "2021-11-25T04:34:59.553089",
          "status": "completed"
        },
        "tags": [],
        "id": "VwWN1aJsFHcj"
      },
      "outputs": [],
      "source": [
        "from sklearn.preprocessing import MinMaxScaler\n",
        "scaler = MinMaxScaler()\n",
        "scaler.fit_transform(df.drop('Attrition_Flag',axis=1))\n",
        "scaled_features = scaler.transform(df.drop('Attrition_Flag',axis=1))"
      ],
      "id": "VwWN1aJsFHcj"
    },
    {
      "cell_type": "code",
      "execution_count": null,
      "metadata": {
        "execution": {
          "iopub.execute_input": "2021-11-25T04:35:00.259422Z",
          "iopub.status.busy": "2021-11-25T04:35:00.258778Z",
          "iopub.status.idle": "2021-11-25T04:35:00.307510Z",
          "shell.execute_reply": "2021-11-25T04:35:00.307923Z",
          "shell.execute_reply.started": "2021-11-12T16:52:09.64822Z"
        },
        "papermill": {
          "duration": 0.27951,
          "end_time": "2021-11-25T04:35:00.308110",
          "exception": false,
          "start_time": "2021-11-25T04:35:00.028600",
          "status": "completed"
        },
        "tags": [],
        "id": "3oz-9F1AFHcj"
      },
      "outputs": [],
      "source": [
        "scaled_features = pd.DataFrame(scaled_features, columns = df.columns[:-1])\n",
        "scaled_features.head().style.set_properties(**{\"background-color\": \"black\",\"color\": \"white\", \"border-color\": \"black\",\"font-size\":\"11.5pt\",'width': 200})"
      ],
      "id": "3oz-9F1AFHcj"
    },
    {
      "cell_type": "markdown",
      "metadata": {
        "papermill": {
          "duration": 0.227166,
          "end_time": "2021-11-25T04:35:00.763132",
          "exception": false,
          "start_time": "2021-11-25T04:35:00.535966",
          "status": "completed"
        },
        "tags": [],
        "id": "9gB2BCcmFHck"
      },
      "source": [
        "<a id=\"13\"></a>\n",
        "<h1 style=\"color:#323232;font-size:55px;font-family:Georgia;text-align:center;\">✂️<strong>Split <strong style=\"color:#2c2bce;font-size:40px;font-family:Georgia;\">The <strong style=\"color:#323232;font-size:55px;font-family:Georgia;\">Features <strong>Into <strong style=\"color:#2c2bce;font-size:40px;font-family:Georgia;\">Training <strong style=\"color:#323232;font-size:55px;font-family:Georgia;\">& <strong>Into <strong style=\"color:#2c2bce;font-size:40px;font-family:Georgia;\">Testing <strong style=\"color:#323232;font-size:55px;font-family:Georgia;\">Dataset</strong></strong></strong></strong></strong></strong></strong></strong></strong></h1>"
      ],
      "id": "9gB2BCcmFHck"
    },
    {
      "cell_type": "code",
      "execution_count": null,
      "metadata": {
        "execution": {
          "iopub.execute_input": "2021-11-25T04:35:01.228075Z",
          "iopub.status.busy": "2021-11-25T04:35:01.227495Z",
          "iopub.status.idle": "2021-11-25T04:35:01.230731Z",
          "shell.execute_reply": "2021-11-25T04:35:01.231270Z",
          "shell.execute_reply.started": "2021-11-12T16:52:09.715218Z"
        },
        "papermill": {
          "duration": 0.238362,
          "end_time": "2021-11-25T04:35:01.231438",
          "exception": false,
          "start_time": "2021-11-25T04:35:00.993076",
          "status": "completed"
        },
        "tags": [],
        "id": "VoacWosYFHck"
      },
      "outputs": [],
      "source": [
        "X = scaled_features\n",
        "y = df['Attrition_Flag']"
      ],
      "id": "VoacWosYFHck"
    },
    {
      "cell_type": "code",
      "execution_count": null,
      "metadata": {
        "execution": {
          "iopub.execute_input": "2021-11-25T04:35:01.725865Z",
          "iopub.status.busy": "2021-11-25T04:35:01.725273Z",
          "iopub.status.idle": "2021-11-25T04:35:01.779185Z",
          "shell.execute_reply": "2021-11-25T04:35:01.779647Z",
          "shell.execute_reply.started": "2021-11-12T16:52:09.725882Z"
        },
        "papermill": {
          "duration": 0.314603,
          "end_time": "2021-11-25T04:35:01.779824",
          "exception": false,
          "start_time": "2021-11-25T04:35:01.465221",
          "status": "completed"
        },
        "tags": [],
        "id": "DObx6TVVFHct"
      },
      "outputs": [],
      "source": [
        "from sklearn.model_selection import train_test_split\n",
        "X_train, X_test, y_train, y_test = train_test_split(X,y,test_size = 0.30,random_state = 0)"
      ],
      "id": "DObx6TVVFHct"
    },
    {
      "cell_type": "markdown",
      "metadata": {
        "papermill": {
          "duration": 0.230738,
          "end_time": "2021-11-25T04:35:02.240771",
          "exception": false,
          "start_time": "2021-11-25T04:35:02.010033",
          "status": "completed"
        },
        "tags": [],
        "id": "cWOqilP-FHct"
      },
      "source": [
        "<a id=\"14\"></a>\n",
        "<h1 style=\"color:#323232;font-size:55px;font-family:Georgia;text-align:center;\">📊<strong>Visualize <strong style=\"color:#2c2bce;font-size:40px;font-family:Georgia;\">Model <strong style=\"color:#323232;font-size:55px;font-family:Georgia;\">Score </strong></strong></strong></h1>"
      ],
      "id": "cWOqilP-FHct"
    },
    {
      "cell_type": "code",
      "execution_count": null,
      "metadata": {
        "execution": {
          "iopub.execute_input": "2021-11-25T04:35:02.706654Z",
          "iopub.status.busy": "2021-11-25T04:35:02.705962Z",
          "iopub.status.idle": "2021-11-25T04:35:02.937054Z",
          "shell.execute_reply": "2021-11-25T04:35:02.936499Z",
          "shell.execute_reply.started": "2021-11-12T16:52:09.802547Z"
        },
        "papermill": {
          "duration": 0.466656,
          "end_time": "2021-11-25T04:35:02.937202",
          "exception": false,
          "start_time": "2021-11-25T04:35:02.470546",
          "status": "completed"
        },
        "tags": [],
        "id": "ZBYDPj7XFHct"
      },
      "outputs": [],
      "source": [
        "from sklearn.ensemble import RandomForestClassifier ,AdaBoostClassifier,BaggingClassifier,ExtraTreesClassifier,GradientBoostingClassifier\n",
        "from sklearn.model_selection import GridSearchCV, cross_val_score, StratifiedKFold, learning_curve ,KFold\n",
        "from sklearn.metrics import roc_curve,accuracy_score,f1_score,auc,confusion_matrix,roc_auc_score,plot_confusion_matrix\n",
        "from xgboost.sklearn import XGBClassifier\n",
        "from sklearn.metrics import classification_report,confusion_matrix,accuracy_score\n",
        "from sklearn.tree import DecisionTreeClassifier"
      ],
      "id": "ZBYDPj7XFHct"
    },
    {
      "cell_type": "code",
      "execution_count": null,
      "metadata": {
        "execution": {
          "iopub.execute_input": "2021-11-25T04:35:03.402169Z",
          "iopub.status.busy": "2021-11-25T04:35:03.401409Z",
          "iopub.status.idle": "2021-11-25T04:35:19.521319Z",
          "shell.execute_reply": "2021-11-25T04:35:19.521737Z",
          "shell.execute_reply.started": "2021-11-12T16:52:10.128954Z"
        },
        "papermill": {
          "duration": 16.35313,
          "end_time": "2021-11-25T04:35:19.521914",
          "exception": false,
          "start_time": "2021-11-25T04:35:03.168784",
          "status": "completed"
        },
        "tags": [],
        "id": "yq5VHCkAFHct"
      },
      "outputs": [],
      "source": [
        "# =============================================================================\n",
        "# Cross validation on differnet set of algorithm!!!\n",
        "# =============================================================================\n",
        "################################################################\n",
        "kfold = StratifiedKFold(n_splits=8,shuffle=True, random_state=42)\n",
        "\n",
        "\n",
        "rs = 15\n",
        "clrs = []\n",
        "\n",
        "clrs.append(AdaBoostClassifier(random_state=rs))\n",
        "clrs.append(GradientBoostingClassifier(random_state=rs))\n",
        "clrs.append(RandomForestClassifier(random_state=rs))\n",
        "clrs.append(ExtraTreesClassifier(random_state = rs))\n",
        "clrs.append(DecisionTreeClassifier(random_state = rs))\n",
        "\n",
        "cv_results = []\n",
        "for clr in clrs :\n",
        "    cv_results.append(cross_val_score(clr, X_train, y_train , scoring = 'accuracy', cv = kfold, n_jobs=-1))\n",
        "\n",
        "cv_means = []\n",
        "cv_std = []\n",
        "for cv_result in cv_results:\n",
        "    cv_means.append(cv_result.mean())\n",
        "    cv_std.append(cv_result.std())\n",
        "    \n",
        "cv_df = pd.DataFrame({\"CrossVal_Score_Means\":cv_means,\"CrossValerrors\": cv_std,\"Algo\":[\"RandomForestClassifier\",\"AdaBoostClassifier\",\"Gradient Boosting\",'ExtraTreesClassifier','DecisionTreeClassifier']})\n",
        "g = sns.barplot(\"CrossVal_Score_Means\",\"Algo\",data = cv_df,orient = \"h\",**{'xerr':cv_std},color = '#0078d7')\n",
        "g.set_xlabel(\"Mean Accuracy\",fontsize = 18)\n",
        "g = g.set_title(\"Cross validation scores\",fontsize = 24)\n",
        "plt.figure(figsize = (12,8))\n",
        "print(cv_df)"
      ],
      "id": "yq5VHCkAFHct"
    },
    {
      "cell_type": "code",
      "execution_count": null,
      "metadata": {
        "execution": {
          "iopub.execute_input": "2021-11-25T04:35:19.984739Z",
          "iopub.status.busy": "2021-11-25T04:35:19.983794Z",
          "iopub.status.idle": "2021-11-25T04:35:20.063824Z",
          "shell.execute_reply": "2021-11-25T04:35:20.063297Z",
          "shell.execute_reply.started": "2021-11-12T16:52:27.913975Z"
        },
        "papermill": {
          "duration": 0.314421,
          "end_time": "2021-11-25T04:35:20.063989",
          "exception": false,
          "start_time": "2021-11-25T04:35:19.749568",
          "status": "completed"
        },
        "tags": [],
        "id": "TSvCLfUWFHcu"
      },
      "outputs": [],
      "source": [
        "from sklearn.tree import DecisionTreeClassifier\n",
        "dtc = DecisionTreeClassifier()\n",
        "dtc.fit(X_train, y_train)\n",
        "y_pred = dtc.predict(X_test)"
      ],
      "id": "TSvCLfUWFHcu"
    },
    {
      "cell_type": "code",
      "execution_count": null,
      "metadata": {
        "execution": {
          "iopub.execute_input": "2021-11-25T04:35:20.523697Z",
          "iopub.status.busy": "2021-11-25T04:35:20.522799Z",
          "iopub.status.idle": "2021-11-25T04:35:20.530591Z",
          "shell.execute_reply": "2021-11-25T04:35:20.530148Z",
          "shell.execute_reply.started": "2021-11-12T16:52:28.012662Z"
        },
        "papermill": {
          "duration": 0.239733,
          "end_time": "2021-11-25T04:35:20.530724",
          "exception": false,
          "start_time": "2021-11-25T04:35:20.290991",
          "status": "completed"
        },
        "tags": [],
        "id": "WvyFZ3RKFHcu"
      },
      "outputs": [],
      "source": [
        "confusion_matrix(y_test, y_pred)"
      ],
      "id": "WvyFZ3RKFHcu"
    },
    {
      "cell_type": "code",
      "execution_count": null,
      "metadata": {
        "execution": {
          "iopub.execute_input": "2021-11-25T04:35:20.992878Z",
          "iopub.status.busy": "2021-11-25T04:35:20.992321Z",
          "iopub.status.idle": "2021-11-25T04:35:21.005121Z",
          "shell.execute_reply": "2021-11-25T04:35:21.005541Z",
          "shell.execute_reply.started": "2021-11-12T16:52:28.029168Z"
        },
        "papermill": {
          "duration": 0.245423,
          "end_time": "2021-11-25T04:35:21.005707",
          "exception": false,
          "start_time": "2021-11-25T04:35:20.760284",
          "status": "completed"
        },
        "tags": [],
        "id": "kSKhhRiEFHcu"
      },
      "outputs": [],
      "source": [
        "print(classification_report(y_test, y_pred))"
      ],
      "id": "kSKhhRiEFHcu"
    },
    {
      "cell_type": "code",
      "execution_count": null,
      "metadata": {
        "execution": {
          "iopub.execute_input": "2021-11-25T04:35:21.470768Z",
          "iopub.status.busy": "2021-11-25T04:35:21.470206Z",
          "iopub.status.idle": "2021-11-25T04:35:21.475149Z",
          "shell.execute_reply": "2021-11-25T04:35:21.474634Z",
          "shell.execute_reply.started": "2021-11-12T16:52:28.047621Z"
        },
        "papermill": {
          "duration": 0.236831,
          "end_time": "2021-11-25T04:35:21.475286",
          "exception": false,
          "start_time": "2021-11-25T04:35:21.238455",
          "status": "completed"
        },
        "tags": [],
        "id": "hO1VO27lFHcv"
      },
      "outputs": [],
      "source": [
        "print(accuracy_score(y_test, y_pred))"
      ],
      "id": "hO1VO27lFHcv"
    },
    {
      "cell_type": "markdown",
      "metadata": {
        "papermill": {
          "duration": 0.23044,
          "end_time": "2021-11-25T04:35:21.933668",
          "exception": false,
          "start_time": "2021-11-25T04:35:21.703228",
          "status": "completed"
        },
        "tags": [],
        "id": "9nqycjNPFHcv"
      },
      "source": [
        "<a id=\"15\"></a>\n",
        "<h1 style=\"color:#323232;font-size:55px;font-family:Georgia;text-align:center;\">♻️<strong>Hyper <strong style=\"color:#2c2bce;font-size:40px;font-family:Georgia;\">Parameter <strong style=\"color:#323232;font-size:55px;font-family:Georgia;\">Tunning</strong></strong></strong></h1>"
      ],
      "id": "9nqycjNPFHcv"
    },
    {
      "cell_type": "markdown",
      "metadata": {
        "_kg_hide-input": false,
        "_kg_hide-output": false,
        "papermill": {
          "duration": 0.229087,
          "end_time": "2021-11-25T04:35:22.393471",
          "exception": false,
          "start_time": "2021-11-25T04:35:22.164384",
          "status": "completed"
        },
        "tags": [],
        "id": "YOkvmrOLFHcv"
      },
      "source": [
        "> "
      ],
      "id": "YOkvmrOLFHcv"
    },
    {
      "cell_type": "code",
      "execution_count": null,
      "metadata": {
        "_kg_hide-input": true,
        "_kg_hide-output": true,
        "execution": {
          "iopub.execute_input": "2021-11-25T04:35:22.862851Z",
          "iopub.status.busy": "2021-11-25T04:35:22.862192Z",
          "iopub.status.idle": "2021-11-25T04:36:03.484336Z",
          "shell.execute_reply": "2021-11-25T04:36:03.483834Z",
          "shell.execute_reply.started": "2021-11-12T16:52:28.056541Z"
        },
        "papermill": {
          "duration": 40.85784,
          "end_time": "2021-11-25T04:36:03.484466",
          "exception": false,
          "start_time": "2021-11-25T04:35:22.626626",
          "status": "completed"
        },
        "tags": [],
        "id": "7APJCTIYFHcy"
      },
      "outputs": [],
      "source": [
        "from sklearn.model_selection import GridSearchCV\n",
        "grid_params = {\n",
        "    'criterion' : ['gini', 'entropy'],\n",
        "    'max_depth' : [3, 5, 7, 10],\n",
        "    'min_samples_split' : range(2, 10, 1),\n",
        "    'min_samples_leaf' : range(2, 10, 1)\n",
        "}\n",
        "\n",
        "grid_search = GridSearchCV(dtc, grid_params, cv = 5, n_jobs = -1, verbose = 1)\n",
        "grid_search.fit(X_train, y_train)"
      ],
      "id": "7APJCTIYFHcy"
    },
    {
      "cell_type": "code",
      "execution_count": null,
      "metadata": {
        "execution": {
          "iopub.execute_input": "2021-11-25T04:36:03.945685Z",
          "iopub.status.busy": "2021-11-25T04:36:03.945110Z",
          "iopub.status.idle": "2021-11-25T04:36:03.950461Z",
          "shell.execute_reply": "2021-11-25T04:36:03.951131Z",
          "shell.execute_reply.started": "2021-11-12T16:53:11.056763Z"
        },
        "papermill": {
          "duration": 0.23812,
          "end_time": "2021-11-25T04:36:03.951296",
          "exception": false,
          "start_time": "2021-11-25T04:36:03.713176",
          "status": "completed"
        },
        "tags": [],
        "id": "KF4WApkgFHcy"
      },
      "outputs": [],
      "source": [
        "dtc = grid_search.best_estimator_\n",
        "y_pred = dtc.predict(X_test)  "
      ],
      "id": "KF4WApkgFHcy"
    },
    {
      "cell_type": "code",
      "execution_count": null,
      "metadata": {
        "execution": {
          "iopub.execute_input": "2021-11-25T04:36:04.418913Z",
          "iopub.status.busy": "2021-11-25T04:36:04.418350Z",
          "iopub.status.idle": "2021-11-25T04:36:04.422686Z",
          "shell.execute_reply": "2021-11-25T04:36:04.423262Z",
          "shell.execute_reply.started": "2021-11-12T16:53:11.066765Z"
        },
        "papermill": {
          "duration": 0.2369,
          "end_time": "2021-11-25T04:36:04.423438",
          "exception": false,
          "start_time": "2021-11-25T04:36:04.186538",
          "status": "completed"
        },
        "tags": [],
        "id": "EB3R7ZwJFHcy"
      },
      "outputs": [],
      "source": [
        "print(accuracy_score(y_test, y_pred))"
      ],
      "id": "EB3R7ZwJFHcy"
    },
    {
      "cell_type": "code",
      "execution_count": null,
      "metadata": {
        "execution": {
          "iopub.execute_input": "2021-11-25T04:36:04.891900Z",
          "iopub.status.busy": "2021-11-25T04:36:04.891324Z",
          "iopub.status.idle": "2021-11-25T04:36:04.895625Z",
          "shell.execute_reply": "2021-11-25T04:36:04.896399Z",
          "shell.execute_reply.started": "2021-11-12T16:53:11.084076Z"
        },
        "papermill": {
          "duration": 0.236488,
          "end_time": "2021-11-25T04:36:04.896613",
          "exception": false,
          "start_time": "2021-11-25T04:36:04.660125",
          "status": "completed"
        },
        "tags": [],
        "id": "7cQ822SxFHcy"
      },
      "outputs": [],
      "source": [
        "# best parameters and best score\n",
        "\n",
        "print(grid_search.best_params_)\n",
        "print(grid_search.best_score_)"
      ],
      "id": "7cQ822SxFHcy"
    },
    {
      "cell_type": "markdown",
      "metadata": {
        "papermill": {
          "duration": 0.232901,
          "end_time": "2021-11-25T04:36:05.365370",
          "exception": false,
          "start_time": "2021-11-25T04:36:05.132469",
          "status": "completed"
        },
        "tags": [],
        "id": "FhdIIupbFHcz"
      },
      "source": [
        "<a id=\"16\"></a>\n",
        "<h1 style=\"color:#323232;font-size:55px;font-family:Georgia;text-align:center;\">🧲<strong>Checking <strong style=\"color:#2c2bce;font-size:40px;font-family:Georgia;\">The <strong style=\"color:#323232;font-size:55px;font-family:Georgia;\">Best <strong style=\"color:#2c2bce;font-size:40px;font-family:Georgia;\">Estimators</strong></strong></strong></strong></h1>"
      ],
      "id": "FhdIIupbFHcz"
    },
    {
      "cell_type": "code",
      "execution_count": null,
      "metadata": {
        "_kg_hide-output": true,
        "execution": {
          "iopub.execute_input": "2021-11-25T04:36:05.831032Z",
          "iopub.status.busy": "2021-11-25T04:36:05.830409Z",
          "iopub.status.idle": "2021-11-25T05:02:58.072095Z",
          "shell.execute_reply": "2021-11-25T05:02:58.071512Z",
          "shell.execute_reply.started": "2021-11-12T16:53:11.097421Z"
        },
        "papermill": {
          "duration": 1612.476173,
          "end_time": "2021-11-25T05:02:58.072373",
          "exception": false,
          "start_time": "2021-11-25T04:36:05.596200",
          "status": "completed"
        },
        "tags": [],
        "id": "XzNq24MGFHcz"
      },
      "outputs": [],
      "source": [
        "ada = AdaBoostClassifier(base_estimator = dtc)\n",
        "\n",
        "parameters = {\n",
        "    'n_estimators' : [50, 70, 90, 120, 180, 200],\n",
        "    'learning_rate' : [0.001, 0.01, 0.1, 1, 10],\n",
        "    'algorithm' : ['SAMME', 'SAMME.R']\n",
        "}\n",
        "\n",
        "grid_search = GridSearchCV(ada, parameters, n_jobs = -1, cv = 10, verbose = 1)\n",
        "grid_search.fit(X_train, y_train)"
      ],
      "id": "XzNq24MGFHcz"
    },
    {
      "cell_type": "code",
      "execution_count": null,
      "metadata": {
        "execution": {
          "iopub.execute_input": "2021-11-25T05:02:58.574147Z",
          "iopub.status.busy": "2021-11-25T05:02:58.573475Z",
          "iopub.status.idle": "2021-11-25T05:02:58.576425Z",
          "shell.execute_reply": "2021-11-25T05:02:58.576853Z",
          "shell.execute_reply.started": "2021-11-12T17:21:13.603619Z"
        },
        "papermill": {
          "duration": 0.252525,
          "end_time": "2021-11-25T05:02:58.577040",
          "exception": false,
          "start_time": "2021-11-25T05:02:58.324515",
          "status": "completed"
        },
        "tags": [],
        "id": "hMeu1im4FHcz"
      },
      "outputs": [],
      "source": [
        "print(grid_search.best_params_)\n",
        "print(grid_search.best_score_)"
      ],
      "id": "hMeu1im4FHcz"
    },
    {
      "cell_type": "markdown",
      "metadata": {
        "papermill": {
          "duration": 0.243952,
          "end_time": "2021-11-25T05:02:59.063697",
          "exception": false,
          "start_time": "2021-11-25T05:02:58.819745",
          "status": "completed"
        },
        "tags": [],
        "id": "4pHyYoWqFHc0"
      },
      "source": [
        "<a id=\"17\"></a>\n",
        "<h1 style=\"color:#323232;font-size:55px;font-family:Georgia;text-align:center;\">🔮<strong>Train <strong style=\"color:#2c2bce;font-size:40px;font-family:Georgia;\">The <strong style=\"color:#323232;font-size:55px;font-family:Georgia;\">Model <strong style=\"color:#2c2bce;font-size:40px;font-family:Georgia;\">With <strong style=\"color:#323232;font-size:55px;font-family:Georgia;\">Best <strong style=\"color:#323232;font-size:55px;font-family:Georgia;\">Hyper <strong style=\"color:#2c2bce;font-size:40px;font-family:Georgia;\">Parameters </strong></strong></strong></strong></strong></strong></strong></h1>"
      ],
      "id": "4pHyYoWqFHc0"
    },
    {
      "cell_type": "code",
      "execution_count": null,
      "metadata": {
        "execution": {
          "iopub.execute_input": "2021-11-25T05:02:59.623724Z",
          "iopub.status.busy": "2021-11-25T05:02:59.622748Z",
          "iopub.status.idle": "2021-11-25T05:03:11.114748Z",
          "shell.execute_reply": "2021-11-25T05:03:11.114274Z",
          "shell.execute_reply.started": "2021-11-12T17:21:13.610973Z"
        },
        "papermill": {
          "duration": 11.789792,
          "end_time": "2021-11-25T05:03:11.114891",
          "exception": false,
          "start_time": "2021-11-25T05:02:59.325099",
          "status": "completed"
        },
        "tags": [],
        "id": "jLkLT6uCFHc0"
      },
      "outputs": [],
      "source": [
        "ada = AdaBoostClassifier(base_estimator = dtc, algorithm = 'SAMME', learning_rate = 1, n_estimators = 120)\n",
        "ada.fit(X_train, y_train)"
      ],
      "id": "jLkLT6uCFHc0"
    },
    {
      "cell_type": "markdown",
      "metadata": {
        "papermill": {
          "duration": 0.244904,
          "end_time": "2021-11-25T05:03:11.608377",
          "exception": false,
          "start_time": "2021-11-25T05:03:11.363473",
          "status": "completed"
        },
        "tags": [],
        "id": "i9FQCNSFFHc0"
      },
      "source": [
        "\n",
        "<a id=\"18\"></a>\n",
        "\n",
        "<h1 style=\"color:#323232;font-size:55px;font-family:Georgia;text-align:center;\">📉<strong>Ploting <strong style=\"color:#2c2bce;font-size:40px;font-family:Georgia;\">The <strong style=\"color:#323232;font-size:55px;font-family:Georgia;\">Confusion <strong style=\"color:#2c2bce;font-size:40px;font-family:Georgia;\">matrix </strong></strong></strong></strong></h1>"
      ],
      "id": "i9FQCNSFFHc0"
    },
    {
      "cell_type": "code",
      "execution_count": null,
      "metadata": {
        "execution": {
          "iopub.execute_input": "2021-11-25T05:03:12.110613Z",
          "iopub.status.busy": "2021-11-25T05:03:12.109982Z",
          "iopub.status.idle": "2021-11-25T05:03:12.395875Z",
          "shell.execute_reply": "2021-11-25T05:03:12.395394Z",
          "shell.execute_reply.started": "2021-11-12T17:21:25.407554Z"
        },
        "papermill": {
          "duration": 0.539276,
          "end_time": "2021-11-25T05:03:12.396034",
          "exception": false,
          "start_time": "2021-11-25T05:03:11.856758",
          "status": "completed"
        },
        "tags": [],
        "id": "sCmGQkceFHc0"
      },
      "outputs": [],
      "source": [
        "plot_confusion_matrix(ada,\n",
        "                      X_test, y_test,\n",
        "                      cmap=plt.cm.Blues,\n",
        "                      display_labels = ['Attritionn_0','Attritionn_1'])\n",
        "plt.grid(False)\n",
        "plt.show();"
      ],
      "id": "sCmGQkceFHc0"
    },
    {
      "cell_type": "code",
      "execution_count": null,
      "metadata": {
        "execution": {
          "iopub.execute_input": "2021-11-25T05:03:12.895710Z",
          "iopub.status.busy": "2021-11-25T05:03:12.894743Z",
          "iopub.status.idle": "2021-11-25T05:03:12.905145Z",
          "shell.execute_reply": "2021-11-25T05:03:12.905638Z",
          "shell.execute_reply.started": "2021-11-12T17:21:25.728351Z"
        },
        "papermill": {
          "duration": 0.263819,
          "end_time": "2021-11-25T05:03:12.905801",
          "exception": false,
          "start_time": "2021-11-25T05:03:12.641982",
          "status": "completed"
        },
        "tags": [],
        "id": "jlgwo_8lFHc1"
      },
      "outputs": [],
      "source": [
        "print(classification_report(y_test, y_pred))"
      ],
      "id": "jlgwo_8lFHc1"
    },
    {
      "cell_type": "code",
      "execution_count": null,
      "metadata": {
        "execution": {
          "iopub.execute_input": "2021-11-25T05:03:13.403623Z",
          "iopub.status.busy": "2021-11-25T05:03:13.402686Z",
          "iopub.status.idle": "2021-11-25T05:03:13.408620Z",
          "shell.execute_reply": "2021-11-25T05:03:13.408182Z",
          "shell.execute_reply.started": "2021-11-12T17:21:25.74814Z"
        },
        "papermill": {
          "duration": 0.255664,
          "end_time": "2021-11-25T05:03:13.408756",
          "exception": false,
          "start_time": "2021-11-25T05:03:13.153092",
          "status": "completed"
        },
        "tags": [],
        "id": "D5ELkcuyFHc6"
      },
      "outputs": [],
      "source": [
        "print(accuracy_score(y_test, y_pred))"
      ],
      "id": "D5ELkcuyFHc6"
    },
    {
      "cell_type": "markdown",
      "metadata": {
        "papermill": {
          "duration": 0.247058,
          "end_time": "2021-11-25T05:03:13.901843",
          "exception": false,
          "start_time": "2021-11-25T05:03:13.654785",
          "status": "completed"
        },
        "tags": [],
        "id": "TS5c1G9vFHc7"
      },
      "source": [
        "<a id=\"19\"></a>\n",
        "<h1 style=\"color:#323232;font-size:55px;font-family:Georgia;text-align:center;\">📊<strong>Feature <strong style=\"color:#2c2bce;font-size:40px;font-family:Georgia;\">Importance </strong></strong></h1>"
      ],
      "id": "TS5c1G9vFHc7"
    },
    {
      "cell_type": "code",
      "execution_count": null,
      "metadata": {
        "execution": {
          "iopub.execute_input": "2021-11-25T05:03:14.401878Z",
          "iopub.status.busy": "2021-11-25T05:03:14.401259Z",
          "iopub.status.idle": "2021-11-25T05:03:14.410141Z",
          "shell.execute_reply": "2021-11-25T05:03:14.410599Z",
          "shell.execute_reply.started": "2021-11-12T17:21:25.757805Z"
        },
        "papermill": {
          "duration": 0.261786,
          "end_time": "2021-11-25T05:03:14.410764",
          "exception": false,
          "start_time": "2021-11-25T05:03:14.148978",
          "status": "completed"
        },
        "tags": [],
        "id": "7MowRqC0FHc7"
      },
      "outputs": [],
      "source": [
        "feature = pd.Series(ada.feature_importances_, index = X_train.columns).sort_values(ascending = False)\n",
        "print(feature)"
      ],
      "id": "7MowRqC0FHc7"
    },
    {
      "cell_type": "code",
      "execution_count": null,
      "metadata": {
        "execution": {
          "iopub.execute_input": "2021-11-25T05:03:14.919636Z",
          "iopub.status.busy": "2021-11-25T05:03:14.919010Z",
          "iopub.status.idle": "2021-11-25T05:03:15.689273Z",
          "shell.execute_reply": "2021-11-25T05:03:15.688734Z",
          "shell.execute_reply.started": "2021-11-12T17:21:25.777158Z"
        },
        "papermill": {
          "duration": 1.024291,
          "end_time": "2021-11-25T05:03:15.689438",
          "exception": false,
          "start_time": "2021-11-25T05:03:14.665147",
          "status": "completed"
        },
        "tags": [],
        "id": "IkPb2zjzFHc7"
      },
      "outputs": [],
      "source": [
        "plt.figure(figsize = (28,14))\n",
        "sns.barplot(x = feature, y = feature.index,color = '#0078d7')\n",
        "plt.title(\"Feature Importance\")\n",
        "plt.xlabel('Score')\n",
        "plt.ylabel('Features')\n",
        "plt.show()"
      ],
      "id": "IkPb2zjzFHc7"
    },
    {
      "cell_type": "markdown",
      "metadata": {
        "papermill": {
          "duration": 0.255859,
          "end_time": "2021-11-25T05:03:16.197537",
          "exception": false,
          "start_time": "2021-11-25T05:03:15.941678",
          "status": "completed"
        },
        "tags": [],
        "id": "7h1rpLtIFHc7"
      },
      "source": [
        "<a id=\"20\"></a>\n",
        "\n",
        "<h1 style=\"color:#323232;font-size:55px;font-family:Georgia;text-align:center;\">💡<strong>Conclusion</strong></h1>\n",
        "\n",
        "<h2><p style=\"background-color:#FFFFFf;font-family:Georgia;color:#2c2bce;font-size:80%;text-align:center;border-radius:10px 10px;border-style: dotted;border-width:5px;border-color:#323232;\"><br>\n",
        "1.There are 16.07% of customers who have churned.<br>\n",
        "    <br>\n",
        "2.The proportion of gender count is almost equally distributed (52.9% male and 47.1%) compare to proportion of existing and attributed customer count (83.9% and 16.1%) which is highly imbalanced.<br>\n",
        "    <br>\n",
        "3.The proportion of attrited customers by gender there are 14.4% more male than female who have churned.<br>\n",
        "    <br>\n",
        "4.Customers who have churned are highly educated - A high proportion of education level of attrited customer is Graduate level (29.9%), followed by Post-Graduate level (18.8%).<br>\n",
        "    <br>\n",
        "5.A high proportion of marital status of customers who have churned is Married (43.6%), followed by Single (41.1%) compared to Divorced (7.4%) and Unknown (7.9%) status - Marital stuats of the attributed customers are highly clustered in Married status and Single.<br>\n",
        "    <br>\n",
        "6.As you can see from the proportion of income category of attrited customer, it is highly concentrated around $60K - $80K income (37.6%), followed by Less than \"$40K income (16.7%) compare to attrited customers with higher annual income of 80K-120K(14.9%) and over $120K + (11.5%). I assume that customers with higher income doesn't likely to leave their credit card services than meddle-income customer.<br>\n",
        "    <br></p></h2>"
      ],
      "id": "7h1rpLtIFHc7"
    },
    {
      "cell_type": "markdown",
      "metadata": {
        "papermill": {
          "duration": 0.255107,
          "end_time": "2021-11-25T05:03:16.707010",
          "exception": false,
          "start_time": "2021-11-25T05:03:16.451903",
          "status": "completed"
        },
        "tags": [],
        "id": "ODl5o0ixFHc8"
      },
      "source": [
        "<a id=\"21\"></a>\n",
        "<h1 style=\"color:#323232;font-size:55px;font-family:Georgia;text-align:center;\">👏🏻👏🏻<strong>Credits</strong></h1>\n",
        "\n",
        "<h2><p style=\"background-color:#FFFFFf;font-family:Georgia;color:#2c2bce;font-size:80%;text-align:center;border-radius:10px 10px;border-style: dotted;border-width:5px;border-color:#323232;\"><br>\n",
        "❤️ https://www.kaggle.com/sakshigoyal7/credit-card-customers @sakshigoyal7 for the awesome dataset.<br>\n",
        "    <br>\n",
        "    ❤️ https://www.kaggle.com/vivek468/will-the-customer-churn @vivek468 for the amazing notebook.<br>\n",
        "    <br></p></h2>"
      ],
      "id": "ODl5o0ixFHc8"
    },
    {
      "cell_type": "markdown",
      "metadata": {
        "papermill": {
          "duration": 0.254999,
          "end_time": "2021-11-25T05:03:17.212821",
          "exception": false,
          "start_time": "2021-11-25T05:03:16.957822",
          "status": "completed"
        },
        "tags": [],
        "id": "VwC05xfdFHc8"
      },
      "source": [
        "<h1 style=\"color:#323232;font-size:55px;font-family:Georgia;text-align:center;\"><strong>Please <strong style=\"color:#2c2bce;font-size:45px;font-family:Georgia;\">Upvote </strong></strong>🥰🥰</h1>"
      ],
      "id": "VwC05xfdFHc8"
    }
  ],
  "metadata": {
    "kernelspec": {
      "display_name": "Python 3",
      "language": "python",
      "name": "python3"
    },
    "language_info": {
      "codemirror_mode": {
        "name": "ipython",
        "version": 3
      },
      "file_extension": ".py",
      "mimetype": "text/x-python",
      "name": "python",
      "nbconvert_exporter": "python",
      "pygments_lexer": "ipython3",
      "version": "3.8.5"
    },
    "papermill": {
      "default_parameters": {},
      "duration": 1761.560431,
      "end_time": "2021-11-25T05:03:18.483422",
      "environment_variables": {},
      "exception": null,
      "input_path": "__notebook__.ipynb",
      "output_path": "__notebook__.ipynb",
      "parameters": {},
      "start_time": "2021-11-25T04:33:56.922991",
      "version": "2.3.3"
    },
    "colab": {
      "name": "customer-churn.ipynb",
      "provenance": [],
      "collapsed_sections": []
    }
  },
  "nbformat": 4,
  "nbformat_minor": 5
}